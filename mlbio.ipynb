{
 "cells": [
  {
   "cell_type": "markdown",
   "metadata": {},
   "source": [
    "#### Tom Genlis & Arnaud Baradat - SCIA 2024\n",
    "\n",
    "# Kaggle Competition: ML Olympiad - Genome Sequences Classification\n",
    "# Introduction\n",
    "\n",
    "In the realm of genomics, understanding the distinct genetic variations among different species is crucial. One application of this understanding is the classification of DNA sequences, which can, for instance, differentiate between human and gorilla DNA. This analysis aims to investigate various machine learning approaches to classify given DNA sequences into one of these two categories, leveraging a dataset provided in the Kaggle competition, [ML Olympiad - Genome Sequences Classification](https://www.kaggle.com/competitions/ml-olympiad-gdscuiz-and-tfugagadir/data).\n",
    "\n",
    "The dataset comprises sequences of DNA, each labeled as either 'human' or 'gorilla'. The primary goal is to build and compare models that can accurately predict these labels based on the DNA sequences. Five different approaches will be explored:\n",
    "- Convolutional Neural Networks (CNN)\n",
    "- Pre-trained BERT model specialized for genomic sequences\n",
    "- Long Short-Term Memory networks (LSTM)\n",
    "- Random Forest\n",
    "- Multi Layer Perceptron (MLP)\n",
    "\n",
    "Through this analysis, we aim to discern which model or combination of models yields the highest accuracy in classifying the DNA sequences. Additionally, we will look into potential improvements and optimizations to enhance the performance of the chosen models."
   ]
  },
  {
   "cell_type": "markdown",
   "metadata": {},
   "source": [
    "---"
   ]
  },
  {
   "cell_type": "code",
   "execution_count": null,
   "metadata": {},
   "outputs": [],
   "source": [
    "!pip install pandas"
   ]
  },
  {
   "cell_type": "markdown",
   "metadata": {},
   "source": [
    "# Dataset\n",
    "The dataset provided in the [ML Olympiad - Genome Sequences Classification competition](https://www.kaggle.com/competitions/ml-olympiad-gdscuiz-and-tfugagadir/data) consists of DNA sequences labeled as either 'human' or 'gorilla'. In this section, we'll explore the dataset to understand its structure, size, and the distribution of labels. We'll also conduct some preliminary analysis to identify any potential challenges or considerations for the subsequent modeling steps."
   ]
  },
  {
   "cell_type": "code",
   "execution_count": 1,
   "metadata": {
    "execution": {
     "iopub.execute_input": "2023-10-14T16:19:26.567090Z",
     "iopub.status.busy": "2023-10-14T16:19:26.566715Z",
     "iopub.status.idle": "2023-10-14T16:20:20.019700Z",
     "shell.execute_reply": "2023-10-14T16:20:20.018756Z",
     "shell.execute_reply.started": "2023-10-14T16:19:26.567057Z"
    },
    "trusted": true
   },
   "outputs": [
    {
     "data": {
      "text/html": [
       "<div>\n",
       "<style scoped>\n",
       "    .dataframe tbody tr th:only-of-type {\n",
       "        vertical-align: middle;\n",
       "    }\n",
       "\n",
       "    .dataframe tbody tr th {\n",
       "        vertical-align: top;\n",
       "    }\n",
       "\n",
       "    .dataframe thead th {\n",
       "        text-align: right;\n",
       "    }\n",
       "</style>\n",
       "<table border=\"1\" class=\"dataframe\">\n",
       "  <thead>\n",
       "    <tr style=\"text-align: right;\">\n",
       "      <th></th>\n",
       "      <th>Unnamed: 0</th>\n",
       "      <th>id</th>\n",
       "      <th>genome_sequence</th>\n",
       "      <th>species</th>\n",
       "    </tr>\n",
       "  </thead>\n",
       "  <tbody>\n",
       "    <tr>\n",
       "      <th>0</th>\n",
       "      <td>0</td>\n",
       "      <td>11408003</td>\n",
       "      <td>ccacatcccctccagcacctgttgtttcctgactttttaatgattg...</td>\n",
       "      <td>Gorilla_gorilla</td>\n",
       "    </tr>\n",
       "    <tr>\n",
       "      <th>1</th>\n",
       "      <td>1</td>\n",
       "      <td>18639873</td>\n",
       "      <td>tgtttacttgccaatctttgtttagctgtcagagtggcttgctaaa...</td>\n",
       "      <td>Gorilla_gorilla</td>\n",
       "    </tr>\n",
       "    <tr>\n",
       "      <th>2</th>\n",
       "      <td>2</td>\n",
       "      <td>9869298</td>\n",
       "      <td>tctgtgaagaaagacattggtagcttgatggggatgacattgaatc...</td>\n",
       "      <td>Homo_sapiens</td>\n",
       "    </tr>\n",
       "    <tr>\n",
       "      <th>3</th>\n",
       "      <td>3</td>\n",
       "      <td>10762804</td>\n",
       "      <td>ttgtgagaattacgtgagatgatagatttagggactatagaatagt...</td>\n",
       "      <td>Gorilla_gorilla</td>\n",
       "    </tr>\n",
       "    <tr>\n",
       "      <th>4</th>\n",
       "      <td>4</td>\n",
       "      <td>13724428</td>\n",
       "      <td>gcaaaaaataagttgataagttgattgatatgttattagcttaatt...</td>\n",
       "      <td>Gorilla_gorilla</td>\n",
       "    </tr>\n",
       "  </tbody>\n",
       "</table>\n",
       "</div>"
      ],
      "text/plain": [
       "   Unnamed: 0        id                                    genome_sequence  \\\n",
       "0           0  11408003  ccacatcccctccagcacctgttgtttcctgactttttaatgattg...   \n",
       "1           1  18639873  tgtttacttgccaatctttgtttagctgtcagagtggcttgctaaa...   \n",
       "2           2   9869298  tctgtgaagaaagacattggtagcttgatggggatgacattgaatc...   \n",
       "3           3  10762804  ttgtgagaattacgtgagatgatagatttagggactatagaatagt...   \n",
       "4           4  13724428  gcaaaaaataagttgataagttgattgatatgttattagcttaatt...   \n",
       "\n",
       "           species  \n",
       "0  Gorilla_gorilla  \n",
       "1  Gorilla_gorilla  \n",
       "2     Homo_sapiens  \n",
       "3  Gorilla_gorilla  \n",
       "4  Gorilla_gorilla  "
      ]
     },
     "execution_count": 1,
     "metadata": {},
     "output_type": "execute_result"
    }
   ],
   "source": [
    "import pandas as pd\n",
    "\n",
    "# Load the dataset\n",
    "data = pd.read_csv(\"./data/train.csv\")\n",
    "\n",
    "# Display the first few rows of the dataset\n",
    "data.head()"
   ]
  },
  {
   "cell_type": "markdown",
   "metadata": {},
   "source": [
    "Let's lower the row count to speed up the analysis, as we won't use that much data anyway."
   ]
  },
  {
   "cell_type": "code",
   "execution_count": 2,
   "metadata": {
    "execution": {
     "iopub.execute_input": "2023-10-14T16:20:20.021951Z",
     "iopub.status.busy": "2023-10-14T16:20:20.021632Z",
     "iopub.status.idle": "2023-10-14T16:20:21.345840Z",
     "shell.execute_reply": "2023-10-14T16:20:21.344817Z",
     "shell.execute_reply.started": "2023-10-14T16:20:20.021920Z"
    },
    "trusted": true
   },
   "outputs": [],
   "source": [
    "data = data.sample(n=1000000)"
   ]
  },
  {
   "cell_type": "markdown",
   "metadata": {},
   "source": [
    "## Dataset Structure\n",
    "Let's start by examining the structure of the dataset including the number of samples, features, and the distribution of labels."
   ]
  },
  {
   "cell_type": "code",
   "execution_count": 7,
   "metadata": {
    "execution": {
     "iopub.execute_input": "2023-10-14T14:27:21.106036Z",
     "iopub.status.busy": "2023-10-14T14:27:21.105710Z",
     "iopub.status.idle": "2023-10-14T14:27:21.182208Z",
     "shell.execute_reply": "2023-10-14T14:27:21.180844Z",
     "shell.execute_reply.started": "2023-10-14T14:27:21.106009Z"
    },
    "trusted": true
   },
   "outputs": [
    {
     "name": "stdout",
     "output_type": "stream",
     "text": [
      "The dataset contains 1000000 samples and 4 columns.\n"
     ]
    },
    {
     "data": {
      "text/plain": [
       "species\n",
       "Homo_sapiens       0.500214\n",
       "Gorilla_gorilla    0.499786\n",
       "Name: proportion, dtype: float64"
      ]
     },
     "execution_count": 7,
     "metadata": {},
     "output_type": "execute_result"
    }
   ],
   "source": [
    "# Getting the shape of the dataset\n",
    "dataset_shape = data.shape\n",
    "print(\n",
    "    f\"The dataset contains {dataset_shape[0]} samples and {dataset_shape[1]} columns.\"\n",
    ")\n",
    "\n",
    "# Checking the distribution of labels\n",
    "label_distribution = data[\"species\"].value_counts(normalize=True)\n",
    "label_distribution"
   ]
  },
  {
   "cell_type": "markdown",
   "metadata": {},
   "source": [
    "## Preliminary Analysis\n",
    "We'll conduct some preliminary analysis to better understand the characteristics of the DNA sequences. This includes examining the length of the sequences, the distribution of nucleotide bases (A, C, G, T), and any missing or anomalous values."
   ]
  },
  {
   "cell_type": "code",
   "execution_count": 9,
   "metadata": {
    "execution": {
     "iopub.execute_input": "2023-10-14T14:27:42.706241Z",
     "iopub.status.busy": "2023-10-14T14:27:42.705896Z",
     "iopub.status.idle": "2023-10-14T14:27:42.960585Z",
     "shell.execute_reply": "2023-10-14T14:27:42.959597Z",
     "shell.execute_reply.started": "2023-10-14T14:27:42.706216Z"
    },
    "trusted": true
   },
   "outputs": [
    {
     "data": {
      "text/plain": [
       "Unnamed: 0         0\n",
       "id                 0\n",
       "genome_sequence    0\n",
       "species            0\n",
       "dtype: int64"
      ]
     },
     "execution_count": 9,
     "metadata": {},
     "output_type": "execute_result"
    }
   ],
   "source": [
    "# Checking for missing values\n",
    "missing_values = data.isnull().sum()\n",
    "missing_values"
   ]
  },
  {
   "cell_type": "code",
   "execution_count": 10,
   "metadata": {
    "execution": {
     "iopub.execute_input": "2023-10-14T14:27:43.776299Z",
     "iopub.status.busy": "2023-10-14T14:27:43.775962Z",
     "iopub.status.idle": "2023-10-14T14:27:44.223899Z",
     "shell.execute_reply": "2023-10-14T14:27:44.222989Z",
     "shell.execute_reply.started": "2023-10-14T14:27:43.776274Z"
    },
    "trusted": true
   },
   "outputs": [
    {
     "data": {
      "text/plain": [
       "count    1000000.000000\n",
       "mean          79.999977\n",
       "std            0.023000\n",
       "min           57.000000\n",
       "25%           80.000000\n",
       "50%           80.000000\n",
       "75%           80.000000\n",
       "max           80.000000\n",
       "Name: genome_sequence, dtype: float64"
      ]
     },
     "execution_count": 10,
     "metadata": {},
     "output_type": "execute_result"
    }
   ],
   "source": [
    "# Exploring the length of DNA sequences\n",
    "sequence_lengths = data[\"genome_sequence\"].apply(len)\n",
    "sequence_lengths.describe()"
   ]
  },
  {
   "cell_type": "code",
   "execution_count": 17,
   "metadata": {
    "execution": {
     "iopub.execute_input": "2023-10-14T14:43:12.460359Z",
     "iopub.status.busy": "2023-10-14T14:43:12.460023Z",
     "iopub.status.idle": "2023-10-14T14:43:14.160768Z",
     "shell.execute_reply": "2023-10-14T14:43:14.159709Z",
     "shell.execute_reply.started": "2023-10-14T14:43:12.460332Z"
    },
    "trusted": true
   },
   "outputs": [
    {
     "data": {
      "text/plain": [
       "a    23912760\n",
       "c    16068705\n",
       "g    15967064\n",
       "t    24051448\n",
       "dtype: int64"
      ]
     },
     "execution_count": 17,
     "metadata": {},
     "output_type": "execute_result"
    }
   ],
   "source": [
    "# Function to count the occurrences of each nucleotide in a sequence\n",
    "# Concatenating all sequences into a single string\n",
    "all_sequences = \"\".join(data[\"genome_sequence\"])\n",
    "\n",
    "# Counting the occurrences of each nucleotide\n",
    "base_counts = pd.Series(\n",
    "    {\n",
    "        \"a\": all_sequences.count(\"a\"),\n",
    "        \"c\": all_sequences.count(\"c\"),\n",
    "        \"g\": all_sequences.count(\"g\"),\n",
    "        \"t\": all_sequences.count(\"t\"),\n",
    "    }\n",
    ")\n",
    "\n",
    "# Displaying the counts\n",
    "base_counts"
   ]
  },
  {
   "cell_type": "markdown",
   "metadata": {},
   "source": [
    "The preliminary analysis provides insight into the basic characteristics of the DNA sequences in the dataset. The findings from this section will inform the choice and configuration of machine learning models in the subsequent steps of this analysis."
   ]
  },
  {
   "cell_type": "markdown",
   "metadata": {},
   "source": [
    "---"
   ]
  },
  {
   "cell_type": "markdown",
   "metadata": {},
   "source": [
    "# Approaches\n",
    "In this section, we explore various machine learning approaches to classify the DNA sequences as either human or gorilla. The models chosen for this analysis span a range of complexities and methodologies, from traditional machine learning to deep learning architectures. The objective is to compare the performance and insights gleaned from each model, thereby identifying the most effective strategy for this classification task. The approaches considered include Convolutional Neural Networks (CNN), a genomic sequences pre-trained BERT model, Long Short-Term Memory networks (LSTM), Random Forest, and Multi Layer Perceptron (MLP)."
   ]
  },
  {
   "cell_type": "markdown",
   "metadata": {},
   "source": [
    "## Convolutional Neural Networks (CNN)\n",
    "Convolutional Neural Networks (CNN) are particularly adept at identifying patterns in spatial or temporal data, making them a suitable choice for sequence data like DNA sequences. The convolution layers can detect motifs in the DNA sequences which can be crucial for accurate classification.\n",
    "\n",
    "We had two approaches for the CNN model:\n",
    "- the first one reshaped the one-hot encoded DNA sequences into a 2D image and used a CNN model to classify the images\n",
    "- the second one used a 1D CNN model to classify the DNA sequences directly"
   ]
  },
  {
   "cell_type": "code",
   "execution_count": null,
   "metadata": {},
   "outputs": [],
   "source": [
    "!pip install pandas tensorflow numpy matplotlib scikit-learn"
   ]
  },
  {
   "cell_type": "code",
   "execution_count": null,
   "metadata": {},
   "outputs": [
    {
     "name": "stderr",
     "output_type": "stream",
     "text": [
      "/opt/conda/lib/python3.10/site-packages/scipy/__init__.py:146: UserWarning: A NumPy version >=1.16.5 and <1.23.0 is required for this version of SciPy (detected version 1.23.5\n",
      "  warnings.warn(f\"A NumPy version >={np_minversion} and <{np_maxversion}\"\n"
     ]
    }
   ],
   "source": [
    "import pandas as pd\n",
    "import tensorflow as tf\n",
    "from sklearn.model_selection import train_test_split\n",
    "import matplotlib.pyplot as plt\n",
    "from sklearn.preprocessing import OneHotEncoder, LabelEncoder\n",
    "import numpy as np"
   ]
  },
  {
   "cell_type": "code",
   "execution_count": null,
   "metadata": {},
   "outputs": [
    {
     "name": "stdout",
     "output_type": "stream",
     "text": [
      "species\n",
      "Gorilla_gorilla    0.500042\n",
      "Homo_sapiens       0.499958\n",
      "Name: proportion, dtype: float64\n"
     ]
    }
   ],
   "source": [
    "# Load the data\n",
    "train_data = pd.read_csv(\n",
    "    \"./data/train.csv\",\n",
    "    usecols=[\"genome_sequence\", \"species\"],\n",
    ")\n",
    "train_data = train_data.sample(n=500000)\n",
    "species_counts = train_data[\"species\"].value_counts(normalize=True)\n",
    "print(species_counts)"
   ]
  },
  {
   "cell_type": "code",
   "execution_count": null,
   "metadata": {},
   "outputs": [
    {
     "name": "stdout",
     "output_type": "stream",
     "text": [
      "Model: \"sequential\"\n",
      "_________________________________________________________________\n",
      " Layer (type)                Output Shape              Param #   \n",
      "=================================================================\n",
      " conv2d (Conv2D)             (None, 9, 9, 64)          2368      \n",
      "                                                                 \n",
      " batch_normalization (BatchN  (None, 9, 9, 64)         256       \n",
      " ormalization)                                                   \n",
      "                                                                 \n",
      " max_pooling2d (MaxPooling2D  (None, 5, 5, 64)         0         \n",
      " )                                                               \n",
      "                                                                 \n",
      " dropout (Dropout)           (None, 5, 5, 64)          0         \n",
      "                                                                 \n",
      " conv2d_1 (Conv2D)           (None, 5, 5, 128)         73856     \n",
      "                                                                 \n",
      " batch_normalization_1 (Batc  (None, 5, 5, 128)        512       \n",
      " hNormalization)                                                 \n",
      "                                                                 \n",
      " max_pooling2d_1 (MaxPooling  (None, 3, 3, 128)        0         \n",
      " 2D)                                                             \n",
      "                                                                 \n",
      " dropout_1 (Dropout)         (None, 3, 3, 128)         0         \n",
      "                                                                 \n",
      " conv2d_2 (Conv2D)           (None, 3, 3, 256)         295168    \n",
      "                                                                 \n",
      " batch_normalization_2 (Batc  (None, 3, 3, 256)        1024      \n",
      " hNormalization)                                                 \n",
      "                                                                 \n",
      " max_pooling2d_2 (MaxPooling  (None, 2, 2, 256)        0         \n",
      " 2D)                                                             \n",
      "                                                                 \n",
      " dropout_2 (Dropout)         (None, 2, 2, 256)         0         \n",
      "                                                                 \n",
      " flatten (Flatten)           (None, 1024)              0         \n",
      "                                                                 \n",
      " dense (Dense)               (None, 512)               524800    \n",
      "                                                                 \n",
      " dropout_3 (Dropout)         (None, 512)               0         \n",
      "                                                                 \n",
      " dense_1 (Dense)             (None, 2)                 1026      \n",
      "                                                                 \n",
      "=================================================================\n",
      "Total params: 899,010\n",
      "Trainable params: 898,114\n",
      "Non-trainable params: 896\n",
      "_________________________________________________________________\n"
     ]
    }
   ],
   "source": [
    "# Build the model\n",
    "model = tf.keras.models.Sequential(\n",
    "    [\n",
    "        tf.keras.layers.Conv2D(\n",
    "            filters=64,\n",
    "            kernel_size=(3, 3),\n",
    "            activation=\"relu\",\n",
    "            input_shape=(9, 9, 4),\n",
    "            padding=\"same\",\n",
    "            kernel_regularizer=tf.keras.regularizers.l2(0.01),\n",
    "        ),\n",
    "        tf.keras.layers.BatchNormalization(),\n",
    "        tf.keras.layers.MaxPooling2D(pool_size=(2, 2), padding=\"same\"),\n",
    "        tf.keras.layers.Dropout(0.2),\n",
    "        tf.keras.layers.Conv2D(\n",
    "            filters=128,\n",
    "            kernel_size=(3, 3),\n",
    "            activation=\"relu\",\n",
    "            padding=\"same\",\n",
    "            kernel_regularizer=tf.keras.regularizers.l2(0.01),\n",
    "        ),\n",
    "        tf.keras.layers.BatchNormalization(),\n",
    "        tf.keras.layers.MaxPooling2D(pool_size=(2, 2), padding=\"same\"),\n",
    "        tf.keras.layers.Dropout(0.2),\n",
    "        tf.keras.layers.Conv2D(\n",
    "            filters=256,\n",
    "            kernel_size=(3, 3),\n",
    "            activation=\"relu\",\n",
    "            padding=\"same\",\n",
    "            kernel_regularizer=tf.keras.regularizers.l2(0.01),\n",
    "        ),\n",
    "        tf.keras.layers.BatchNormalization(),\n",
    "        tf.keras.layers.MaxPooling2D(pool_size=(2, 2), padding=\"same\"),\n",
    "        tf.keras.layers.Dropout(0.2),\n",
    "        tf.keras.layers.Flatten(),\n",
    "        tf.keras.layers.Dense(\n",
    "            512, activation=\"relu\", kernel_regularizer=tf.keras.regularizers.l2(0.01)\n",
    "        ),\n",
    "        tf.keras.layers.Dropout(0.2),\n",
    "        tf.keras.layers.Dense(\n",
    "            2, activation=\"softmax\"\n",
    "        ),  # Assuming 2 classes, adjust if necessary\n",
    "    ]\n",
    ")\n",
    "\n",
    "model.summary()"
   ]
  },
  {
   "cell_type": "code",
   "execution_count": null,
   "metadata": {},
   "outputs": [],
   "source": [
    "def preprocess_dataset(data, test=False):\n",
    "    def one_hot_encode(sequence):\n",
    "        mapping = {\n",
    "            \"a\": [1, 0, 0, 0],\n",
    "            \"c\": [0, 1, 0, 0],\n",
    "            \"g\": [0, 0, 1, 0],\n",
    "            \"t\": [0, 0, 0, 1],\n",
    "        }\n",
    "        return [mapping[char] for char in sequence]\n",
    "\n",
    "    encoded_seqs = data[\"genome_sequence\"].apply(one_hot_encode)\n",
    "    padded_seqs = tf.keras.preprocessing.sequence.pad_sequences(\n",
    "        encoded_seqs, padding=\"post\"\n",
    "    )\n",
    "\n",
    "    if not test:\n",
    "        # Encode the species labels into numerical values\n",
    "        label_encoder = LabelEncoder()\n",
    "        encoded_labels = label_encoder.fit_transform(data[\"species\"])\n",
    "        encoded_labels = tf.keras.utils.to_categorical(encoded_labels, num_classes=2)\n",
    "\n",
    "    num_samples = len(padded_seqs)\n",
    "    reshaped_data = np.zeros(\n",
    "        (num_samples, 9, 9, 4)\n",
    "    )  # Initialize an empty array of the desired shape\n",
    "\n",
    "    for i, sequence in enumerate(padded_seqs):\n",
    "        # Reshape the sequence to a 2D 80x4 matrix\n",
    "        sequence_2d = sequence.reshape(-1, 4)\n",
    "\n",
    "        # Pad this matrix with a row of zeros to get a 81x4 matrix\n",
    "        padded_sequence = np.vstack((sequence_2d, np.zeros((1, 4))))\n",
    "\n",
    "        # Reshape this matrix to a 9x9x4 tensor\n",
    "        reshaped_sequence = padded_sequence.reshape(9, 9, 4)\n",
    "\n",
    "        # Store the reshaped sequence in the reshaped_data array\n",
    "        reshaped_data[i] = reshaped_sequence\n",
    "    if not test:\n",
    "        return reshaped_data, encoded_labels\n",
    "    else:\n",
    "        return reshaped_data"
   ]
  },
  {
   "cell_type": "code",
   "execution_count": null,
   "metadata": {},
   "outputs": [],
   "source": [
    "x_train_data, y_train_data = preprocess_dataset(train_data)"
   ]
  },
  {
   "cell_type": "code",
   "execution_count": null,
   "metadata": {},
   "outputs": [],
   "source": [
    "# Split the data into training and testing sets\n",
    "x_train, x_test, y_train, y_test = train_test_split(\n",
    "    x_train_data, y_train_data, test_size=0.2, random_state=42\n",
    ")"
   ]
  },
  {
   "cell_type": "code",
   "execution_count": null,
   "metadata": {},
   "outputs": [
    {
     "data": {
      "image/png": "[encoded data removed]",
      "text/plain": [
       "<Figure size 2000x500 with 4 Axes>"
      ]
     },
     "metadata": {},
     "output_type": "display_data"
    }
   ],
   "source": [
    "def plot_images(data_piece):\n",
    "    fig, axs = plt.subplots(1, 4, figsize=(20, 5))\n",
    "\n",
    "    # Assuming data_piece has shape (9, 9, 4)\n",
    "    for i in range(4):\n",
    "        img = data_piece[:, :, i]\n",
    "        axs[i].imshow(img, cmap=\"gray\")  # or choose a different colormap if preferred\n",
    "        axs[i].axis(\"off\")  # to remove the axes for clarity\n",
    "        axs[i].set_title(f\"Channel {i+1}\")\n",
    "\n",
    "    plt.show()\n",
    "\n",
    "\n",
    "plot_images(x_train[0])"
   ]
  },
  {
   "cell_type": "code",
   "execution_count": null,
   "metadata": {},
   "outputs": [],
   "source": [
    "# Compile the model\n",
    "optimizer = tf.keras.optimizers.Adam(learning_rate=0.001)\n",
    "model.compile(\n",
    "    loss=\"categorical_crossentropy\", optimizer=optimizer, metrics=[\"accuracy\"]\n",
    ")\n",
    "\n",
    "# Define the Early Stopping and Reduce LR On Plateau callbacks\n",
    "early_stopping = tf.keras.callbacks.EarlyStopping(\n",
    "    monitor=\"val_loss\", patience=5, restore_best_weights=True, verbose=1\n",
    ")\n",
    "reduce_lr = tf.keras.callbacks.ReduceLROnPlateau(\n",
    "    monitor=\"val_loss\", factor=0.2, patience=3, min_lr=0.00001, verbose=1\n",
    ")"
   ]
  },
  {
   "cell_type": "code",
   "execution_count": null,
   "metadata": {},
   "outputs": [
    {
     "name": "stdout",
     "output_type": "stream",
     "text": [
      "Epoch 1/25\n"
     ]
    },
    {
     "name": "stderr",
     "output_type": "stream",
     "text": [
      "2023-10-06 15:36:37.673959: E tensorflow/core/grappler/optimizers/meta_optimizer.cc:954] layout failed: INVALID_ARGUMENT: Size of values 0 does not match size of permutation 4 @ fanin shape insequential/dropout/dropout/SelectV2-2-TransposeNHWCToNCHW-LayoutOptimizer\n"
     ]
    },
    {
     "name": "stdout",
     "output_type": "stream",
     "text": [
      "3125/3125 [==============================] - 29s 6ms/step - loss: 1.0012 - accuracy: 0.5022 - val_loss: 0.6931 - val_accuracy: 0.5006 - lr: 0.0010\n",
      "Epoch 2/25\n",
      "3125/3125 [==============================] - 22s 7ms/step - loss: 0.6932 - accuracy: 0.4984 - val_loss: 0.6932 - val_accuracy: 0.4994 - lr: 0.0010\n",
      "Epoch 3/25\n",
      "3125/3125 [==============================] - 18s 6ms/step - loss: 0.6932 - accuracy: 0.4994 - val_loss: 0.6932 - val_accuracy: 0.4994 - lr: 0.0010\n",
      "Epoch 4/25\n",
      "3119/3125 [============================>.] - ETA: 0s - loss: 0.6932 - accuracy: 0.5001\n",
      "Epoch 4: ReduceLROnPlateau reducing learning rate to 0.00020000000949949026.\n",
      "3125/3125 [==============================] - 18s 6ms/step - loss: 0.6932 - accuracy: 0.5001 - val_loss: 0.6932 - val_accuracy: 0.5006 - lr: 0.0010\n",
      "Epoch 5/25\n",
      "3125/3125 [==============================] - 18s 6ms/step - loss: 0.6931 - accuracy: 0.5012 - val_loss: 0.6931 - val_accuracy: 0.5006 - lr: 2.0000e-04\n",
      "Epoch 6/25\n",
      "3125/3125 [==============================] - ETA: 0s - loss: 0.6932 - accuracy: 0.4997Restoring model weights from the end of the best epoch: 1.\n",
      "3125/3125 [==============================] - 18s 6ms/step - loss: 0.6932 - accuracy: 0.4997 - val_loss: 0.6932 - val_accuracy: 0.4994 - lr: 2.0000e-04\n",
      "Epoch 6: early stopping\n"
     ]
    }
   ],
   "source": [
    "# Train the model with the callbacks\n",
    "history = model.fit(\n",
    "    x_train,\n",
    "    y_train,\n",
    "    validation_data=(x_test, y_test),\n",
    "    epochs=25,\n",
    "    batch_size=128,\n",
    "    callbacks=[early_stopping, reduce_lr],\n",
    ")"
   ]
  },
  {
   "cell_type": "code",
   "execution_count": null,
   "metadata": {},
   "outputs": [
    {
     "data": {
      "image/png": "[encoded data removed]",
      "text/plain": [
       "<Figure size 1200x400 with 2 Axes>"
      ]
     },
     "metadata": {},
     "output_type": "display_data"
    }
   ],
   "source": [
    "# Plotting the training and validation accuracy\n",
    "plt.figure(figsize=(12, 4))\n",
    "\n",
    "plt.subplot(1, 2, 1)\n",
    "plt.plot(history.history[\"accuracy\"], label=\"Training Accuracy\")\n",
    "plt.plot(history.history[\"val_accuracy\"], label=\"Validation Accuracy\")\n",
    "plt.title(\"Training and Validation Accuracy\")\n",
    "plt.legend()\n",
    "\n",
    "# Plotting the training and validation loss\n",
    "plt.subplot(1, 2, 2)\n",
    "plt.plot(history.history[\"loss\"], label=\"Training Loss\")\n",
    "plt.plot(history.history[\"val_loss\"], label=\"Validation Loss\")\n",
    "plt.title(\"Training and Validation Loss\")\n",
    "plt.legend()\n",
    "\n",
    "plt.tight_layout()\n",
    "plt.show()"
   ]
  },
  {
   "cell_type": "markdown",
   "metadata": {},
   "source": [
    "This approch led to an accuracy fluctuating around 50% which is not really good considered this is random guessing. However, as we will see thourought the analysis, and also in the best scores of the competition, the task is very hard and no model was able to get a good accuracy."
   ]
  },
  {
   "cell_type": "markdown",
   "metadata": {},
   "source": [
    "We had another approach of CNNs which used 1D convolutions. Let's see how it performs."
   ]
  },
  {
   "cell_type": "code",
   "execution_count": null,
   "metadata": {},
   "outputs": [],
   "source": [
    "!pip install pandas numpy scikit-learn matplotlib torch torchvision torchaudio tqdm"
   ]
  },
  {
   "cell_type": "code",
   "execution_count": null,
   "metadata": {},
   "outputs": [
    {
     "name": "stderr",
     "output_type": "stream",
     "text": [
      "/opt/conda/lib/python3.10/site-packages/scipy/__init__.py:146: UserWarning: A NumPy version >=1.16.5 and <1.23.0 is required for this version of SciPy (detected version 1.23.5\n",
      "  warnings.warn(f\"A NumPy version >={np_minversion} and <{np_maxversion}\"\n"
     ]
    }
   ],
   "source": [
    "import pandas as pd\n",
    "import numpy as np\n",
    "from sklearn.model_selection import train_test_split\n",
    "from sklearn.metrics import accuracy_score\n",
    "import matplotlib.pyplot as plt\n",
    "from torch.utils.data import Dataset, DataLoader\n",
    "from torchvision import transforms\n",
    "import torch\n",
    "import torchvision.models as models\n",
    "import torch.nn as nn\n",
    "import torch.nn.functional as F\n",
    "import torch.optim as optim\n",
    "from tqdm import tqdm\n",
    "\n",
    "\n",
    "random_state = 42"
   ]
  },
  {
   "cell_type": "code",
   "execution_count": null,
   "metadata": {},
   "outputs": [
    {
     "name": "stdout",
     "output_type": "stream",
     "text": [
      "Shape of the dataset:  (19800000, 3)\n"
     ]
    }
   ],
   "source": [
    "df = pd.read_csv(\n",
    "    \"./data/train.csv\", usecols=[\"id\", \"genome_sequence\", \"species\"]\n",
    ")  # Removes the index column of the csv\n",
    "print(\"Shape of the dataset: \", df.shape)"
   ]
  },
  {
   "cell_type": "code",
   "execution_count": null,
   "metadata": {},
   "outputs": [
    {
     "data": {
      "text/html": [
       "<div>\n",
       "<style scoped>\n",
       "    .dataframe tbody tr th:only-of-type {\n",
       "        vertical-align: middle;\n",
       "    }\n",
       "\n",
       "    .dataframe tbody tr th {\n",
       "        vertical-align: top;\n",
       "    }\n",
       "\n",
       "    .dataframe thead th {\n",
       "        text-align: right;\n",
       "    }\n",
       "</style>\n",
       "<table border=\"1\" class=\"dataframe\">\n",
       "  <thead>\n",
       "    <tr style=\"text-align: right;\">\n",
       "      <th></th>\n",
       "      <th>id</th>\n",
       "      <th>genome_sequence</th>\n",
       "      <th>species</th>\n",
       "    </tr>\n",
       "  </thead>\n",
       "  <tbody>\n",
       "    <tr>\n",
       "      <th>0</th>\n",
       "      <td>11408003</td>\n",
       "      <td>ccacatcccctccagcacctgttgtttcctgactttttaatgattg...</td>\n",
       "      <td>Gorilla_gorilla</td>\n",
       "    </tr>\n",
       "    <tr>\n",
       "      <th>1</th>\n",
       "      <td>18639873</td>\n",
       "      <td>tgtttacttgccaatctttgtttagctgtcagagtggcttgctaaa...</td>\n",
       "      <td>Gorilla_gorilla</td>\n",
       "    </tr>\n",
       "    <tr>\n",
       "      <th>2</th>\n",
       "      <td>9869298</td>\n",
       "      <td>tctgtgaagaaagacattggtagcttgatggggatgacattgaatc...</td>\n",
       "      <td>Homo_sapiens</td>\n",
       "    </tr>\n",
       "    <tr>\n",
       "      <th>3</th>\n",
       "      <td>10762804</td>\n",
       "      <td>ttgtgagaattacgtgagatgatagatttagggactatagaatagt...</td>\n",
       "      <td>Gorilla_gorilla</td>\n",
       "    </tr>\n",
       "    <tr>\n",
       "      <th>4</th>\n",
       "      <td>13724428</td>\n",
       "      <td>gcaaaaaataagttgataagttgattgatatgttattagcttaatt...</td>\n",
       "      <td>Gorilla_gorilla</td>\n",
       "    </tr>\n",
       "  </tbody>\n",
       "</table>\n",
       "</div>"
      ],
      "text/plain": [
       "         id                                    genome_sequence  \\\n",
       "0  11408003  ccacatcccctccagcacctgttgtttcctgactttttaatgattg...   \n",
       "1  18639873  tgtttacttgccaatctttgtttagctgtcagagtggcttgctaaa...   \n",
       "2   9869298  tctgtgaagaaagacattggtagcttgatggggatgacattgaatc...   \n",
       "3  10762804  ttgtgagaattacgtgagatgatagatttagggactatagaatagt...   \n",
       "4  13724428  gcaaaaaataagttgataagttgattgatatgttattagcttaatt...   \n",
       "\n",
       "           species  \n",
       "0  Gorilla_gorilla  \n",
       "1  Gorilla_gorilla  \n",
       "2     Homo_sapiens  \n",
       "3  Gorilla_gorilla  \n",
       "4  Gorilla_gorilla  "
      ]
     },
     "metadata": {},
     "output_type": "display_data"
    }
   ],
   "source": [
    "df.head()"
   ]
  },
  {
   "cell_type": "code",
   "execution_count": null,
   "metadata": {},
   "outputs": [
    {
     "data": {
      "text/plain": [
       "id                 0\n",
       "genome_sequence    0\n",
       "species            0\n",
       "dtype: int64"
      ]
     },
     "metadata": {},
     "output_type": "display_data"
    }
   ],
   "source": [
    "# Check that there are no missing values\n",
    "df.isnull().sum()"
   ]
  },
  {
   "cell_type": "code",
   "execution_count": null,
   "metadata": {},
   "outputs": [
    {
     "data": {
      "text/plain": [
       "species\n",
       "Homo_sapiens       9900585\n",
       "Gorilla_gorilla    9899415\n",
       "Name: count, dtype: int64"
      ]
     },
     "metadata": {},
     "output_type": "display_data"
    }
   ],
   "source": [
    "# Check the balancing of the target\n",
    "df.species.value_counts()"
   ]
  },
  {
   "cell_type": "code",
   "execution_count": null,
   "metadata": {},
   "outputs": [
    {
     "data": {
      "text/plain": [
       "genome_sequence\n",
       "80    19799984\n",
       "37           2\n",
       "39           1\n",
       "2            1\n",
       "30           1\n",
       "25           1\n",
       "16           1\n",
       "3            1\n",
       "15           1\n",
       "57           1\n",
       "48           1\n",
       "32           1\n",
       "31           1\n",
       "43           1\n",
       "60           1\n",
       "50           1\n",
       "Name: count, dtype: int64"
      ]
     },
     "metadata": {},
     "output_type": "display_data"
    }
   ],
   "source": [
    "# Get the average length of the genome sequences\n",
    "df.genome_sequence.apply(lambda x: len(x)).value_counts()"
   ]
  },
  {
   "cell_type": "markdown",
   "metadata": {},
   "source": [
    "Let's remove the few that aren't of the 80 long"
   ]
  },
  {
   "cell_type": "code",
   "execution_count": null,
   "metadata": {},
   "outputs": [
    {
     "data": {
      "text/plain": [
       "(19799984, 3)"
      ]
     },
     "metadata": {},
     "output_type": "display_data"
    }
   ],
   "source": [
    "# Remove the <20 genome sequences that are not 80 long\n",
    "df = df[df.genome_sequence.apply(lambda x: len(x)) == 80]\n",
    "df.shape"
   ]
  },
  {
   "cell_type": "markdown",
   "metadata": {},
   "source": [
    "## Data Preparation"
   ]
  },
  {
   "cell_type": "code",
   "execution_count": null,
   "metadata": {},
   "outputs": [
    {
     "data": {
      "text/html": [
       "<div>\n",
       "<style scoped>\n",
       "    .dataframe tbody tr th:only-of-type {\n",
       "        vertical-align: middle;\n",
       "    }\n",
       "\n",
       "    .dataframe tbody tr th {\n",
       "        vertical-align: top;\n",
       "    }\n",
       "\n",
       "    .dataframe thead th {\n",
       "        text-align: right;\n",
       "    }\n",
       "</style>\n",
       "<table border=\"1\" class=\"dataframe\">\n",
       "  <thead>\n",
       "    <tr style=\"text-align: right;\">\n",
       "      <th></th>\n",
       "      <th>id</th>\n",
       "      <th>genome_sequence</th>\n",
       "      <th>species</th>\n",
       "      <th>label</th>\n",
       "    </tr>\n",
       "  </thead>\n",
       "  <tbody>\n",
       "    <tr>\n",
       "      <th>0</th>\n",
       "      <td>11408003</td>\n",
       "      <td>ccacatcccctccagcacctgttgtttcctgactttttaatgattg...</td>\n",
       "      <td>Gorilla_gorilla</td>\n",
       "      <td>0</td>\n",
       "    </tr>\n",
       "    <tr>\n",
       "      <th>1</th>\n",
       "      <td>18639873</td>\n",
       "      <td>tgtttacttgccaatctttgtttagctgtcagagtggcttgctaaa...</td>\n",
       "      <td>Gorilla_gorilla</td>\n",
       "      <td>0</td>\n",
       "    </tr>\n",
       "    <tr>\n",
       "      <th>2</th>\n",
       "      <td>9869298</td>\n",
       "      <td>tctgtgaagaaagacattggtagcttgatggggatgacattgaatc...</td>\n",
       "      <td>Homo_sapiens</td>\n",
       "      <td>1</td>\n",
       "    </tr>\n",
       "    <tr>\n",
       "      <th>3</th>\n",
       "      <td>10762804</td>\n",
       "      <td>ttgtgagaattacgtgagatgatagatttagggactatagaatagt...</td>\n",
       "      <td>Gorilla_gorilla</td>\n",
       "      <td>0</td>\n",
       "    </tr>\n",
       "    <tr>\n",
       "      <th>4</th>\n",
       "      <td>13724428</td>\n",
       "      <td>gcaaaaaataagttgataagttgattgatatgttattagcttaatt...</td>\n",
       "      <td>Gorilla_gorilla</td>\n",
       "      <td>0</td>\n",
       "    </tr>\n",
       "  </tbody>\n",
       "</table>\n",
       "</div>"
      ],
      "text/plain": [
       "         id                                    genome_sequence  \\\n",
       "0  11408003  ccacatcccctccagcacctgttgtttcctgactttttaatgattg...   \n",
       "1  18639873  tgtttacttgccaatctttgtttagctgtcagagtggcttgctaaa...   \n",
       "2   9869298  tctgtgaagaaagacattggtagcttgatggggatgacattgaatc...   \n",
       "3  10762804  ttgtgagaattacgtgagatgatagatttagggactatagaatagt...   \n",
       "4  13724428  gcaaaaaataagttgataagttgattgatatgttattagcttaatt...   \n",
       "\n",
       "           species  label  \n",
       "0  Gorilla_gorilla      0  \n",
       "1  Gorilla_gorilla      0  \n",
       "2     Homo_sapiens      1  \n",
       "3  Gorilla_gorilla      0  \n",
       "4  Gorilla_gorilla      0  "
      ]
     },
     "metadata": {},
     "output_type": "display_data"
    }
   ],
   "source": [
    "# Create a label column that change the species name into a number\n",
    "labels_dict = {species: i for i, species in enumerate(df.species.unique())}\n",
    "df[\"label\"] = df.species.map(labels_dict)\n",
    "df.head()"
   ]
  },
  {
   "cell_type": "code",
   "execution_count": null,
   "metadata": {},
   "outputs": [],
   "source": [
    "# Define a function to one hot encode a DNA sequence\n",
    "def one_hot_encode_dna(seq):\n",
    "    return np.array(\n",
    "        [\n",
    "            [\n",
    "                1 if c == \"A\" else 0,\n",
    "                1 if c == \"C\" else 0,\n",
    "                1 if c == \"G\" else 0,\n",
    "                1 if c == \"T\" else 0,\n",
    "            ]\n",
    "            for c in seq.upper()\n",
    "        ]\n",
    "    )"
   ]
  },
  {
   "cell_type": "code",
   "execution_count": null,
   "metadata": {},
   "outputs": [
    {
     "data": {
      "text/html": [
       "<div>\n",
       "<style scoped>\n",
       "    .dataframe tbody tr th:only-of-type {\n",
       "        vertical-align: middle;\n",
       "    }\n",
       "\n",
       "    .dataframe tbody tr th {\n",
       "        vertical-align: top;\n",
       "    }\n",
       "\n",
       "    .dataframe thead th {\n",
       "        text-align: right;\n",
       "    }\n",
       "</style>\n",
       "<table border=\"1\" class=\"dataframe\">\n",
       "  <thead>\n",
       "    <tr style=\"text-align: right;\">\n",
       "      <th></th>\n",
       "      <th>genome_sequence</th>\n",
       "      <th>label</th>\n",
       "    </tr>\n",
       "  </thead>\n",
       "  <tbody>\n",
       "    <tr>\n",
       "      <th>0</th>\n",
       "      <td>ccacatcccctccagcacctgttgtttcctgactttttaatgattg...</td>\n",
       "      <td>0</td>\n",
       "    </tr>\n",
       "    <tr>\n",
       "      <th>1</th>\n",
       "      <td>tgtttacttgccaatctttgtttagctgtcagagtggcttgctaaa...</td>\n",
       "      <td>0</td>\n",
       "    </tr>\n",
       "    <tr>\n",
       "      <th>2</th>\n",
       "      <td>tctgtgaagaaagacattggtagcttgatggggatgacattgaatc...</td>\n",
       "      <td>1</td>\n",
       "    </tr>\n",
       "    <tr>\n",
       "      <th>3</th>\n",
       "      <td>ttgtgagaattacgtgagatgatagatttagggactatagaatagt...</td>\n",
       "      <td>0</td>\n",
       "    </tr>\n",
       "    <tr>\n",
       "      <th>4</th>\n",
       "      <td>gcaaaaaataagttgataagttgattgatatgttattagcttaatt...</td>\n",
       "      <td>0</td>\n",
       "    </tr>\n",
       "  </tbody>\n",
       "</table>\n",
       "</div>"
      ],
      "text/plain": [
       "                                     genome_sequence  label\n",
       "0  ccacatcccctccagcacctgttgtttcctgactttttaatgattg...      0\n",
       "1  tgtttacttgccaatctttgtttagctgtcagagtggcttgctaaa...      0\n",
       "2  tctgtgaagaaagacattggtagcttgatggggatgacattgaatc...      1\n",
       "3  ttgtgagaattacgtgagatgatagatttagggactatagaatagt...      0\n",
       "4  gcaaaaaataagttgataagttgattgatatgttattagcttaatt...      0"
      ]
     },
     "metadata": {},
     "output_type": "display_data"
    }
   ],
   "source": [
    "# Drop unnecessary columns\n",
    "df = df.drop(columns=[\"id\", \"species\"])\n",
    "df.head()"
   ]
  },
  {
   "cell_type": "markdown",
   "metadata": {},
   "source": [
    "Let's subsample the dataset to have a smaller dataset to work with."
   ]
  },
  {
   "cell_type": "code",
   "execution_count": null,
   "metadata": {},
   "outputs": [
    {
     "name": "stdout",
     "output_type": "stream",
     "text": [
      "Shape of the train dataset:  (80000, 2)\n",
      "Shape of the test dataset:  (20000, 2)\n"
     ]
    }
   ],
   "source": [
    "# Split the dataset into train and test\n",
    "df_train, df_test = train_test_split(\n",
    "    df.sample(n=100000), test_size=0.2, random_state=random_state\n",
    ")\n",
    "print(\"Shape of the train dataset: \", df_train.shape)\n",
    "print(\"Shape of the test dataset: \", df_test.shape)"
   ]
  },
  {
   "cell_type": "markdown",
   "metadata": {},
   "source": [
    "### Creating a torch dataset"
   ]
  },
  {
   "cell_type": "code",
   "execution_count": null,
   "metadata": {},
   "outputs": [],
   "source": [
    "# Define a custom dataset for CNN\n",
    "class GenomeDatasetCNN(Dataset):\n",
    "    def __init__(self, X, y, transform=None):\n",
    "        self.X = X\n",
    "        self.y = y\n",
    "        self.transform = (\n",
    "            transforms.Compose(\n",
    "                [\n",
    "                    transforms.ToTensor(),\n",
    "                ]\n",
    "            )\n",
    "            if transform is None\n",
    "            else transform\n",
    "        )\n",
    "\n",
    "    def __len__(self):\n",
    "        return len(self.X)\n",
    "\n",
    "    def __getitem__(self, idx):\n",
    "        label = self.y[idx]\n",
    "        dna = self.X[idx]\n",
    "        dna = one_hot_encode_dna(dna)\n",
    "        dna = torch.from_numpy(dna)\n",
    "        dna = torch.reshape(dna, (dna.shape[1], dna.shape[0]))\n",
    "        # convert all to float\n",
    "        dna = dna.float()\n",
    "        label = torch.tensor(label).float()\n",
    "        return dna, label"
   ]
  },
  {
   "cell_type": "code",
   "execution_count": null,
   "metadata": {},
   "outputs": [
    {
     "data": {
      "image/png": "[encoded data removed]",
      "text/plain": [
       "<Figure size 2000x200 with 1 Axes>"
      ]
     },
     "metadata": {},
     "output_type": "display_data"
    }
   ],
   "source": [
    "def print_one_hot_encoded_dna(genome_seq):\n",
    "    # Plot the one hot encoded DNA sequence\n",
    "    plt.figure(figsize=(20, 2))\n",
    "    plt.imshow(genome_seq, cmap=\"hot\")\n",
    "    plt.xticks(range(0, genome_seq.shape[0]))\n",
    "    plt.yticks(range(0, 4), [\"A\", \"C\", \"G\", \"T\"])\n",
    "    plt.show()\n",
    "\n",
    "\n",
    "test_print = one_hot_encode_dna(df_train.iloc[0].genome_sequence).transpose(1, 0)\n",
    "print_one_hot_encoded_dna(test_print)"
   ]
  },
  {
   "cell_type": "code",
   "execution_count": null,
   "metadata": {},
   "outputs": [
    {
     "name": "stdout",
     "output_type": "stream",
     "text": [
      "DNA shape:  torch.Size([32, 4, 80])\n",
      "Label shape:  torch.Size([32])\n",
      "Label:  tensor([1., 0., 0., 1., 0., 1., 0., 1., 1., 1., 0., 0., 1., 0., 0., 0., 1., 0.,\n",
      "        1., 1., 1., 0., 0., 0., 0., 0., 1., 1., 1., 0., 1., 1.])\n",
      "DNA:  tensor([[1., 0., 0., 0., 0., 0., 1., 0., 0., 0., 1., 0., 1., 0., 0., 0., 0., 0.,\n",
      "         0., 1., 1., 0., 0., 0., 0., 0., 1., 0., 0., 0., 0., 1., 0., 0., 0., 1.,\n",
      "         0., 0., 0., 1., 1., 0., 0., 0., 0., 0., 0., 1., 0., 0., 1., 0., 1., 0.,\n",
      "         0., 0., 0., 0., 0., 1., 0., 0., 0., 1., 0., 0., 0., 1., 0., 0., 0., 1.,\n",
      "         0., 0., 0., 1., 0., 0., 0., 1.],\n",
      "        [0., 0., 0., 1., 0., 0., 0., 1., 0., 0., 0., 1., 0., 0., 0., 1., 0., 1.,\n",
      "         0., 0., 0., 0., 0., 1., 0., 1., 0., 0., 0., 1., 0., 0., 0., 0., 0., 1.,\n",
      "         0., 0., 1., 0., 0., 0., 1., 0., 0., 0., 0., 1., 0., 0., 0., 1., 0., 0.,\n",
      "         0., 1., 0., 0., 1., 0., 0., 1., 0., 0., 1., 0., 0., 0., 0., 1., 0., 0.,\n",
      "         0., 1., 0., 0., 0., 0., 0., 1.],\n",
      "        [0., 0., 0., 1., 1., 0., 0., 0., 0., 0., 0., 1., 0., 0., 0., 1., 0., 0.,\n",
      "         0., 1., 0., 1., 0., 0., 1., 0., 0., 0., 0., 1., 0., 0., 0., 1., 0., 0.,\n",
      "         1., 0., 0., 0., 0., 0., 0., 1., 0., 0., 1., 0., 1., 0., 0., 0., 0., 1.,\n",
      "         0., 0., 0., 1., 0., 0., 0., 0., 0., 1., 0., 1., 0., 0., 1., 0., 0., 0.,\n",
      "         0., 1., 0., 0., 0., 0., 0., 1.],\n",
      "        [0., 1., 0., 0., 1., 0., 0., 0., 0., 0., 0., 1., 0., 0., 0., 1., 0., 0.,\n",
      "         1., 0., 0., 0., 0., 1., 0., 0., 0., 1., 0., 1., 0., 0., 1., 0., 0., 0.,\n",
      "         0., 0., 1., 0., 0., 0., 1., 0., 0., 0., 0., 1., 1., 0., 0., 0., 0., 0.,\n",
      "         1., 0., 0., 1., 0., 0., 0., 0., 0., 1., 0., 0., 0., 1., 0., 0., 0., 1.,\n",
      "         0., 0., 1., 0., 0., 0., 1., 0.]])\n"
     ]
    },
    {
     "data": {
      "image/png": "[encoded data removed]",
      "text/plain": [
       "<Figure size 2000x200 with 1 Axes>"
      ]
     },
     "metadata": {},
     "output_type": "display_data"
    }
   ],
   "source": [
    "dataset = GenomeDatasetCNN(\n",
    "    df_train[\"genome_sequence\"].to_numpy(), df_train[\"label\"].to_numpy()\n",
    ")\n",
    "dataloader = DataLoader(dataset, batch_size=32)\n",
    "\n",
    "# print an example of the dataset\n",
    "dna, label = next(iter(dataloader))\n",
    "print(\"DNA shape: \", dna.shape)\n",
    "print(\"Label shape: \", label.shape)\n",
    "print(\"Label: \", label)\n",
    "print(\"DNA: \", dna[0])\n",
    "print_one_hot_encoded_dna(dna[0])  # Print the first DNA sequence of the batch\n",
    "\n",
    "# Make our test and train datasets and data loaders\n",
    "train_dataset = GenomeDatasetCNN(\n",
    "    df_train[\"genome_sequence\"].to_numpy(), df_train[\"label\"].to_numpy()\n",
    ")\n",
    "test_dataset = GenomeDatasetCNN(\n",
    "    df_test[\"genome_sequence\"].to_numpy(), df_test[\"label\"].to_numpy()\n",
    ")\n",
    "train_dataloader = DataLoader(\n",
    "    train_dataset, batch_size=32, shuffle=True, drop_last=True, pin_memory=True\n",
    ")\n",
    "test_dataloader = DataLoader(test_dataset, batch_size=32, shuffle=True)"
   ]
  },
  {
   "cell_type": "markdown",
   "metadata": {},
   "source": [
    "## CNN"
   ]
  },
  {
   "cell_type": "code",
   "execution_count": null,
   "metadata": {},
   "outputs": [],
   "source": [
    "# Define the model\n",
    "\n",
    "\n",
    "class CNN(nn.Module):\n",
    "    def __init__(self):\n",
    "        super(CNN, self).__init__()\n",
    "\n",
    "        \"\"\"\n",
    "        # In channel: 4\n",
    "        # Use 3 layers of Conv1D with kernel size (2, 3, 3) and stride (0, 1, 1), and padding (0, 1, 1)\n",
    "        The in channels are: (4, 16, 32)\n",
    "        The out channels are: (16, 32, 64)\n",
    "        # Use 1 layer of MaxPool1D with kernel size (2) and stride (2)\n",
    "        # Use 2 layers of Linear with 128 and 64 neurons\n",
    "        # Use 1 layer of Linear with 1 neuron\n",
    "        \"\"\"\n",
    "\n",
    "        self.conv1 = nn.Conv1d(4, 16, 2, stride=1, padding=0)\n",
    "        self.conv2 = nn.Conv1d(16, 32, 3, stride=1, padding=1)\n",
    "        self.conv3 = nn.Conv1d(32, 64, 3, stride=1, padding=1)\n",
    "        self.pool = nn.MaxPool1d(2)\n",
    "        self.fc1 = nn.Linear(19 * 64, 64)\n",
    "        self.fc2 = nn.Linear(64, 32)\n",
    "        self.fc3 = nn.Linear(32, 1)\n",
    "\n",
    "    def forward(self, x):\n",
    "        x = F.relu(self.conv1(x))\n",
    "        x = self.pool(F.relu(self.conv2(x)))\n",
    "        x = self.pool(F.relu(self.conv3(x)))\n",
    "        x = x.view(x.shape[0], -1)\n",
    "        x = F.relu(self.fc1(x))\n",
    "        x = F.relu(self.fc2(x))\n",
    "        x = F.sigmoid(self.fc3(x))\n",
    "        return x\n",
    "\n",
    "\n",
    "model = CNN()"
   ]
  },
  {
   "cell_type": "code",
   "execution_count": null,
   "metadata": {},
   "outputs": [],
   "source": [
    "# Train the model\n",
    "def train_model(\n",
    "    model, optimizer, criterion, dataloader, eval_dataloader, epochs=10, device=\"cpu\"\n",
    "):\n",
    "    losses = []\n",
    "    accuracies = []\n",
    "    for _ in range(epochs):\n",
    "        train_loss = 0\n",
    "        model.train()\n",
    "        for batch_idx, (genome_seq, label) in tqdm(\n",
    "            enumerate(dataloader), total=len(dataloader)\n",
    "        ):\n",
    "            optimizer.zero_grad()\n",
    "            genome_seq = genome_seq.to(device)\n",
    "            label = label.to(device)\n",
    "            output = model(genome_seq)\n",
    "            loss = criterion(output.view(-1), label)\n",
    "            loss.backward()\n",
    "            optimizer.step()\n",
    "            train_loss += loss.item()\n",
    "        print(\"Train loss: \", train_loss / len(dataloader))\n",
    "        losses.append(train_loss / len(dataloader))\n",
    "\n",
    "        model.eval()\n",
    "        y_true = []\n",
    "        y_pred = []\n",
    "        for batch_idx, (genome_seq, label) in enumerate(eval_dataloader):\n",
    "            output = model(genome_seq)\n",
    "            y_true.extend(label.numpy())\n",
    "            y_pred.extend(output.argmax(axis=1).cpu().numpy())\n",
    "        accuracies.append(accuracy_score(y_true, y_pred))\n",
    "\n",
    "    return model, losses, accuracies"
   ]
  },
  {
   "cell_type": "code",
   "execution_count": null,
   "metadata": {},
   "outputs": [
    {
     "name": "stderr",
     "output_type": "stream",
     "text": [
      "100%|██████████| 2500/2500 [00:14<00:00, 172.45it/s]\n"
     ]
    },
    {
     "name": "stdout",
     "output_type": "stream",
     "text": [
      "Train loss:  0.6932496196269989\n"
     ]
    },
    {
     "name": "stderr",
     "output_type": "stream",
     "text": [
      "100%|██████████| 2500/2500 [00:13<00:00, 180.30it/s]\n"
     ]
    },
    {
     "name": "stdout",
     "output_type": "stream",
     "text": [
      "Train loss:  0.6931665858268737\n"
     ]
    },
    {
     "name": "stderr",
     "output_type": "stream",
     "text": [
      "100%|██████████| 2500/2500 [00:14<00:00, 167.45it/s]\n"
     ]
    },
    {
     "name": "stdout",
     "output_type": "stream",
     "text": [
      "Train loss:  0.6931670973300934\n"
     ]
    },
    {
     "name": "stderr",
     "output_type": "stream",
     "text": [
      "100%|██████████| 2500/2500 [00:13<00:00, 181.31it/s]\n"
     ]
    },
    {
     "name": "stdout",
     "output_type": "stream",
     "text": [
      "Train loss:  0.6931713379621506\n"
     ]
    },
    {
     "name": "stderr",
     "output_type": "stream",
     "text": [
      "100%|██████████| 2500/2500 [00:14<00:00, 173.03it/s]\n"
     ]
    },
    {
     "name": "stdout",
     "output_type": "stream",
     "text": [
      "Train loss:  0.6931791742086411\n"
     ]
    },
    {
     "name": "stderr",
     "output_type": "stream",
     "text": [
      "100%|██████████| 2500/2500 [00:13<00:00, 178.78it/s]\n"
     ]
    },
    {
     "name": "stdout",
     "output_type": "stream",
     "text": [
      "Train loss:  0.6931776783943177\n"
     ]
    },
    {
     "name": "stderr",
     "output_type": "stream",
     "text": [
      "100%|██████████| 2500/2500 [00:14<00:00, 173.33it/s]\n"
     ]
    },
    {
     "name": "stdout",
     "output_type": "stream",
     "text": [
      "Train loss:  0.6931836221694946\n"
     ]
    },
    {
     "name": "stderr",
     "output_type": "stream",
     "text": [
      "100%|██████████| 2500/2500 [00:13<00:00, 178.79it/s]\n"
     ]
    },
    {
     "name": "stdout",
     "output_type": "stream",
     "text": [
      "Train loss:  0.693159950375557\n"
     ]
    },
    {
     "name": "stderr",
     "output_type": "stream",
     "text": [
      "100%|██████████| 2500/2500 [00:13<00:00, 179.90it/s]\n"
     ]
    },
    {
     "name": "stdout",
     "output_type": "stream",
     "text": [
      "Train loss:  0.6931603684663773\n"
     ]
    },
    {
     "name": "stderr",
     "output_type": "stream",
     "text": [
      "100%|██████████| 2500/2500 [00:14<00:00, 171.06it/s]\n"
     ]
    },
    {
     "name": "stdout",
     "output_type": "stream",
     "text": [
      "Train loss:  0.693187800192833\n"
     ]
    },
    {
     "name": "stderr",
     "output_type": "stream",
     "text": [
      "100%|██████████| 2500/2500 [00:13<00:00, 180.71it/s]\n"
     ]
    },
    {
     "name": "stdout",
     "output_type": "stream",
     "text": [
      "Train loss:  0.6931726255893708\n"
     ]
    },
    {
     "name": "stderr",
     "output_type": "stream",
     "text": [
      "100%|██████████| 2500/2500 [00:14<00:00, 172.14it/s]\n"
     ]
    },
    {
     "name": "stdout",
     "output_type": "stream",
     "text": [
      "Train loss:  0.6931788826227188\n"
     ]
    },
    {
     "name": "stderr",
     "output_type": "stream",
     "text": [
      "100%|██████████| 2500/2500 [00:14<00:00, 178.41it/s]\n"
     ]
    },
    {
     "name": "stdout",
     "output_type": "stream",
     "text": [
      "Train loss:  0.6931809585809707\n"
     ]
    },
    {
     "name": "stderr",
     "output_type": "stream",
     "text": [
      "100%|██████████| 2500/2500 [00:14<00:00, 172.93it/s]\n"
     ]
    },
    {
     "name": "stdout",
     "output_type": "stream",
     "text": [
      "Train loss:  0.6931740037441254\n"
     ]
    },
    {
     "name": "stderr",
     "output_type": "stream",
     "text": [
      "100%|██████████| 2500/2500 [00:14<00:00, 175.27it/s]\n"
     ]
    },
    {
     "name": "stdout",
     "output_type": "stream",
     "text": [
      "Train loss:  0.6931683916330338\n"
     ]
    }
   ],
   "source": [
    "device = torch.device(\"cuda\" if torch.cuda.is_available() else \"cpu\")\n",
    "\n",
    "model = nn.DataParallel(model)\n",
    "\n",
    "criterion = nn.BCELoss()\n",
    "optimizer = optim.Adam(model.parameters(), lr=0.001)\n",
    "\n",
    "model.to(device)\n",
    "model, losses, accuracies = train_model(\n",
    "    model,\n",
    "    optimizer,\n",
    "    criterion,\n",
    "    train_dataloader,\n",
    "    test_dataloader,\n",
    "    epochs=15,\n",
    "    device=device,\n",
    ")"
   ]
  },
  {
   "cell_type": "code",
   "execution_count": null,
   "metadata": {},
   "outputs": [
    {
     "data": {
      "image/png": "[encoded data removed]",
      "text/plain": [
       "<Figure size 1200x400 with 2 Axes>"
      ]
     },
     "metadata": {},
     "output_type": "display_data"
    }
   ],
   "source": [
    "# Plotting the training and validation accuracy\n",
    "plt.figure(figsize=(12, 4))\n",
    "\n",
    "plt.subplot(1, 2, 1)\n",
    "plt.plot(accuracies, label=\"Val Accuracy\")\n",
    "plt.title(\"Validation Accuracy\")\n",
    "plt.legend()\n",
    "\n",
    "# Plotting the training and validation loss\n",
    "plt.subplot(1, 2, 2)\n",
    "plt.plot(losses, label=\"Training Loss\")\n",
    "plt.title(\"Training Loss\")\n",
    "plt.legend()\n",
    "\n",
    "plt.tight_layout()\n",
    "plt.show()"
   ]
  },
  {
   "cell_type": "code",
   "execution_count": null,
   "metadata": {},
   "outputs": [
    {
     "name": "stdout",
     "output_type": "stream",
     "text": [
      "Accuracy on the test set:  0.50255\n"
     ]
    }
   ],
   "source": [
    "# Compute accuracy on the test set\n",
    "def compute_accuracy(model, dataloader):\n",
    "    model.eval()\n",
    "    y_true = []\n",
    "    y_pred = []\n",
    "    for batch_idx, (genome_seq, label) in enumerate(dataloader):\n",
    "        output = model(genome_seq)\n",
    "        y_true.extend(label.numpy())\n",
    "        y_pred.extend(output.argmax(axis=1).cpu().numpy())\n",
    "    return accuracy_score(y_true, y_pred)\n",
    "\n",
    "\n",
    "print(\"Accuracy on the test set: \", compute_accuracy(model, test_dataloader))"
   ]
  },
  {
   "cell_type": "markdown",
   "metadata": {},
   "source": [
    "The 1D conv model seem to be adapting better to the data. However the stillness of the training's accuracy shows how hard is the network struggling."
   ]
  },
  {
   "cell_type": "markdown",
   "metadata": {},
   "source": [
    "---"
   ]
  },
  {
   "cell_type": "markdown",
   "metadata": {},
   "source": [
    "## Genomic Sequences Pre-trained BERT\n",
    "The Bidirectional Encoder Representations from Transformers (BERT) model has shown promise in various NLP tasks. A version of BERT pre-trained on genomic sequences can potentially capture the contextual relationships between nucleotides in DNA sequences, thereby aiding in accurate classification."
   ]
  },
  {
   "cell_type": "markdown",
   "metadata": {},
   "source": [
    "Let's start first using the weights of the papers of DNA bert where a pre-trained model is available."
   ]
  },
  {
   "cell_type": "markdown",
   "metadata": {},
   "source": [
    "https://colab.research.google.com/github/abhimishra91/transformers-tutorials/blob/master/transformers_multi_label_classification.ipynb#scrollTo=ikfbFlNHgi8T\n",
    "\n",
    "https://huggingface.co/zhihan1996/DNABERT-2-117M"
   ]
  },
  {
   "cell_type": "code",
   "execution_count": null,
   "metadata": {},
   "outputs": [
    {
     "name": "stdout",
     "output_type": "stream",
     "text": [
      "Requirement already satisfied: transformers==4.28 in /opt/conda/lib/python3.10/site-packages (4.28.0)\n",
      "Requirement already satisfied: einops in /opt/conda/lib/python3.10/site-packages (0.7.0)\n",
      "Requirement already satisfied: filelock in /opt/conda/lib/python3.10/site-packages (from transformers==4.28) (3.12.2)\n",
      "Requirement already satisfied: huggingface-hub<1.0,>=0.11.0 in /opt/conda/lib/python3.10/site-packages (from transformers==4.28) (0.16.4)\n",
      "Requirement already satisfied: numpy>=1.17 in /opt/conda/lib/python3.10/site-packages (from transformers==4.28) (1.23.5)\n",
      "Requirement already satisfied: packaging>=20.0 in /opt/conda/lib/python3.10/site-packages (from transformers==4.28) (21.3)\n",
      "Requirement already satisfied: pyyaml>=5.1 in /opt/conda/lib/python3.10/site-packages (from transformers==4.28) (6.0)\n",
      "Requirement already satisfied: regex!=2019.12.17 in /opt/conda/lib/python3.10/site-packages (from transformers==4.28) (2023.6.3)\n",
      "Requirement already satisfied: requests in /opt/conda/lib/python3.10/site-packages (from transformers==4.28) (2.31.0)\n",
      "Requirement already satisfied: tokenizers!=0.11.3,<0.14,>=0.11.1 in /opt/conda/lib/python3.10/site-packages (from transformers==4.28) (0.13.3)\n",
      "Requirement already satisfied: tqdm>=4.27 in /opt/conda/lib/python3.10/site-packages (from transformers==4.28) (4.66.1)\n",
      "Requirement already satisfied: fsspec in /opt/conda/lib/python3.10/site-packages (from huggingface-hub<1.0,>=0.11.0->transformers==4.28) (2023.9.0)\n",
      "Requirement already satisfied: typing-extensions>=3.7.4.3 in /opt/conda/lib/python3.10/site-packages (from huggingface-hub<1.0,>=0.11.0->transformers==4.28) (4.6.3)\n",
      "Requirement already satisfied: pyparsing!=3.0.5,>=2.0.2 in /opt/conda/lib/python3.10/site-packages (from packaging>=20.0->transformers==4.28) (3.0.9)\n",
      "Requirement already satisfied: charset-normalizer<4,>=2 in /opt/conda/lib/python3.10/site-packages (from requests->transformers==4.28) (3.1.0)\n",
      "Requirement already satisfied: idna<4,>=2.5 in /opt/conda/lib/python3.10/site-packages (from requests->transformers==4.28) (3.4)\n",
      "Requirement already satisfied: urllib3<3,>=1.21.1 in /opt/conda/lib/python3.10/site-packages (from requests->transformers==4.28) (1.26.15)\n",
      "Requirement already satisfied: certifi>=2017.4.17 in /opt/conda/lib/python3.10/site-packages (from requests->transformers==4.28) (2023.7.22)\n"
     ]
    }
   ],
   "source": [
    "!pip install transformers==4.28 einops torch torchvision torchaudio transformers tqdm matplotlib scikit-learn pandas numpy"
   ]
  },
  {
   "cell_type": "code",
   "execution_count": null,
   "metadata": {},
   "outputs": [],
   "source": [
    "import transformers\n",
    "import torch\n",
    "from transformers import AutoTokenizer, AutoModel\n",
    "from torch.utils.data import Dataset, DataLoader, RandomSampler, SequentialSampler\n",
    "from tqdm import tqdm\n",
    "from matplotlib import pyplot as plt\n",
    "from sklearn import metrics"
   ]
  },
  {
   "cell_type": "code",
   "execution_count": null,
   "metadata": {},
   "outputs": [],
   "source": [
    "# Sections of config\n",
    "\n",
    "# Defining some key variables that will be used later on in the training\n",
    "MAX_LEN = 90\n",
    "TRAIN_BATCH_SIZE = 32\n",
    "VALID_BATCH_SIZE = 16\n",
    "EPOCHS = 3\n",
    "LEARNING_RATE = 1e-03\n",
    "\n",
    "tokenizer = AutoTokenizer.from_pretrained(\n",
    "    \"zhihan1996/DNABERT-2-117M\", trust_remote_code=True\n",
    ")"
   ]
  },
  {
   "cell_type": "code",
   "execution_count": null,
   "metadata": {},
   "outputs": [],
   "source": [
    "class CustomDataset(Dataset):\n",
    "    def __init__(self, dataframe, tokenizer, max_len):\n",
    "        self.tokenizer = tokenizer\n",
    "        self.data = dataframe\n",
    "        self.genome_sequence = dataframe.genome_sequence\n",
    "        self.targets = dataframe.label.to_numpy()\n",
    "        self.max_len = max_len\n",
    "\n",
    "    def __len__(self):\n",
    "        return len(self.genome_sequence)\n",
    "\n",
    "    def __getitem__(self, index):\n",
    "        genome_seq = str(self.genome_sequence.iloc[index])\n",
    "        inputs = self.tokenizer.encode_plus(\n",
    "            genome_seq,\n",
    "            None,\n",
    "            add_special_tokens=True,\n",
    "            max_length=self.max_len,\n",
    "            pad_to_max_length=True,\n",
    "            return_token_type_ids=True,\n",
    "        )\n",
    "        ids = inputs[\"input_ids\"]\n",
    "        mask = inputs[\"attention_mask\"]\n",
    "        token_type_ids = inputs[\"token_type_ids\"]\n",
    "\n",
    "        return {\n",
    "            \"ids\": torch.tensor(ids, dtype=torch.long),\n",
    "            \"mask\": torch.tensor(mask, dtype=torch.long),\n",
    "            \"token_type_ids\": torch.tensor(token_type_ids, dtype=torch.long),\n",
    "            \"targets\": torch.tensor(self.targets[index], dtype=torch.float),\n",
    "        }"
   ]
  },
  {
   "cell_type": "code",
   "execution_count": null,
   "metadata": {},
   "outputs": [
    {
     "name": "stdout",
     "output_type": "stream",
     "text": [
      "FULL Dataset: (19799984, 2)\n",
      "TRAIN Dataset: (80000, 2)\n",
      "TEST Dataset: (20000, 2)\n"
     ]
    }
   ],
   "source": [
    "# Creating the dataset and dataloader for the neural network\n",
    "print(\"FULL Dataset: {}\".format(df.shape))\n",
    "print(\"TRAIN Dataset: {}\".format(df_train.shape))\n",
    "print(\"TEST Dataset: {}\".format(df_test.shape))\n",
    "\n",
    "training_set = CustomDataset(df_train, tokenizer, MAX_LEN)\n",
    "testing_set = CustomDataset(df_test, tokenizer, MAX_LEN)"
   ]
  },
  {
   "cell_type": "code",
   "execution_count": null,
   "metadata": {},
   "outputs": [],
   "source": [
    "train_params = {\"batch_size\": TRAIN_BATCH_SIZE, \"shuffle\": True, \"num_workers\": 0}\n",
    "\n",
    "test_params = {\"batch_size\": VALID_BATCH_SIZE, \"shuffle\": True, \"num_workers\": 0}\n",
    "\n",
    "training_loader = DataLoader(training_set, **train_params)\n",
    "testing_loader = DataLoader(testing_set, **test_params)"
   ]
  },
  {
   "cell_type": "code",
   "execution_count": null,
   "metadata": {},
   "outputs": [],
   "source": [
    "device = torch.device(\"cuda\" if torch.cuda.is_available() else \"cpu\")"
   ]
  },
  {
   "cell_type": "code",
   "execution_count": null,
   "metadata": {},
   "outputs": [
    {
     "name": "stderr",
     "output_type": "stream",
     "text": [
      "Explicitly passing a `revision` is encouraged when loading a configuration with custom code to ensure no malicious code has been contributed in a newer revision.\n",
      "Explicitly passing a `revision` is encouraged when loading a model with custom code to ensure no malicious code has been contributed in a newer revision.\n",
      "/root/.cache/huggingface/modules/transformers_modules/zhihan1996/DNABERT-2-117M/81ac6a98387cf94bc283553260f3fa6b88cef2fa/bert_layers.py:125: UserWarning: Unable to import Triton; defaulting MosaicBERT attention implementation to pytorch (this will reduce throughput when using this model).\n",
      "  warnings.warn(\n",
      "Some weights of the model checkpoint at zhihan1996/DNABERT-2-117M were not used when initializing BertModel: ['cls.predictions.transform.dense.weight', 'cls.predictions.transform.LayerNorm.weight', 'cls.predictions.decoder.bias', 'cls.predictions.transform.dense.bias', 'cls.predictions.transform.LayerNorm.bias', 'cls.predictions.decoder.weight']\n",
      "- This IS expected if you are initializing BertModel from the checkpoint of a model trained on another task or with another architecture (e.g. initializing a BertForSequenceClassification model from a BertForPreTraining model).\n",
      "- This IS NOT expected if you are initializing BertModel from the checkpoint of a model that you expect to be exactly identical (initializing a BertForSequenceClassification model from a BertForSequenceClassification model).\n"
     ]
    },
    {
     "data": {
      "text/plain": [
       "BERTClass(\n",
       "  (l1): BertModel(\n",
       "    (embeddings): BertEmbeddings(\n",
       "      (word_embeddings): Embedding(4096, 768, padding_idx=0)\n",
       "      (token_type_embeddings): Embedding(2, 768)\n",
       "      (LayerNorm): LayerNorm((768,), eps=1e-12, elementwise_affine=True)\n",
       "      (dropout): Dropout(p=0.1, inplace=False)\n",
       "    )\n",
       "    (encoder): BertEncoder(\n",
       "      (layer): ModuleList(\n",
       "        (0-11): 12 x BertLayer(\n",
       "          (attention): BertUnpadAttention(\n",
       "            (self): BertUnpadSelfAttention(\n",
       "              (dropout): Dropout(p=0.0, inplace=False)\n",
       "              (Wqkv): Linear(in_features=768, out_features=2304, bias=True)\n",
       "            )\n",
       "            (output): BertSelfOutput(\n",
       "              (dense): Linear(in_features=768, out_features=768, bias=True)\n",
       "              (LayerNorm): LayerNorm((768,), eps=1e-12, elementwise_affine=True)\n",
       "              (dropout): Dropout(p=0.1, inplace=False)\n",
       "            )\n",
       "          )\n",
       "          (mlp): BertGatedLinearUnitMLP(\n",
       "            (gated_layers): Linear(in_features=768, out_features=6144, bias=False)\n",
       "            (act): GELU(approximate='none')\n",
       "            (wo): Linear(in_features=3072, out_features=768, bias=True)\n",
       "            (dropout): Dropout(p=0.1, inplace=False)\n",
       "            (layernorm): LayerNorm((768,), eps=1e-12, elementwise_affine=True)\n",
       "          )\n",
       "        )\n",
       "      )\n",
       "    )\n",
       "    (pooler): BertPooler(\n",
       "      (dense): Linear(in_features=768, out_features=768, bias=True)\n",
       "      (activation): Tanh()\n",
       "    )\n",
       "  )\n",
       "  (l3): Linear(in_features=768, out_features=1, bias=True)\n",
       ")"
      ]
     },
     "metadata": {},
     "output_type": "display_data"
    }
   ],
   "source": [
    "# Creating the customized model, by adding a drop out and a dense layer on top of distil bert to get the final output for the model.\n",
    "\n",
    "\n",
    "class BERTClass(torch.nn.Module):\n",
    "    def __init__(self):\n",
    "        super(BERTClass, self).__init__()\n",
    "\n",
    "        self.l1 = AutoModel.from_pretrained(\n",
    "            \"zhihan1996/DNABERT-2-117M\", trust_remote_code=True\n",
    "        )\n",
    "        self.l3 = torch.nn.Linear(768, 1)\n",
    "\n",
    "    def forward(self, ids, mask, token_type_ids):\n",
    "        _, output_1 = self.l1(\n",
    "            ids, attention_mask=mask, token_type_ids=token_type_ids, return_dict=False\n",
    "        )\n",
    "        output = self.l3(output_1)\n",
    "\n",
    "        return output\n",
    "\n",
    "\n",
    "model = BERTClass()\n",
    "model.to(device)"
   ]
  },
  {
   "cell_type": "code",
   "execution_count": null,
   "metadata": {},
   "outputs": [],
   "source": [
    "def loss_fn(outputs, targets):\n",
    "    return torch.nn.BCEWithLogitsLoss()(outputs, targets)"
   ]
  },
  {
   "cell_type": "code",
   "execution_count": null,
   "metadata": {},
   "outputs": [],
   "source": [
    "optimizer = torch.optim.Adam(params=model.parameters(), lr=LEARNING_RATE)"
   ]
  },
  {
   "cell_type": "code",
   "execution_count": null,
   "metadata": {},
   "outputs": [],
   "source": [
    "def train(epoch):\n",
    "    model.train()\n",
    "    total_loss = 0\n",
    "    for _, data in tqdm(enumerate(training_loader, 0), total=len(training_loader)):\n",
    "        ids = data[\"ids\"].to(device, dtype=torch.long)\n",
    "        mask = data[\"mask\"].to(device, dtype=torch.long)\n",
    "        token_type_ids = data[\"token_type_ids\"].to(device, dtype=torch.long)\n",
    "        targets = data[\"targets\"].to(device, dtype=torch.float)\n",
    "\n",
    "        outputs = model(ids, mask, token_type_ids)\n",
    "        optimizer.zero_grad()\n",
    "        loss = loss_fn(outputs.view(-1), targets)\n",
    "        total_loss += loss.item()\n",
    "\n",
    "        optimizer.zero_grad()\n",
    "        loss.backward()\n",
    "        optimizer.step()\n",
    "    return total_loss / len(training_loader)"
   ]
  },
  {
   "cell_type": "code",
   "execution_count": null,
   "metadata": {},
   "outputs": [
    {
     "name": "stderr",
     "output_type": "stream",
     "text": [
      "  0%|          | 0/2500 [00:00<?, ?it/s]Truncation was not explicitly activated but `max_length` is provided a specific value, please use `truncation=True` to explicitly truncate examples to max length. Defaulting to 'longest_first' truncation strategy. If you encode pairs of sequences (GLUE-style) with the tokenizer you can select this strategy more precisely by providing a specific strategy to `truncation`.\n",
      "/opt/conda/lib/python3.10/site-packages/transformers/tokenization_utils_base.py:2354: FutureWarning: The `pad_to_max_length` argument is deprecated and will be removed in a future version, use `padding=True` or `padding='longest'` to pad to the longest sequence in the batch, or use `padding='max_length'` to pad to a max length. In this case, you can give a specific length with `max_length` (e.g. `max_length=45`) or leave max_length to None to pad to the maximal input size of the model (e.g. 512 for Bert).\n",
      "  warnings.warn(\n",
      "100%|██████████| 2500/2500 [15:08<00:00,  2.75it/s]\n"
     ]
    },
    {
     "name": "stdout",
     "output_type": "stream",
     "text": [
      "loss at epoch  0 :  0.6940998448610306\n"
     ]
    },
    {
     "name": "stderr",
     "output_type": "stream",
     "text": [
      "100%|██████████| 2500/2500 [15:09<00:00,  2.75it/s]\n"
     ]
    },
    {
     "name": "stdout",
     "output_type": "stream",
     "text": [
      "loss at epoch  1 :  0.6933075151205063\n"
     ]
    },
    {
     "name": "stderr",
     "output_type": "stream",
     "text": [
      "100%|██████████| 2500/2500 [15:10<00:00,  2.75it/s]"
     ]
    },
    {
     "name": "stdout",
     "output_type": "stream",
     "text": [
      "loss at epoch  2 :  0.6934334316968918\n"
     ]
    },
    {
     "name": "stderr",
     "output_type": "stream",
     "text": [
      "\n"
     ]
    },
    {
     "data": {
      "text/plain": [
       "[<matplotlib.lines.Line2D at 0x79f3ecc61d20>]"
      ]
     },
     "metadata": {},
     "output_type": "display_data"
    },
    {
     "data": {
      "image/png": "[encoded data removed]",
      "text/plain": [
       "<Figure size 640x480 with 1 Axes>"
      ]
     },
     "metadata": {},
     "output_type": "display_data"
    }
   ],
   "source": [
    "losses = []\n",
    "for epoch in range(EPOCHS):\n",
    "    losses.append(train(epoch))\n",
    "    print(\"loss at epoch \", epoch, \": \", losses[-1])\n",
    "\n",
    "plt.plot(losses)"
   ]
  },
  {
   "cell_type": "code",
   "execution_count": null,
   "metadata": {},
   "outputs": [],
   "source": [
    "def validation(epoch):\n",
    "    model.eval()\n",
    "    fin_targets = []\n",
    "    fin_outputs = []\n",
    "    with torch.no_grad():\n",
    "        for _, data in enumerate(testing_loader, 0):\n",
    "            ids = data[\"ids\"].to(device, dtype=torch.long)\n",
    "            mask = data[\"mask\"].to(device, dtype=torch.long)\n",
    "            token_type_ids = data[\"token_type_ids\"].to(device, dtype=torch.long)\n",
    "            targets = data[\"targets\"].to(device, dtype=torch.float)\n",
    "            outputs = model(ids, mask, token_type_ids)\n",
    "            fin_targets.extend(targets.cpu().detach().numpy().tolist())\n",
    "            fin_outputs.extend(torch.sigmoid(outputs).cpu().detach().numpy().tolist())\n",
    "    return fin_outputs, fin_targets"
   ]
  },
  {
   "cell_type": "code",
   "execution_count": null,
   "metadata": {},
   "outputs": [
    {
     "name": "stdout",
     "output_type": "stream",
     "text": [
      "Accuracy Score = 0.4938\n",
      "F1 Score (Micro) = 0.4938\n",
      "F1 Score (Macro) = 0.33056634087561926\n"
     ]
    }
   ],
   "source": [
    "outputs, targets = validation(1)\n",
    "outputs = np.array(outputs) >= 0.5\n",
    "accuracy = metrics.accuracy_score(targets, outputs)\n",
    "f1_score_micro = metrics.f1_score(targets, outputs, average=\"micro\")\n",
    "f1_score_macro = metrics.f1_score(targets, outputs, average=\"macro\")\n",
    "print(f\"Accuracy Score = {accuracy}\")\n",
    "print(f\"F1 Score (Micro) = {f1_score_micro}\")\n",
    "print(f\"F1 Score (Macro) = {f1_score_macro}\")"
   ]
  },
  {
   "cell_type": "markdown",
   "metadata": {},
   "source": [
    "Our first obeservation is that this approach is very costly when it comes to trainig time/memory requirements. \n",
    "Moreover, is seem that the model is not able to learn anything from the data as the accuracy is under 50% which is the accuracy of random guessing with bad luck..."
   ]
  },
  {
   "cell_type": "markdown",
   "metadata": {},
   "source": [
    "Let's also try with another set of weights, this time it is from the AIRI institute.\n",
    "\n",
    "The following code is pretty much the same as the one from the previous section, we just load the weights from another model. \n",
    "\n",
    "As the model is different, we need to change the dataset."
   ]
  },
  {
   "cell_type": "code",
   "execution_count": null,
   "metadata": {},
   "outputs": [],
   "source": [
    "!pip install torch torchvision torchaudio transformers scikit-learn matplotlib tqdm deepspeed"
   ]
  },
  {
   "cell_type": "code",
   "execution_count": null,
   "metadata": {},
   "outputs": [],
   "source": [
    "import transformers\n",
    "import torch\n",
    "from transformers import BertTokenizer, BertModel, BertConfig\n",
    "from transformers import AutoTokenizer, AutoModel\n",
    "from torch.utils.data import Dataset, DataLoader, RandomSampler, SequentialSampler\n",
    "from sklearn import metrics\n",
    "from tqdm import tqdm\n",
    "from matplotlib import pyplot as plt"
   ]
  },
  {
   "cell_type": "code",
   "execution_count": null,
   "metadata": {},
   "outputs": [],
   "source": [
    "# Sections of config\n",
    "\n",
    "# Defining some key variables that will be used later on in the training\n",
    "MAX_LEN = 90\n",
    "TRAIN_BATCH_SIZE = 64\n",
    "VALID_BATCH_SIZE = 32\n",
    "EPOCHS = 10\n",
    "LEARNING_RATE = 1e-02\n",
    "\n",
    "tokenizer = AutoTokenizer.from_pretrained(\"AIRI-Institute/gena-lm-bert-base\", trust_remote_code=True)"
   ]
  },
  {
   "cell_type": "code",
   "execution_count": null,
   "metadata": {},
   "outputs": [],
   "source": [
    "class CustomDataset(Dataset):\n",
    "    def __init__(self, dataframe, tokenizer, max_len):\n",
    "        self.tokenizer = tokenizer\n",
    "        self.data = dataframe\n",
    "        self.genome_sequence = dataframe.genome_sequence\n",
    "        self.targets = dataframe.label.to_numpy()\n",
    "        self.max_len = max_len\n",
    "\n",
    "    def __len__(self):\n",
    "        return len(self.genome_sequence)\n",
    "\n",
    "    def __getitem__(self, index):\n",
    "        genome_seq = str(self.genome_sequence.iloc[index])\n",
    "        inputs = self.tokenizer.encode_plus(\n",
    "            genome_seq,\n",
    "            None,\n",
    "            add_special_tokens=True,\n",
    "            max_length=self.max_len,\n",
    "            pad_to_max_length=True,\n",
    "            return_token_type_ids=True,\n",
    "        )\n",
    "        ids = inputs[\"input_ids\"]\n",
    "        mask = inputs[\"attention_mask\"]\n",
    "        token_type_ids = inputs[\"token_type_ids\"]\n",
    "\n",
    "        return {\n",
    "            \"ids\": torch.tensor(ids, dtype=torch.long),\n",
    "            \"mask\": torch.tensor(mask, dtype=torch.long),\n",
    "            \"token_type_ids\": torch.tensor(token_type_ids, dtype=torch.long),\n",
    "            \"targets\": torch.tensor(self.targets[index], dtype=torch.float),\n",
    "        }"
   ]
  },
  {
   "cell_type": "code",
   "execution_count": null,
   "metadata": {},
   "outputs": [
    {
     "name": "stdout",
     "output_type": "stream",
     "text": [
      "FULL Dataset: (19799984, 2)\n",
      "TRAIN Dataset: (80000, 2)\n",
      "TEST Dataset: (20000, 2)\n"
     ]
    }
   ],
   "source": [
    "# Creating the dataset and dataloader for the neural network\n",
    "print(\"FULL Dataset: {}\".format(df.shape))\n",
    "print(\"TRAIN Dataset: {}\".format(df_train.shape))\n",
    "print(\"TEST Dataset: {}\".format(df_test.shape))\n",
    "\n",
    "training_set = CustomDataset(df_train, tokenizer, MAX_LEN)\n",
    "testing_set = CustomDataset(df_test, tokenizer, MAX_LEN)"
   ]
  },
  {
   "cell_type": "code",
   "execution_count": null,
   "metadata": {},
   "outputs": [],
   "source": [
    "train_params = {\"batch_size\": TRAIN_BATCH_SIZE, \"shuffle\": True, \"num_workers\": 0}\n",
    "\n",
    "test_params = {\"batch_size\": VALID_BATCH_SIZE, \"shuffle\": True, \"num_workers\": 0}\n",
    "\n",
    "training_loader = DataLoader(training_set, **train_params)\n",
    "testing_loader = DataLoader(testing_set, **test_params)"
   ]
  },
  {
   "cell_type": "code",
   "execution_count": null,
   "metadata": {},
   "outputs": [],
   "source": [
    "device = torch.device(\"cuda\" if torch.cuda.is_available() else \"cpu\")"
   ]
  },
  {
   "cell_type": "code",
   "execution_count": null,
   "metadata": {},
   "outputs": [
    {
     "name": "stderr",
     "output_type": "stream",
     "text": [
      "Some weights of BertModel were not initialized from the model checkpoint at AIRI-Institute/gena-lm-bert-base and are newly initialized: ['bert.encoder.layer.3.attention.output.LayerNorm.weight', 'bert.encoder.layer.3.output.LayerNorm.bias', 'bert.encoder.layer.9.output.LayerNorm.weight', 'bert.encoder.layer.6.attention.output.LayerNorm.weight', 'bert.encoder.layer.0.attention.output.LayerNorm.bias', 'bert.encoder.layer.1.attention.output.LayerNorm.weight', 'bert.encoder.layer.10.output.LayerNorm.bias', 'bert.encoder.layer.7.output.LayerNorm.weight', 'bert.encoder.layer.11.output.LayerNorm.bias', 'bert.encoder.layer.7.output.LayerNorm.bias', 'bert.encoder.layer.11.output.LayerNorm.weight', 'bert.encoder.layer.3.output.LayerNorm.weight', 'bert.encoder.layer.10.attention.output.LayerNorm.bias', 'bert.encoder.layer.1.attention.output.LayerNorm.bias', 'bert.encoder.layer.1.output.LayerNorm.bias', 'bert.encoder.layer.8.output.LayerNorm.weight', 'bert.encoder.layer.11.attention.output.LayerNorm.weight', 'bert.encoder.layer.9.attention.output.LayerNorm.weight', 'bert.encoder.layer.2.attention.output.LayerNorm.weight', 'bert.encoder.layer.0.output.LayerNorm.bias', 'bert.encoder.layer.3.attention.output.LayerNorm.bias', 'bert.encoder.layer.6.output.LayerNorm.weight', 'bert.encoder.layer.2.attention.output.LayerNorm.bias', 'bert.encoder.layer.10.output.LayerNorm.weight', 'bert.encoder.layer.2.output.LayerNorm.weight', 'bert.encoder.layer.6.output.LayerNorm.bias', 'bert.encoder.layer.4.output.LayerNorm.weight', 'bert.encoder.layer.4.output.LayerNorm.bias', 'bert.encoder.layer.8.attention.output.LayerNorm.weight', 'bert.encoder.layer.11.attention.output.LayerNorm.bias', 'bert.encoder.layer.7.attention.output.LayerNorm.bias', 'bert.encoder.layer.4.attention.output.LayerNorm.bias', 'bert.encoder.layer.5.attention.output.LayerNorm.bias', 'bert.encoder.layer.8.attention.output.LayerNorm.bias', 'bert.encoder.layer.6.attention.output.LayerNorm.bias', 'bert.encoder.layer.0.output.LayerNorm.weight', 'bert.encoder.layer.2.output.LayerNorm.bias', 'bert.encoder.layer.8.output.LayerNorm.bias', 'bert.encoder.layer.4.attention.output.LayerNorm.weight', 'bert.encoder.layer.10.attention.output.LayerNorm.weight', 'bert.encoder.layer.5.attention.output.LayerNorm.weight', 'bert.encoder.layer.5.output.LayerNorm.bias', 'bert.encoder.layer.0.attention.output.LayerNorm.weight', 'bert.encoder.layer.9.output.LayerNorm.bias', 'bert.encoder.layer.7.attention.output.LayerNorm.weight', 'bert.encoder.layer.1.output.LayerNorm.weight', 'bert.encoder.layer.9.attention.output.LayerNorm.bias', 'bert.encoder.layer.5.output.LayerNorm.weight']\n",
      "You should probably TRAIN this model on a down-stream task to be able to use it for predictions and inference.\n"
     ]
    },
    {
     "data": {
      "text/plain": [
       "BERTClass(\n",
       "  (l1): BertModel(\n",
       "    (embeddings): BertEmbeddings(\n",
       "      (word_embeddings): Embedding(32000, 768, padding_idx=3)\n",
       "      (position_embeddings): Embedding(512, 768)\n",
       "      (token_type_embeddings): Embedding(2, 768)\n",
       "      (LayerNorm): LayerNorm((768,), eps=1e-12, elementwise_affine=True)\n",
       "      (dropout): Dropout(p=0.1, inplace=False)\n",
       "    )\n",
       "    (encoder): BertEncoder(\n",
       "      (layer): ModuleList(\n",
       "        (0-11): 12 x BertLayer(\n",
       "          (attention): BertAttention(\n",
       "            (self): BertSelfAttention(\n",
       "              (query): Linear(in_features=768, out_features=768, bias=True)\n",
       "              (key): Linear(in_features=768, out_features=768, bias=True)\n",
       "              (value): Linear(in_features=768, out_features=768, bias=True)\n",
       "              (dropout): Dropout(p=0.1, inplace=False)\n",
       "            )\n",
       "            (output): BertSelfOutput(\n",
       "              (dense): Linear(in_features=768, out_features=768, bias=True)\n",
       "              (LayerNorm): LayerNorm((768,), eps=1e-12, elementwise_affine=True)\n",
       "              (dropout): Dropout(p=0.1, inplace=False)\n",
       "            )\n",
       "          )\n",
       "          (intermediate): BertIntermediate(\n",
       "            (dense): Linear(in_features=768, out_features=3072, bias=True)\n",
       "            (intermediate_act_fn): GELUActivation()\n",
       "          )\n",
       "          (output): BertOutput(\n",
       "            (dense): Linear(in_features=3072, out_features=768, bias=True)\n",
       "            (LayerNorm): LayerNorm((768,), eps=1e-12, elementwise_affine=True)\n",
       "            (dropout): Dropout(p=0.1, inplace=False)\n",
       "          )\n",
       "        )\n",
       "      )\n",
       "    )\n",
       "    (pooler): BertPooler(\n",
       "      (dense): Linear(in_features=768, out_features=768, bias=True)\n",
       "      (activation): Tanh()\n",
       "    )\n",
       "  )\n",
       "  (l2): Dropout(p=0.3, inplace=False)\n",
       "  (l3): Linear(in_features=768, out_features=1, bias=True)\n",
       ")"
      ]
     },
     "metadata": {},
     "output_type": "display_data"
    }
   ],
   "source": [
    "# Creating the customized model, by adding a drop out and a dense layer on top of distil bert to get the final output for the model.\n",
    "\n",
    "\n",
    "class BERTClass(torch.nn.Module):\n",
    "    def __init__(self):\n",
    "        super(BERTClass, self).__init__()\n",
    "\n",
    "        self.l1 = AutoModel.from_pretrained(\"AIRI-Institute/gena-lm-bert-base\", trust_remote_code=True)\n",
    "        self.l2 = torch.nn.Dropout(0.3)\n",
    "        self.l3 = torch.nn.Linear(768, 1)\n",
    "\n",
    "    def forward(self, ids, mask, token_type_ids):\n",
    "        _, output_1 = self.l1(\n",
    "            ids, attention_mask=mask, token_type_ids=token_type_ids, return_dict=False\n",
    "        )\n",
    "        output_2 = self.l2(output_1)\n",
    "        output = self.l3(output_2)\n",
    "\n",
    "        return output\n",
    "\n",
    "\n",
    "model = BERTClass()\n",
    "model.to(device)"
   ]
  },
  {
   "cell_type": "code",
   "execution_count": null,
   "metadata": {},
   "outputs": [],
   "source": [
    "def loss_fn(outputs, targets):\n",
    "    return torch.nn.BCEWithLogitsLoss()(outputs, targets)"
   ]
  },
  {
   "cell_type": "code",
   "execution_count": null,
   "metadata": {},
   "outputs": [],
   "source": [
    "optimizer = torch.optim.Adam(params=model.parameters(), lr=LEARNING_RATE)"
   ]
  },
  {
   "cell_type": "code",
   "execution_count": null,
   "metadata": {},
   "outputs": [],
   "source": [
    "def train(epoch):\n",
    "    model.train()\n",
    "    total_loss = 0\n",
    "    for _, data in tqdm(enumerate(training_loader, 0), total=len(training_loader)):\n",
    "        ids = data[\"ids\"].to(device, dtype=torch.long)\n",
    "        mask = data[\"mask\"].to(device, dtype=torch.long)\n",
    "        token_type_ids = data[\"token_type_ids\"].to(device, dtype=torch.long)\n",
    "        targets = data[\"targets\"].to(device, dtype=torch.float)\n",
    "\n",
    "        outputs = model(ids, mask, token_type_ids)\n",
    "\n",
    "        optimizer.zero_grad()\n",
    "        loss = loss_fn(outputs.view(-1), targets)\n",
    "        total_loss += loss.item()\n",
    "\n",
    "        optimizer.zero_grad()\n",
    "        loss.backward()\n",
    "        optimizer.step()\n",
    "    return total_loss / len(training_loader)"
   ]
  },
  {
   "cell_type": "code",
   "execution_count": null,
   "metadata": {},
   "outputs": [
    {
     "name": "stderr",
     "output_type": "stream",
     "text": [
      "  0%|          | 0/1250 [00:00<?, ?it/s]Truncation was not explicitly activated but `max_length` is provided a specific value, please use `truncation=True` to explicitly truncate examples to max length. Defaulting to 'longest_first' truncation strategy. If you encode pairs of sequences (GLUE-style) with the tokenizer you can select this strategy more precisely by providing a specific strategy to `truncation`.\n",
      "/opt/conda/lib/python3.10/site-packages/transformers/tokenization_utils_base.py:2418: FutureWarning: The `pad_to_max_length` argument is deprecated and will be removed in a future version, use `padding=True` or `padding='longest'` to pad to the longest sequence in the batch, or use `padding='max_length'` to pad to a max length. In this case, you can give a specific length with `max_length` (e.g. `max_length=45`) or leave max_length to None to pad to the maximal input size of the model (e.g. 512 for Bert).\n",
      "  warnings.warn(\n",
      "100%|██████████| 1250/1250 [10:36<00:00,  1.96it/s]\n"
     ]
    },
    {
     "name": "stdout",
     "output_type": "stream",
     "text": [
      "loss at epoch  0 :  0.775286752986908\n"
     ]
    },
    {
     "name": "stderr",
     "output_type": "stream",
     "text": [
      "100%|██████████| 1250/1250 [10:35<00:00,  1.97it/s]\n"
     ]
    },
    {
     "name": "stdout",
     "output_type": "stream",
     "text": [
      "loss at epoch  1 :  0.7864574189186097\n"
     ]
    },
    {
     "name": "stderr",
     "output_type": "stream",
     "text": [
      "100%|██████████| 1250/1250 [10:35<00:00,  1.97it/s]\n"
     ]
    },
    {
     "name": "stdout",
     "output_type": "stream",
     "text": [
      "loss at epoch  2 :  0.7764403200626373\n"
     ]
    },
    {
     "name": "stderr",
     "output_type": "stream",
     "text": [
      "100%|██████████| 1250/1250 [10:35<00:00,  1.97it/s]\n"
     ]
    },
    {
     "name": "stdout",
     "output_type": "stream",
     "text": [
      "loss at epoch  3 :  0.7774056327819824\n"
     ]
    },
    {
     "name": "stderr",
     "output_type": "stream",
     "text": [
      "100%|██████████| 1250/1250 [10:35<00:00,  1.97it/s]\n"
     ]
    },
    {
     "name": "stdout",
     "output_type": "stream",
     "text": [
      "loss at epoch  4 :  0.7812005206108094\n"
     ]
    },
    {
     "name": "stderr",
     "output_type": "stream",
     "text": [
      "100%|██████████| 1250/1250 [10:35<00:00,  1.97it/s]\n"
     ]
    },
    {
     "name": "stdout",
     "output_type": "stream",
     "text": [
      "loss at epoch  5 :  0.7675274605751038\n"
     ]
    },
    {
     "name": "stderr",
     "output_type": "stream",
     "text": [
      "100%|██████████| 1250/1250 [10:34<00:00,  1.97it/s]\n"
     ]
    },
    {
     "name": "stdout",
     "output_type": "stream",
     "text": [
      "loss at epoch  6 :  0.7817751158714294\n"
     ]
    },
    {
     "name": "stderr",
     "output_type": "stream",
     "text": [
      "100%|██████████| 1250/1250 [10:35<00:00,  1.97it/s]\n"
     ]
    },
    {
     "name": "stdout",
     "output_type": "stream",
     "text": [
      "loss at epoch  7 :  0.7843246402740478\n"
     ]
    },
    {
     "name": "stderr",
     "output_type": "stream",
     "text": [
      "100%|██████████| 1250/1250 [10:35<00:00,  1.97it/s]\n"
     ]
    },
    {
     "name": "stdout",
     "output_type": "stream",
     "text": [
      "loss at epoch  8 :  0.7757829966068268\n"
     ]
    },
    {
     "name": "stderr",
     "output_type": "stream",
     "text": [
      "100%|██████████| 1250/1250 [10:35<00:00,  1.97it/s]"
     ]
    },
    {
     "name": "stdout",
     "output_type": "stream",
     "text": [
      "loss at epoch  9 :  0.7828727591514587\n"
     ]
    },
    {
     "name": "stderr",
     "output_type": "stream",
     "text": [
      "\n"
     ]
    },
    {
     "data": {
      "text/plain": [
       "[<matplotlib.lines.Line2D at 0x783b78132e60>]"
      ]
     },
     "metadata": {},
     "output_type": "display_data"
    },
    {
     "data": {
      "image/png": "[encoded data removed]",
      "text/plain": [
       "<Figure size 640x480 with 1 Axes>"
      ]
     },
     "metadata": {},
     "output_type": "display_data"
    }
   ],
   "source": [
    "losses = []\n",
    "for epoch in range(EPOCHS):\n",
    "    losses.append(train(epoch))\n",
    "    print(\"loss at epoch \", epoch, \": \", losses[-1])\n",
    "\n",
    "plt.plot(losses)"
   ]
  },
  {
   "cell_type": "code",
   "execution_count": null,
   "metadata": {},
   "outputs": [],
   "source": [
    "def validation(epoch):\n",
    "    model.eval()\n",
    "    fin_targets = []\n",
    "    fin_outputs = []\n",
    "    with torch.no_grad():\n",
    "        for _, data in enumerate(testing_loader, 0):\n",
    "            ids = data[\"ids\"].to(device, dtype=torch.long)\n",
    "            mask = data[\"mask\"].to(device, dtype=torch.long)\n",
    "            token_type_ids = data[\"token_type_ids\"].to(device, dtype=torch.long)\n",
    "            targets = data[\"targets\"].to(device, dtype=torch.float)\n",
    "            outputs = model(ids, mask, token_type_ids)\n",
    "            fin_targets.extend(targets.cpu().detach().numpy().tolist())\n",
    "            fin_outputs.extend(torch.sigmoid(outputs).cpu().detach().numpy().tolist())\n",
    "    return fin_outputs, fin_targets"
   ]
  },
  {
   "cell_type": "code",
   "execution_count": null,
   "metadata": {},
   "outputs": [
    {
     "name": "stdout",
     "output_type": "stream",
     "text": [
      "Accuracy Score = 0.4938\n",
      "F1 Score (Micro) = 0.4938\n",
      "F1 Score (Macro) = 0.33056634087561926\n"
     ]
    }
   ],
   "source": [
    "outputs, targets = validation(1)\n",
    "outputs = np.array(outputs) >= 0.5\n",
    "accuracy = metrics.accuracy_score(targets, outputs)\n",
    "f1_score_micro = metrics.f1_score(targets, outputs, average=\"micro\")\n",
    "f1_score_macro = metrics.f1_score(targets, outputs, average=\"macro\")\n",
    "print(f\"Accuracy Score = {accuracy}\")\n",
    "print(f\"F1 Score (Micro) = {f1_score_micro}\")\n",
    "print(f\"F1 Score (Macro) = {f1_score_macro}\")"
   ]
  },
  {
   "cell_type": "markdown",
   "metadata": {},
   "source": [
    "Here we have the same bad results as the previous one. \n",
    "\n",
    "It seems important to note that this model had much faster training time which enabled for faster feedback. However, the results are still not good.\n",
    "\n",
    "Our approach on Bert is either wrong or the model is not able to learn anything from the data provided."
   ]
  },
  {
   "cell_type": "markdown",
   "metadata": {},
   "source": [
    "---"
   ]
  },
  {
   "cell_type": "markdown",
   "metadata": {},
   "source": [
    "## Long Short-Term Memory Networks (LSTM)\n",
    "Long Short-Term Memory networks (LSTM) are a type of recurrent neural network capable of learning long-term dependencies in data. Given the sequential nature of DNA, LSTMs can be employed to capture the inherent dependencies between nucleotides over varying sequence lengths."
   ]
  },
  {
   "cell_type": "code",
   "execution_count": 12,
   "metadata": {
    "execution": {
     "iopub.execute_input": "2023-10-14T14:33:05.876764Z",
     "iopub.status.busy": "2023-10-14T14:33:05.876447Z",
     "iopub.status.idle": "2023-10-14T14:33:05.881267Z",
     "shell.execute_reply": "2023-10-14T14:33:05.880155Z",
     "shell.execute_reply.started": "2023-10-14T14:33:05.876740Z"
    },
    "trusted": true
   },
   "outputs": [],
   "source": [
    "# Placeholder for LSTM model code"
   ]
  },
  {
   "cell_type": "markdown",
   "metadata": {},
   "source": [
    "---"
   ]
  },
  {
   "cell_type": "markdown",
   "metadata": {},
   "source": [
    "## Random Forest\n",
    "Random Forest is a versatile and robust machine learning algorithm capable of handling a mix of data types. By encoding the DNA sequences appropriately, Random Forest can be utilized to identify the distinguishing features between human and gorilla DNA."
   ]
  },
  {
   "cell_type": "code",
   "execution_count": 3,
   "metadata": {
    "execution": {
     "iopub.execute_input": "2023-10-14T16:20:21.348041Z",
     "iopub.status.busy": "2023-10-14T16:20:21.347384Z",
     "iopub.status.idle": "2023-10-14T16:20:31.336357Z",
     "shell.execute_reply": "2023-10-14T16:20:31.335090Z",
     "shell.execute_reply.started": "2023-10-14T16:20:21.348002Z"
    },
    "trusted": true
   },
   "outputs": [
    {
     "name": "stdout",
     "output_type": "stream",
     "text": [
      "Requirement already satisfied: optuna in /opt/conda/lib/python3.10/site-packages (3.3.0)\n",
      "Requirement already satisfied: alembic>=1.5.0 in /opt/conda/lib/python3.10/site-packages (from optuna) (1.12.0)\n",
      "Requirement already satisfied: cmaes>=0.10.0 in /opt/conda/lib/python3.10/site-packages (from optuna) (0.10.0)\n",
      "Requirement already satisfied: colorlog in /opt/conda/lib/python3.10/site-packages (from optuna) (6.7.0)\n",
      "Requirement already satisfied: numpy in /opt/conda/lib/python3.10/site-packages (from optuna) (1.23.5)\n",
      "Requirement already satisfied: packaging>=20.0 in /opt/conda/lib/python3.10/site-packages (from optuna) (21.3)\n",
      "Requirement already satisfied: sqlalchemy>=1.3.0 in /opt/conda/lib/python3.10/site-packages (from optuna) (2.0.17)\n",
      "Requirement already satisfied: tqdm in /opt/conda/lib/python3.10/site-packages (from optuna) (4.66.1)\n",
      "Requirement already satisfied: PyYAML in /opt/conda/lib/python3.10/site-packages (from optuna) (6.0)\n",
      "Requirement already satisfied: Mako in /opt/conda/lib/python3.10/site-packages (from alembic>=1.5.0->optuna) (1.2.4)\n",
      "Requirement already satisfied: typing-extensions>=4 in /opt/conda/lib/python3.10/site-packages (from alembic>=1.5.0->optuna) (4.6.3)\n",
      "Requirement already satisfied: pyparsing!=3.0.5,>=2.0.2 in /opt/conda/lib/python3.10/site-packages (from packaging>=20.0->optuna) (3.0.9)\n",
      "Requirement already satisfied: greenlet!=0.4.17 in /opt/conda/lib/python3.10/site-packages (from sqlalchemy>=1.3.0->optuna) (2.0.2)\n",
      "Requirement already satisfied: MarkupSafe>=0.9.2 in /opt/conda/lib/python3.10/site-packages (from Mako->alembic>=1.5.0->optuna) (2.1.3)\n",
      "Note: you may need to restart the kernel to use updated packages.\n"
     ]
    }
   ],
   "source": [
    "!pip install optuna scikit-learn pandas numpy"
   ]
  },
  {
   "cell_type": "code",
   "execution_count": 23,
   "metadata": {
    "execution": {
     "iopub.execute_input": "2023-10-14T16:24:11.796065Z",
     "iopub.status.busy": "2023-10-14T16:24:11.795708Z",
     "iopub.status.idle": "2023-10-14T16:24:11.801128Z",
     "shell.execute_reply": "2023-10-14T16:24:11.799882Z",
     "shell.execute_reply.started": "2023-10-14T16:24:11.796037Z"
    },
    "trusted": true
   },
   "outputs": [],
   "source": [
    "import optuna\n",
    "import pandas as pd\n",
    "from sklearn.ensemble import RandomForestClassifier\n",
    "from sklearn.feature_extraction.text import CountVectorizer\n",
    "from sklearn.metrics import accuracy_score\n",
    "from sklearn.model_selection import train_test_split\n",
    "from sklearn.metrics import accuracy_score, confusion_matrix, classification_report\n",
    "from sklearn.feature_extraction.text import HashingVectorizer"
   ]
  },
  {
   "cell_type": "code",
   "execution_count": 35,
   "metadata": {
    "execution": {
     "iopub.execute_input": "2023-10-14T16:27:15.997135Z",
     "iopub.status.busy": "2023-10-14T16:27:15.996740Z",
     "iopub.status.idle": "2023-10-14T16:27:16.138750Z",
     "shell.execute_reply": "2023-10-14T16:27:16.137682Z",
     "shell.execute_reply.started": "2023-10-14T16:27:15.997105Z"
    },
    "trusted": true
   },
   "outputs": [],
   "source": [
    "data_1000 = data.sample(n=1000000 // 10)"
   ]
  },
  {
   "cell_type": "code",
   "execution_count": 36,
   "metadata": {
    "execution": {
     "iopub.execute_input": "2023-10-14T16:27:16.679560Z",
     "iopub.status.busy": "2023-10-14T16:27:16.678964Z",
     "iopub.status.idle": "2023-10-14T16:27:16.697403Z",
     "shell.execute_reply": "2023-10-14T16:27:16.696332Z",
     "shell.execute_reply.started": "2023-10-14T16:27:16.679528Z"
    },
    "trusted": true
   },
   "outputs": [
    {
     "name": "stdout",
     "output_type": "stream",
     "text": [
      "The dataset contains 100000 samples and 4 columns.\n"
     ]
    },
    {
     "data": {
      "text/plain": [
       "species\n",
       "Homo_sapiens       0.50028\n",
       "Gorilla_gorilla    0.49972\n",
       "Name: proportion, dtype: float64"
      ]
     },
     "execution_count": 36,
     "metadata": {},
     "output_type": "execute_result"
    }
   ],
   "source": [
    "# Getting the shape of the dataset\n",
    "dataset_shape = data_1000.shape\n",
    "print(\n",
    "    f\"The dataset contains {dataset_shape[0]} samples and {dataset_shape[1]} columns.\"\n",
    ")\n",
    "\n",
    "# Checking the distribution of labels\n",
    "label_distribution = data_1000[\"species\"].value_counts(normalize=True)\n",
    "label_distribution"
   ]
  },
  {
   "cell_type": "code",
   "execution_count": 37,
   "metadata": {
    "execution": {
     "iopub.execute_input": "2023-10-14T16:27:17.306094Z",
     "iopub.status.busy": "2023-10-14T16:27:17.305751Z",
     "iopub.status.idle": "2023-10-14T16:27:19.919954Z",
     "shell.execute_reply": "2023-10-14T16:27:19.918677Z",
     "shell.execute_reply.started": "2023-10-14T16:27:17.306066Z"
    },
    "trusted": true
   },
   "outputs": [],
   "source": [
    "# Define a function to convert a DNA sequence into overlapping k-mers\n",
    "def kmerizer(seq, k=6):\n",
    "    return [seq[i : i + k] for i in range(len(seq) - k + 1)]\n",
    "\n",
    "\n",
    "# Test the function with a single DNA sequence\n",
    "# print(get_kmers(data_1000['genome_sequence'][0]))\n",
    "\n",
    "hash_vectorizer = HashingVectorizer(\n",
    "    analyzer=kmerizer, n_features=2**20\n",
    ")  # Adjust n_features to manage memory usage\n",
    "\n",
    "# Apply the vectorizer to the genome_sequence column of the DataFrame\n",
    "X = hash_vectorizer.fit_transform(data_1000[\"genome_sequence\"])\n",
    "\n",
    "# Encode species labels\n",
    "data_1000[\"species_encoded\"] = data_1000[\"species\"].map(\n",
    "    {\"Homo_sapiens\": 0, \"Gorilla_gorilla\": 1}\n",
    ")\n",
    "y = data_1000[\"species_encoded\"]\n",
    "\n",
    "# Split dataset into training and testing sets\n",
    "X_train, X_test, y_train, y_test = train_test_split(\n",
    "    X, y, test_size=0.2, random_state=42\n",
    ")"
   ]
  },
  {
   "cell_type": "code",
   "execution_count": 43,
   "metadata": {
    "execution": {
     "iopub.execute_input": "2023-10-14T16:32:36.544870Z",
     "iopub.status.busy": "2023-10-14T16:32:36.544197Z",
     "iopub.status.idle": "2023-10-14T16:35:53.957939Z",
     "shell.execute_reply": "2023-10-14T16:35:53.956785Z",
     "shell.execute_reply.started": "2023-10-14T16:32:36.544841Z"
    },
    "trusted": true
   },
   "outputs": [
    {
     "name": "stderr",
     "output_type": "stream",
     "text": [
      "[I 2023-10-14 16:32:36,549] A new study created in memory with name: no-name-79f3cd72-899e-40a2-b59b-bcd6eb355275\n",
      "[I 2023-10-14 16:32:39,620] Trial 0 finished with value: 0.49965 and parameters: {'n_estimators': 158, 'criterion': 'log_loss', 'max_depth': 17, 'min_samples_split': 0.3880243171996576, 'min_samples_leaf': 0.4247838122008928, 'min_weight_fraction_leaf': 0.170287707952885, 'max_features': 'log2', 'max_leaf_nodes': 7, 'min_impurity_decrease': 0.6467542020296969, 'bootstrap': True}. Best is trial 0 with value: 0.49965.\n",
      "/opt/conda/lib/python3.10/site-packages/sklearn/ensemble/_forest.py:424: FutureWarning: `max_features='auto'` has been deprecated in 1.1 and will be removed in 1.3. To keep the past behaviour, explicitly set `max_features='sqrt'` or remove this parameter as it is also the default value for RandomForestClassifiers and ExtraTreesClassifiers.\n",
      "  warn(\n",
      "[I 2023-10-14 16:32:40,715] Trial 1 finished with value: 0.49965 and parameters: {'n_estimators': 52, 'criterion': 'entropy', 'max_depth': 5, 'min_samples_split': 0.44074976665665155, 'min_samples_leaf': 0.34299833723703405, 'min_weight_fraction_leaf': 0.10290971441725894, 'max_features': 'auto', 'max_leaf_nodes': 43, 'min_impurity_decrease': 0.6302062786681768, 'bootstrap': True}. Best is trial 0 with value: 0.49965.\n",
      "[I 2023-10-14 16:32:41,472] Trial 2 finished with value: 0.49965 and parameters: {'n_estimators': 33, 'criterion': 'log_loss', 'max_depth': 2, 'min_samples_split': 0.32432136464410743, 'min_samples_leaf': 0.14442764463945545, 'min_weight_fraction_leaf': 0.32342390619851286, 'max_features': 'sqrt', 'max_leaf_nodes': 2, 'min_impurity_decrease': 0.4434399406963455, 'bootstrap': False}. Best is trial 0 with value: 0.49965.\n",
      "/opt/conda/lib/python3.10/site-packages/sklearn/ensemble/_forest.py:424: FutureWarning: `max_features='auto'` has been deprecated in 1.1 and will be removed in 1.3. To keep the past behaviour, explicitly set `max_features='sqrt'` or remove this parameter as it is also the default value for RandomForestClassifiers and ExtraTreesClassifiers.\n",
      "  warn(\n",
      "[I 2023-10-14 16:32:44,567] Trial 3 finished with value: 0.49965 and parameters: {'n_estimators': 163, 'criterion': 'entropy', 'max_depth': 5, 'min_samples_split': 0.11198761313685379, 'min_samples_leaf': 0.41279906821281565, 'min_weight_fraction_leaf': 0.24361208195277767, 'max_features': 'auto', 'max_leaf_nodes': 6, 'min_impurity_decrease': 0.12083561398325782, 'bootstrap': True}. Best is trial 0 with value: 0.49965.\n",
      "[I 2023-10-14 16:32:45,402] Trial 4 finished with value: 0.49965 and parameters: {'n_estimators': 35, 'criterion': 'gini', 'max_depth': 7, 'min_samples_split': 0.2849055239040029, 'min_samples_leaf': 0.4210652164704197, 'min_weight_fraction_leaf': 0.09901015366556265, 'max_features': 'sqrt', 'max_leaf_nodes': 61, 'min_impurity_decrease': 0.8171800125686763, 'bootstrap': True}. Best is trial 0 with value: 0.49965.\n",
      "/opt/conda/lib/python3.10/site-packages/sklearn/ensemble/_forest.py:424: FutureWarning: `max_features='auto'` has been deprecated in 1.1 and will be removed in 1.3. To keep the past behaviour, explicitly set `max_features='sqrt'` or remove this parameter as it is also the default value for RandomForestClassifiers and ExtraTreesClassifiers.\n",
      "  warn(\n",
      "[I 2023-10-14 16:32:46,776] Trial 5 finished with value: 0.49965 and parameters: {'n_estimators': 67, 'criterion': 'gini', 'max_depth': 3, 'min_samples_split': 0.3668027502782485, 'min_samples_leaf': 0.20838706376290098, 'min_weight_fraction_leaf': 0.34456922877704144, 'max_features': 'auto', 'max_leaf_nodes': 5, 'min_impurity_decrease': 0.33241204783473677, 'bootstrap': False}. Best is trial 0 with value: 0.49965.\n",
      "[I 2023-10-14 16:32:48,127] Trial 6 finished with value: 0.49965 and parameters: {'n_estimators': 62, 'criterion': 'gini', 'max_depth': 13, 'min_samples_split': 0.42717651635221665, 'min_samples_leaf': 0.24182270485086838, 'min_weight_fraction_leaf': 0.2174859684450981, 'max_features': 'log2', 'max_leaf_nodes': 10, 'min_impurity_decrease': 0.03988964896269953, 'bootstrap': True}. Best is trial 0 with value: 0.49965.\n",
      "[I 2023-10-14 16:32:51,576] Trial 7 finished with value: 0.49965 and parameters: {'n_estimators': 153, 'criterion': 'entropy', 'max_depth': 28, 'min_samples_split': 0.5350003309396081, 'min_samples_leaf': 0.22695107267479894, 'min_weight_fraction_leaf': 0.23551248957093918, 'max_features': 'sqrt', 'max_leaf_nodes': 87, 'min_impurity_decrease': 0.19966672270803043, 'bootstrap': True}. Best is trial 0 with value: 0.49965.\n",
      "[I 2023-10-14 16:32:53,974] Trial 8 finished with value: 0.49965 and parameters: {'n_estimators': 120, 'criterion': 'log_loss', 'max_depth': 7, 'min_samples_split': 0.23734093021932653, 'min_samples_leaf': 0.2610330166593675, 'min_weight_fraction_leaf': 0.020146752371912213, 'max_features': 'sqrt', 'max_leaf_nodes': 40, 'min_impurity_decrease': 0.39152251552950745, 'bootstrap': False}. Best is trial 0 with value: 0.49965.\n",
      "/opt/conda/lib/python3.10/site-packages/sklearn/ensemble/_forest.py:424: FutureWarning: `max_features='auto'` has been deprecated in 1.1 and will be removed in 1.3. To keep the past behaviour, explicitly set `max_features='sqrt'` or remove this parameter as it is also the default value for RandomForestClassifiers and ExtraTreesClassifiers.\n",
      "  warn(\n",
      "[I 2023-10-14 16:32:54,934] Trial 9 finished with value: 0.49965 and parameters: {'n_estimators': 44, 'criterion': 'entropy', 'max_depth': 3, 'min_samples_split': 0.5673002359018897, 'min_samples_leaf': 0.25377603693815326, 'min_weight_fraction_leaf': 0.15244490998086307, 'max_features': 'auto', 'max_leaf_nodes': 3, 'min_impurity_decrease': 0.6241885877006351, 'bootstrap': False}. Best is trial 0 with value: 0.49965.\n",
      "[I 2023-10-14 16:32:59,356] Trial 10 finished with value: 0.49965 and parameters: {'n_estimators': 190, 'criterion': 'log_loss', 'max_depth': 32, 'min_samples_split': 0.7875475395472189, 'min_samples_leaf': 0.35610709880975017, 'min_weight_fraction_leaf': 0.4828800447502953, 'max_features': 'log2', 'max_leaf_nodes': 17, 'min_impurity_decrease': 0.7733068206130589, 'bootstrap': True}. Best is trial 0 with value: 0.49965.\n",
      "[I 2023-10-14 16:33:01,265] Trial 11 finished with value: 0.49965 and parameters: {'n_estimators': 96, 'criterion': 'entropy', 'max_depth': 14, 'min_samples_split': 0.5563491062551652, 'min_samples_leaf': 0.4984630116695839, 'min_weight_fraction_leaf': 0.09393305626569978, 'max_features': 'log2', 'max_leaf_nodes': 27, 'min_impurity_decrease': 0.9916008681144797, 'bootstrap': True}. Best is trial 0 with value: 0.49965.\n",
      "[I 2023-10-14 16:33:03,470] Trial 12 finished with value: 0.49965 and parameters: {'n_estimators': 111, 'criterion': 'log_loss', 'max_depth': 15, 'min_samples_split': 0.9867659546016241, 'min_samples_leaf': 0.33195012140526975, 'min_weight_fraction_leaf': 0.03361472952885025, 'max_features': 'log2', 'max_leaf_nodes': 15, 'min_impurity_decrease': 0.5643864993498957, 'bootstrap': True}. Best is trial 0 with value: 0.49965.\n",
      "/opt/conda/lib/python3.10/site-packages/sklearn/ensemble/_forest.py:424: FutureWarning: `max_features='auto'` has been deprecated in 1.1 and will be removed in 1.3. To keep the past behaviour, explicitly set `max_features='sqrt'` or remove this parameter as it is also the default value for RandomForestClassifiers and ExtraTreesClassifiers.\n",
      "  warn(\n",
      "[I 2023-10-14 16:33:03,904] Trial 13 finished with value: 0.49965 and parameters: {'n_estimators': 13, 'criterion': 'log_loss', 'max_depth': 9, 'min_samples_split': 0.4751930635804304, 'min_samples_leaf': 0.37260452819893547, 'min_weight_fraction_leaf': 0.16568200597890467, 'max_features': 'auto', 'max_leaf_nodes': 111, 'min_impurity_decrease': 0.6169711433149067, 'bootstrap': True}. Best is trial 0 with value: 0.49965.\n",
      "[I 2023-10-14 16:33:06,577] Trial 14 finished with value: 0.49965 and parameters: {'n_estimators': 136, 'criterion': 'entropy', 'max_depth': 5, 'min_samples_split': 0.692058149855698, 'min_samples_leaf': 0.3215661041817209, 'min_weight_fraction_leaf': 0.0970831177044085, 'max_features': 'log2', 'max_leaf_nodes': 35, 'min_impurity_decrease': 0.5133925400185395, 'bootstrap': True}. Best is trial 0 with value: 0.49965.\n",
      "/opt/conda/lib/python3.10/site-packages/sklearn/ensemble/_forest.py:424: FutureWarning: `max_features='auto'` has been deprecated in 1.1 and will be removed in 1.3. To keep the past behaviour, explicitly set `max_features='sqrt'` or remove this parameter as it is also the default value for RandomForestClassifiers and ExtraTreesClassifiers.\n",
      "  warn(\n",
      "[I 2023-10-14 16:33:10,231] Trial 15 finished with value: 0.49965 and parameters: {'n_estimators': 194, 'criterion': 'entropy', 'max_depth': 21, 'min_samples_split': 0.4260927302778763, 'min_samples_leaf': 0.45911213871356304, 'min_weight_fraction_leaf': 0.12439289472109698, 'max_features': 'auto', 'max_leaf_nodes': 10, 'min_impurity_decrease': 0.7129383399032205, 'bootstrap': True}. Best is trial 0 with value: 0.49965.\n",
      "/opt/conda/lib/python3.10/site-packages/sklearn/ensemble/_forest.py:424: FutureWarning: `max_features='auto'` has been deprecated in 1.1 and will be removed in 1.3. To keep the past behaviour, explicitly set `max_features='sqrt'` or remove this parameter as it is also the default value for RandomForestClassifiers and ExtraTreesClassifiers.\n",
      "  warn(\n",
      "[I 2023-10-14 16:33:11,939] Trial 16 finished with value: 0.49965 and parameters: {'n_estimators': 85, 'criterion': 'log_loss', 'max_depth': 10, 'min_samples_split': 0.19929383519736557, 'min_samples_leaf': 0.39503831527859745, 'min_weight_fraction_leaf': 0.005398772906051119, 'max_features': 'auto', 'max_leaf_nodes': 24, 'min_impurity_decrease': 0.7025400867540506, 'bootstrap': True}. Best is trial 0 with value: 0.49965.\n",
      "[I 2023-10-14 16:33:15,387] Trial 17 finished with value: 0.49965 and parameters: {'n_estimators': 168, 'criterion': 'entropy', 'max_depth': 19, 'min_samples_split': 0.351346582868861, 'min_samples_leaf': 0.3007866252229398, 'min_weight_fraction_leaf': 0.18916580873655714, 'max_features': 'log2', 'max_leaf_nodes': 54, 'min_impurity_decrease': 0.48785581076397505, 'bootstrap': True}. Best is trial 0 with value: 0.49965.\n",
      "/opt/conda/lib/python3.10/site-packages/sklearn/ensemble/_forest.py:424: FutureWarning: `max_features='auto'` has been deprecated in 1.1 and will be removed in 1.3. To keep the past behaviour, explicitly set `max_features='sqrt'` or remove this parameter as it is also the default value for RandomForestClassifiers and ExtraTreesClassifiers.\n",
      "  warn(\n",
      "[I 2023-10-14 16:33:17,897] Trial 18 finished with value: 0.49965 and parameters: {'n_estimators': 128, 'criterion': 'log_loss', 'max_depth': 10, 'min_samples_split': 0.15807783940746373, 'min_samples_leaf': 0.4469831285354705, 'min_weight_fraction_leaf': 0.05953740974162959, 'max_features': 'auto', 'max_leaf_nodes': 21, 'min_impurity_decrease': 0.3000455988480033, 'bootstrap': False}. Best is trial 0 with value: 0.49965.\n",
      "[I 2023-10-14 16:33:19,530] Trial 19 finished with value: 0.49965 and parameters: {'n_estimators': 82, 'criterion': 'gini', 'max_depth': 22, 'min_samples_split': 0.2660651648077958, 'min_samples_leaf': 0.36317257303185535, 'min_weight_fraction_leaf': 0.14740483415144334, 'max_features': 'log2', 'max_leaf_nodes': 11, 'min_impurity_decrease': 0.8684941443804228, 'bootstrap': True}. Best is trial 0 with value: 0.49965.\n",
      "[I 2023-10-14 16:33:22,466] Trial 20 finished with value: 0.49965 and parameters: {'n_estimators': 143, 'criterion': 'log_loss', 'max_depth': 5, 'min_samples_split': 0.20649934912389678, 'min_samples_leaf': 0.2919354272179343, 'min_weight_fraction_leaf': 0.18310865826394584, 'max_features': 'log2', 'max_leaf_nodes': 6, 'min_impurity_decrease': 0.5980885075429674, 'bootstrap': True}. Best is trial 0 with value: 0.49965.\n",
      "[I 2023-10-14 16:33:22,902] Trial 21 finished with value: 0.49965 and parameters: {'n_estimators': 13, 'criterion': 'log_loss', 'max_depth': 2, 'min_samples_split': 0.3283144741093965, 'min_samples_leaf': 0.11483011405203697, 'min_weight_fraction_leaf': 0.2809280519780693, 'max_features': 'sqrt', 'max_leaf_nodes': 3, 'min_impurity_decrease': 0.46784539329560004, 'bootstrap': False}. Best is trial 0 with value: 0.49965.\n",
      "[I 2023-10-14 16:33:23,741] Trial 22 finished with value: 0.49965 and parameters: {'n_estimators': 35, 'criterion': 'log_loss', 'max_depth': 2, 'min_samples_split': 0.36813693543687787, 'min_samples_leaf': 0.16629545745570362, 'min_weight_fraction_leaf': 0.28027141428792135, 'max_features': 'sqrt', 'max_leaf_nodes': 2, 'min_impurity_decrease': 0.4395682751731772, 'bootstrap': False}. Best is trial 0 with value: 0.49965.\n",
      "[I 2023-10-14 16:33:24,883] Trial 23 finished with value: 0.49965 and parameters: {'n_estimators': 52, 'criterion': 'log_loss', 'max_depth': 3, 'min_samples_split': 0.2891357838615928, 'min_samples_leaf': 0.17243657370500193, 'min_weight_fraction_leaf': 0.33033960457405903, 'max_features': 'sqrt', 'max_leaf_nodes': 2, 'min_impurity_decrease': 0.5406386973622795, 'bootstrap': False}. Best is trial 0 with value: 0.49965.\n",
      "[I 2023-10-14 16:33:26,399] Trial 24 finished with value: 0.49965 and parameters: {'n_estimators': 72, 'criterion': 'log_loss', 'max_depth': 2, 'min_samples_split': 0.45013536450206537, 'min_samples_leaf': 0.29136830674958475, 'min_weight_fraction_leaf': 0.05677302830128282, 'max_features': 'sqrt', 'max_leaf_nodes': 8, 'min_impurity_decrease': 0.6700051619595114, 'bootstrap': False}. Best is trial 0 with value: 0.49965.\n",
      "[I 2023-10-14 16:33:27,126] Trial 25 finished with value: 0.49965 and parameters: {'n_estimators': 25, 'criterion': 'entropy', 'max_depth': 4, 'min_samples_split': 0.37575963778275095, 'min_samples_leaf': 0.34484361345755343, 'min_weight_fraction_leaf': 0.19939713187625674, 'max_features': 'sqrt', 'max_leaf_nodes': 4, 'min_impurity_decrease': 0.40213656944405457, 'bootstrap': False}. Best is trial 0 with value: 0.49965.\n",
      "/opt/conda/lib/python3.10/site-packages/sklearn/ensemble/_forest.py:424: FutureWarning: `max_features='auto'` has been deprecated in 1.1 and will be removed in 1.3. To keep the past behaviour, explicitly set `max_features='sqrt'` or remove this parameter as it is also the default value for RandomForestClassifiers and ExtraTreesClassifiers.\n",
      "  warn(\n",
      "[I 2023-10-14 16:33:29,534] Trial 26 finished with value: 0.49965 and parameters: {'n_estimators': 103, 'criterion': 'log_loss', 'max_depth': 8, 'min_samples_split': 0.2969312890899545, 'min_samples_leaf': 0.3870952394224016, 'min_weight_fraction_leaf': 0.12809338767943826, 'max_features': 'auto', 'max_leaf_nodes': 15, 'min_impurity_decrease': 0.5427976727518339, 'bootstrap': False}. Best is trial 0 with value: 0.49965.\n",
      "[I 2023-10-14 16:33:30,668] Trial 27 finished with value: 0.49965 and parameters: {'n_estimators': 53, 'criterion': 'log_loss', 'max_depth': 6, 'min_samples_split': 0.5075626911486021, 'min_samples_leaf': 0.33640911960077563, 'min_weight_fraction_leaf': 0.1722189640168989, 'max_features': 'sqrt', 'max_leaf_nodes': 3, 'min_impurity_decrease': 0.6458768940600765, 'bootstrap': True}. Best is trial 0 with value: 0.49965.\n",
      "/opt/conda/lib/python3.10/site-packages/sklearn/ensemble/_forest.py:424: FutureWarning: `max_features='auto'` has been deprecated in 1.1 and will be removed in 1.3. To keep the past behaviour, explicitly set `max_features='sqrt'` or remove this parameter as it is also the default value for RandomForestClassifiers and ExtraTreesClassifiers.\n",
      "  warn(\n",
      "[I 2023-10-14 16:33:33,960] Trial 28 finished with value: 0.49965 and parameters: {'n_estimators': 172, 'criterion': 'gini', 'max_depth': 12, 'min_samples_split': 0.3925088802214414, 'min_samples_leaf': 0.11284037356601884, 'min_weight_fraction_leaf': 0.07008861852315762, 'max_features': 'auto', 'max_leaf_nodes': 7, 'min_impurity_decrease': 0.7321799801193077, 'bootstrap': False}. Best is trial 0 with value: 0.49965.\n",
      "[I 2023-10-14 16:33:37,501] Trial 29 finished with value: 0.49965 and parameters: {'n_estimators': 181, 'criterion': 'entropy', 'max_depth': 4, 'min_samples_split': 0.14793917868555362, 'min_samples_leaf': 0.405465799606231, 'min_weight_fraction_leaf': 0.26820732851581214, 'max_features': 'log2', 'max_leaf_nodes': 5, 'min_impurity_decrease': 0.5584143257679843, 'bootstrap': True}. Best is trial 0 with value: 0.49965.\n",
      "/opt/conda/lib/python3.10/site-packages/sklearn/ensemble/_forest.py:424: FutureWarning: `max_features='auto'` has been deprecated in 1.1 and will be removed in 1.3. To keep the past behaviour, explicitly set `max_features='sqrt'` or remove this parameter as it is also the default value for RandomForestClassifiers and ExtraTreesClassifiers.\n",
      "  warn(\n",
      "[I 2023-10-14 16:33:40,485] Trial 30 finished with value: 0.49965 and parameters: {'n_estimators': 155, 'criterion': 'entropy', 'max_depth': 11, 'min_samples_split': 0.228966381125303, 'min_samples_leaf': 0.41997864583681627, 'min_weight_fraction_leaf': 0.24118732501544282, 'max_features': 'auto', 'max_leaf_nodes': 8, 'min_impurity_decrease': 0.4655547157257416, 'bootstrap': True}. Best is trial 0 with value: 0.49965.\n",
      "/opt/conda/lib/python3.10/site-packages/sklearn/ensemble/_forest.py:424: FutureWarning: `max_features='auto'` has been deprecated in 1.1 and will be removed in 1.3. To keep the past behaviour, explicitly set `max_features='sqrt'` or remove this parameter as it is also the default value for RandomForestClassifiers and ExtraTreesClassifiers.\n",
      "  warn(\n",
      "[I 2023-10-14 16:33:41,251] Trial 31 finished with value: 0.49965 and parameters: {'n_estimators': 31, 'criterion': 'entropy', 'max_depth': 8, 'min_samples_split': 0.16806801877665767, 'min_samples_leaf': 0.3800470586976944, 'min_weight_fraction_leaf': 0.13131025772891683, 'max_features': 'auto', 'max_leaf_nodes': 4, 'min_impurity_decrease': 0.181806763877525, 'bootstrap': True}. Best is trial 0 with value: 0.49965.\n",
      "/opt/conda/lib/python3.10/site-packages/sklearn/ensemble/_forest.py:424: FutureWarning: `max_features='auto'` has been deprecated in 1.1 and will be removed in 1.3. To keep the past behaviour, explicitly set `max_features='sqrt'` or remove this parameter as it is also the default value for RandomForestClassifiers and ExtraTreesClassifiers.\n",
      "  warn(\n",
      "[I 2023-10-14 16:33:44,316] Trial 32 finished with value: 0.49965 and parameters: {'n_estimators': 160, 'criterion': 'entropy', 'max_depth': 6, 'min_samples_split': 0.30713680811307237, 'min_samples_leaf': 0.43078225655453656, 'min_weight_fraction_leaf': 0.2165039754549523, 'max_features': 'auto', 'max_leaf_nodes': 12, 'min_impurity_decrease': 0.0024824184060687066, 'bootstrap': True}. Best is trial 0 with value: 0.49965.\n",
      "/opt/conda/lib/python3.10/site-packages/sklearn/ensemble/_forest.py:424: FutureWarning: `max_features='auto'` has been deprecated in 1.1 and will be removed in 1.3. To keep the past behaviour, explicitly set `max_features='sqrt'` or remove this parameter as it is also the default value for RandomForestClassifiers and ExtraTreesClassifiers.\n",
      "  warn(\n",
      "[I 2023-10-14 16:33:47,125] Trial 33 finished with value: 0.49965 and parameters: {'n_estimators': 144, 'criterion': 'gini', 'max_depth': 4, 'min_samples_split': 0.1202904670415828, 'min_samples_leaf': 0.3979013755721424, 'min_weight_fraction_leaf': 0.314045615587883, 'max_features': 'auto', 'max_leaf_nodes': 6, 'min_impurity_decrease': 0.32236480735064166, 'bootstrap': True}. Best is trial 0 with value: 0.49965.\n",
      "/opt/conda/lib/python3.10/site-packages/sklearn/ensemble/_forest.py:424: FutureWarning: `max_features='auto'` has been deprecated in 1.1 and will be removed in 1.3. To keep the past behaviour, explicitly set `max_features='sqrt'` or remove this parameter as it is also the default value for RandomForestClassifiers and ExtraTreesClassifiers.\n",
      "  warn(\n",
      "[I 2023-10-14 16:33:48,443] Trial 34 finished with value: 0.49965 and parameters: {'n_estimators': 63, 'criterion': 'entropy', 'max_depth': 7, 'min_samples_split': 0.11409335724415484, 'min_samples_leaf': 0.36679022116140825, 'min_weight_fraction_leaf': 0.21926927447051217, 'max_features': 'auto', 'max_leaf_nodes': 8, 'min_impurity_decrease': 0.09546201967665204, 'bootstrap': True}. Best is trial 0 with value: 0.49965.\n",
      "[I 2023-10-14 16:33:50,833] Trial 35 finished with value: 0.49965 and parameters: {'n_estimators': 120, 'criterion': 'gini', 'max_depth': 3, 'min_samples_split': 0.10619186536655278, 'min_samples_leaf': 0.4162016224570665, 'min_weight_fraction_leaf': 0.36531982298475435, 'max_features': 'sqrt', 'max_leaf_nodes': 12, 'min_impurity_decrease': 0.2599717843366653, 'bootstrap': True}. Best is trial 0 with value: 0.49965.\n",
      "/opt/conda/lib/python3.10/site-packages/sklearn/ensemble/_forest.py:424: FutureWarning: `max_features='auto'` has been deprecated in 1.1 and will be removed in 1.3. To keep the past behaviour, explicitly set `max_features='sqrt'` or remove this parameter as it is also the default value for RandomForestClassifiers and ExtraTreesClassifiers.\n",
      "  warn(\n",
      "[I 2023-10-14 16:33:51,902] Trial 36 finished with value: 0.49965 and parameters: {'n_estimators': 46, 'criterion': 'entropy', 'max_depth': 9, 'min_samples_split': 0.24783748594133262, 'min_samples_leaf': 0.2750146381926115, 'min_weight_fraction_leaf': 0.24057960659268368, 'max_features': 'auto', 'max_leaf_nodes': 78, 'min_impurity_decrease': 0.09802281725360082, 'bootstrap': False}. Best is trial 0 with value: 0.49965.\n",
      "[I 2023-10-14 16:33:56,089] Trial 37 finished with value: 0.49965 and parameters: {'n_estimators': 181, 'criterion': 'entropy', 'max_depth': 15, 'min_samples_split': 0.41568617465559815, 'min_samples_leaf': 0.311390676302354, 'min_weight_fraction_leaf': 0.11030524975335536, 'max_features': 'sqrt', 'max_leaf_nodes': 2, 'min_impurity_decrease': 0.4024733226193755, 'bootstrap': True}. Best is trial 0 with value: 0.49965.\n",
      "[I 2023-10-14 16:33:56,739] Trial 38 finished with value: 0.49965 and parameters: {'n_estimators': 23, 'criterion': 'log_loss', 'max_depth': 5, 'min_samples_split': 0.3260817574217848, 'min_samples_leaf': 0.24524211479438585, 'min_weight_fraction_leaf': 0.14909064107106584, 'max_features': 'log2', 'max_leaf_nodes': 19, 'min_impurity_decrease': 0.2204635327417933, 'bootstrap': True}. Best is trial 0 with value: 0.49965.\n",
      "/opt/conda/lib/python3.10/site-packages/sklearn/ensemble/_forest.py:424: FutureWarning: `max_features='auto'` has been deprecated in 1.1 and will be removed in 1.3. To keep the past behaviour, explicitly set `max_features='sqrt'` or remove this parameter as it is also the default value for RandomForestClassifiers and ExtraTreesClassifiers.\n",
      "  warn(\n",
      "[I 2023-10-14 16:34:00,776] Trial 39 finished with value: 0.49965 and parameters: {'n_estimators': 199, 'criterion': 'entropy', 'max_depth': 13, 'min_samples_split': 0.25984424057146105, 'min_samples_leaf': 0.34365986758491784, 'min_weight_fraction_leaf': 0.1992328012367001, 'max_features': 'auto', 'max_leaf_nodes': 13, 'min_impurity_decrease': 0.36101143001641617, 'bootstrap': False}. Best is trial 0 with value: 0.49965.\n",
      "[I 2023-10-14 16:34:02,409] Trial 40 finished with value: 0.49965 and parameters: {'n_estimators': 75, 'criterion': 'log_loss', 'max_depth': 6, 'min_samples_split': 0.4541044377703619, 'min_samples_leaf': 0.2204709796602206, 'min_weight_fraction_leaf': 0.3616579606237851, 'max_features': 'log2', 'max_leaf_nodes': 35, 'min_impurity_decrease': 0.5876157345783006, 'bootstrap': True}. Best is trial 0 with value: 0.49965.\n",
      "[I 2023-10-14 16:34:03,360] Trial 41 finished with value: 0.49965 and parameters: {'n_estimators': 42, 'criterion': 'gini', 'max_depth': 32, 'min_samples_split': 0.3468207680115355, 'min_samples_leaf': 0.46204832673952606, 'min_weight_fraction_leaf': 0.08780467298433224, 'max_features': 'sqrt', 'max_leaf_nodes': 59, 'min_impurity_decrease': 0.7823671832746664, 'bootstrap': True}. Best is trial 0 with value: 0.49965.\n",
      "[I 2023-10-14 16:34:04,572] Trial 42 finished with value: 0.49965 and parameters: {'n_estimators': 57, 'criterion': 'gini', 'max_depth': 17, 'min_samples_split': 0.3861536505634058, 'min_samples_leaf': 0.43471460877794843, 'min_weight_fraction_leaf': 0.11376733088124558, 'max_features': 'sqrt', 'max_leaf_nodes': 28, 'min_impurity_decrease': 0.6459284529638146, 'bootstrap': True}. Best is trial 0 with value: 0.49965.\n",
      "[I 2023-10-14 16:34:05,470] Trial 43 finished with value: 0.49965 and parameters: {'n_estimators': 37, 'criterion': 'gini', 'max_depth': 25, 'min_samples_split': 0.2134690150103345, 'min_samples_leaf': 0.38534865850525774, 'min_weight_fraction_leaf': 0.025756148131528947, 'max_features': 'sqrt', 'max_leaf_nodes': 45, 'min_impurity_decrease': 0.8098033823138303, 'bootstrap': True}. Best is trial 0 with value: 0.49965.\n",
      "[I 2023-10-14 16:34:06,103] Trial 44 finished with value: 0.49965 and parameters: {'n_estimators': 24, 'criterion': 'gini', 'max_depth': 12, 'min_samples_split': 0.4950813004278356, 'min_samples_leaf': 0.3598912111976474, 'min_weight_fraction_leaf': 0.16979256677035443, 'max_features': 'sqrt', 'max_leaf_nodes': 95, 'min_impurity_decrease': 0.5163374352675629, 'bootstrap': True}. Best is trial 0 with value: 0.49965.\n",
      "[I 2023-10-14 16:34:08,036] Trial 45 finished with value: 0.49965 and parameters: {'n_estimators': 93, 'criterion': 'gini', 'max_depth': 8, 'min_samples_split': 0.4328193920180629, 'min_samples_leaf': 0.4141936291407341, 'min_weight_fraction_leaf': 0.0858123116882789, 'max_features': 'log2', 'max_leaf_nodes': 127, 'min_impurity_decrease': 0.6898025068831413, 'bootstrap': True}. Best is trial 0 with value: 0.49965.\n",
      "/opt/conda/lib/python3.10/site-packages/sklearn/ensemble/_forest.py:424: FutureWarning: `max_features='auto'` has been deprecated in 1.1 and will be removed in 1.3. To keep the past behaviour, explicitly set `max_features='sqrt'` or remove this parameter as it is also the default value for RandomForestClassifiers and ExtraTreesClassifiers.\n",
      "  warn(\n",
      "[I 2023-10-14 16:34:11,166] Trial 46 finished with value: 0.49965 and parameters: {'n_estimators': 165, 'criterion': 'entropy', 'max_depth': 16, 'min_samples_split': 0.2749000283567001, 'min_samples_leaf': 0.4796842957972497, 'min_weight_fraction_leaf': 0.1483199827764075, 'max_features': 'auto', 'max_leaf_nodes': 10, 'min_impurity_decrease': 0.5799457659415855, 'bootstrap': True}. Best is trial 0 with value: 0.49965.\n",
      "[I 2023-10-14 16:34:11,654] Trial 47 finished with value: 0.49965 and parameters: {'n_estimators': 16, 'criterion': 'log_loss', 'max_depth': 13, 'min_samples_split': 0.32538825919661735, 'min_samples_leaf': 0.3226083123414598, 'min_weight_fraction_leaf': 0.03566514409116929, 'max_features': 'sqrt', 'max_leaf_nodes': 66, 'min_impurity_decrease': 0.6257701492458294, 'bootstrap': True}. Best is trial 0 with value: 0.49965.\n",
      "[I 2023-10-14 16:34:13,896] Trial 48 finished with value: 0.49965 and parameters: {'n_estimators': 114, 'criterion': 'entropy', 'max_depth': 10, 'min_samples_split': 0.1813659276559747, 'min_samples_leaf': 0.4013185137117174, 'min_weight_fraction_leaf': 0.09661925898082248, 'max_features': 'log2', 'max_leaf_nodes': 44, 'min_impurity_decrease': 0.7447003083049015, 'bootstrap': False}. Best is trial 0 with value: 0.49965.\n",
      "/opt/conda/lib/python3.10/site-packages/sklearn/ensemble/_forest.py:424: FutureWarning: `max_features='auto'` has been deprecated in 1.1 and will be removed in 1.3. To keep the past behaviour, explicitly set `max_features='sqrt'` or remove this parameter as it is also the default value for RandomForestClassifiers and ExtraTreesClassifiers.\n",
      "  warn(\n",
      "[I 2023-10-14 16:34:16,582] Trial 49 finished with value: 0.49965 and parameters: {'n_estimators': 135, 'criterion': 'log_loss', 'max_depth': 19, 'min_samples_split': 0.5414217301642893, 'min_samples_leaf': 0.43661699475793947, 'min_weight_fraction_leaf': 0.1594287508435631, 'max_features': 'auto', 'max_leaf_nodes': 16, 'min_impurity_decrease': 0.8492769852310299, 'bootstrap': True}. Best is trial 0 with value: 0.49965.\n",
      "[I 2023-10-14 16:34:17,598] Trial 50 finished with value: 0.49965 and parameters: {'n_estimators': 46, 'criterion': 'log_loss', 'max_depth': 3, 'min_samples_split': 0.21477642438010122, 'min_samples_leaf': 0.3717691249412727, 'min_weight_fraction_leaf': 0.11377207193179346, 'max_features': 'log2', 'max_leaf_nodes': 20, 'min_impurity_decrease': 0.6851225050728041, 'bootstrap': True}. Best is trial 0 with value: 0.49965.\n",
      "/opt/conda/lib/python3.10/site-packages/sklearn/ensemble/_forest.py:424: FutureWarning: `max_features='auto'` has been deprecated in 1.1 and will be removed in 1.3. To keep the past behaviour, explicitly set `max_features='sqrt'` or remove this parameter as it is also the default value for RandomForestClassifiers and ExtraTreesClassifiers.\n",
      "  warn(\n",
      "[I 2023-10-14 16:34:18,988] Trial 51 finished with value: 0.49965 and parameters: {'n_estimators': 66, 'criterion': 'gini', 'max_depth': 2, 'min_samples_split': 0.3934310991851116, 'min_samples_leaf': 0.4896315572955359, 'min_weight_fraction_leaf': 0.256805257525653, 'max_features': 'auto', 'max_leaf_nodes': 4, 'min_impurity_decrease': 0.43960194982185247, 'bootstrap': False}. Best is trial 0 with value: 0.49965.\n",
      "/opt/conda/lib/python3.10/site-packages/sklearn/ensemble/_forest.py:424: FutureWarning: `max_features='auto'` has been deprecated in 1.1 and will be removed in 1.3. To keep the past behaviour, explicitly set `max_features='sqrt'` or remove this parameter as it is also the default value for RandomForestClassifiers and ExtraTreesClassifiers.\n",
      "  warn(\n",
      "[I 2023-10-14 16:34:20,797] Trial 52 finished with value: 0.49965 and parameters: {'n_estimators': 87, 'criterion': 'gini', 'max_depth': 25, 'min_samples_split': 0.3432147940587272, 'min_samples_leaf': 0.4510744122810881, 'min_weight_fraction_leaf': 0.3913846264243035, 'max_features': 'auto', 'max_leaf_nodes': 5, 'min_impurity_decrease': 0.5129234132764, 'bootstrap': False}. Best is trial 0 with value: 0.49965.\n",
      "/opt/conda/lib/python3.10/site-packages/sklearn/ensemble/_forest.py:424: FutureWarning: `max_features='auto'` has been deprecated in 1.1 and will be removed in 1.3. To keep the past behaviour, explicitly set `max_features='sqrt'` or remove this parameter as it is also the default value for RandomForestClassifiers and ExtraTreesClassifiers.\n",
      "  warn(\n",
      "[I 2023-10-14 16:34:21,587] Trial 53 finished with value: 0.49965 and parameters: {'n_estimators': 32, 'criterion': 'gini', 'max_depth': 29, 'min_samples_split': 0.27688133128012826, 'min_samples_leaf': 0.468472330645973, 'min_weight_fraction_leaf': 0.2999833876643324, 'max_features': 'auto', 'max_leaf_nodes': 3, 'min_impurity_decrease': 0.36592560737128754, 'bootstrap': False}. Best is trial 0 with value: 0.49965.\n",
      "/opt/conda/lib/python3.10/site-packages/sklearn/ensemble/_forest.py:424: FutureWarning: `max_features='auto'` has been deprecated in 1.1 and will be removed in 1.3. To keep the past behaviour, explicitly set `max_features='sqrt'` or remove this parameter as it is also the default value for RandomForestClassifiers and ExtraTreesClassifiers.\n",
      "  warn(\n",
      "[I 2023-10-14 16:34:23,128] Trial 54 finished with value: 0.49965 and parameters: {'n_estimators': 74, 'criterion': 'gini', 'max_depth': 5, 'min_samples_split': 0.4718242996737997, 'min_samples_leaf': 0.4463370737466665, 'min_weight_fraction_leaf': 0.21345593952638595, 'max_features': 'auto', 'max_leaf_nodes': 10, 'min_impurity_decrease': 0.9172045692836315, 'bootstrap': False}. Best is trial 0 with value: 0.49965.\n",
      "[I 2023-10-14 16:34:24,363] Trial 55 finished with value: 0.49965 and parameters: {'n_estimators': 57, 'criterion': 'log_loss', 'max_depth': 7, 'min_samples_split': 0.30574210759139736, 'min_samples_leaf': 0.4210023454990222, 'min_weight_fraction_leaf': 0.1804145755557112, 'max_features': 'sqrt', 'max_leaf_nodes': 9, 'min_impurity_decrease': 0.6107012428710837, 'bootstrap': False}. Best is trial 0 with value: 0.49965.\n",
      "/opt/conda/lib/python3.10/site-packages/sklearn/ensemble/_forest.py:424: FutureWarning: `max_features='auto'` has been deprecated in 1.1 and will be removed in 1.3. To keep the past behaviour, explicitly set `max_features='sqrt'` or remove this parameter as it is also the default value for RandomForestClassifiers and ExtraTreesClassifiers.\n",
      "  warn(\n",
      "[I 2023-10-14 16:34:25,356] Trial 56 finished with value: 0.49965 and parameters: {'n_estimators': 40, 'criterion': 'entropy', 'max_depth': 4, 'min_samples_split': 0.2444261762444003, 'min_samples_leaf': 0.3938492939743984, 'min_weight_fraction_leaf': 0.13895774095842917, 'max_features': 'auto', 'max_leaf_nodes': 6, 'min_impurity_decrease': 0.7110573157330944, 'bootstrap': False}. Best is trial 0 with value: 0.49965.\n",
      "[I 2023-10-14 16:34:28,345] Trial 57 finished with value: 0.49965 and parameters: {'n_estimators': 145, 'criterion': 'gini', 'max_depth': 3, 'min_samples_split': 0.36118736348581526, 'min_samples_leaf': 0.21706160189639312, 'min_weight_fraction_leaf': 0.25706550491096647, 'max_features': 'sqrt', 'max_leaf_nodes': 29, 'min_impurity_decrease': 0.6558448955590376, 'bootstrap': True}. Best is trial 0 with value: 0.49965.\n",
      "[I 2023-10-14 16:34:32,057] Trial 58 finished with value: 0.49965 and parameters: {'n_estimators': 185, 'criterion': 'log_loss', 'max_depth': 14, 'min_samples_split': 0.5911187513336746, 'min_samples_leaf': 0.3769984619658239, 'min_weight_fraction_leaf': 0.06929707106230568, 'max_features': 'log2', 'max_leaf_nodes': 7, 'min_impurity_decrease': 0.48600297152348937, 'bootstrap': False}. Best is trial 0 with value: 0.49965.\n",
      "/opt/conda/lib/python3.10/site-packages/sklearn/ensemble/_forest.py:424: FutureWarning: `max_features='auto'` has been deprecated in 1.1 and will be removed in 1.3. To keep the past behaviour, explicitly set `max_features='sqrt'` or remove this parameter as it is also the default value for RandomForestClassifiers and ExtraTreesClassifiers.\n",
      "  warn(\n",
      "[I 2023-10-14 16:34:33,111] Trial 59 finished with value: 0.49965 and parameters: {'n_estimators': 47, 'criterion': 'entropy', 'max_depth': 6, 'min_samples_split': 0.4128334067824486, 'min_samples_leaf': 0.3479948496801546, 'min_weight_fraction_leaf': 0.23307605524856367, 'max_features': 'auto', 'max_leaf_nodes': 13, 'min_impurity_decrease': 0.5498184648981524, 'bootstrap': True}. Best is trial 0 with value: 0.49965.\n",
      "[I 2023-10-14 16:34:36,400] Trial 60 finished with value: 0.49965 and parameters: {'n_estimators': 171, 'criterion': 'log_loss', 'max_depth': 17, 'min_samples_split': 0.36591755313208957, 'min_samples_leaf': 0.35672794948556874, 'min_weight_fraction_leaf': 0.15985368199493735, 'max_features': 'sqrt', 'max_leaf_nodes': 5, 'min_impurity_decrease': 0.4379001077256073, 'bootstrap': True}. Best is trial 0 with value: 0.49965.\n",
      "[I 2023-10-14 16:34:38,684] Trial 61 finished with value: 0.49965 and parameters: {'n_estimators': 102, 'criterion': 'gini', 'max_depth': 9, 'min_samples_split': 0.42454681160195873, 'min_samples_leaf': 0.20141927090104816, 'min_weight_fraction_leaf': 0.1294588941194785, 'max_features': 'log2', 'max_leaf_nodes': 11, 'min_impurity_decrease': 0.7419013128401606, 'bootstrap': True}. Best is trial 0 with value: 0.49965.\n",
      "[I 2023-10-14 16:34:40,164] Trial 62 finished with value: 0.49965 and parameters: {'n_estimators': 67, 'criterion': 'gini', 'max_depth': 19, 'min_samples_split': 0.2949412334085857, 'min_samples_leaf': 0.2553503041712669, 'min_weight_fraction_leaf': 0.18853476362032257, 'max_features': 'log2', 'max_leaf_nodes': 17, 'min_impurity_decrease': 0.6243069168757667, 'bootstrap': True}. Best is trial 0 with value: 0.49965.\n",
      "[I 2023-10-14 16:34:41,357] Trial 63 finished with value: 0.49965 and parameters: {'n_estimators': 52, 'criterion': 'gini', 'max_depth': 11, 'min_samples_split': 0.4510189739902998, 'min_samples_leaf': 0.14231242043773668, 'min_weight_fraction_leaf': 0.28466519121352746, 'max_features': 'log2', 'max_leaf_nodes': 23, 'min_impurity_decrease': 0.13532398968616238, 'bootstrap': True}. Best is trial 0 with value: 0.49965.\n",
      "[I 2023-10-14 16:34:43,106] Trial 64 finished with value: 0.49965 and parameters: {'n_estimators': 80, 'criterion': 'gini', 'max_depth': 5, 'min_samples_split': 0.40150736232841, 'min_samples_leaf': 0.271914603479496, 'min_weight_fraction_leaf': 0.19451877246759303, 'max_features': 'log2', 'max_leaf_nodes': 9, 'min_impurity_decrease': 0.004962850016291084, 'bootstrap': True}. Best is trial 0 with value: 0.49965.\n",
      "/opt/conda/lib/python3.10/site-packages/sklearn/ensemble/_forest.py:424: FutureWarning: `max_features='auto'` has been deprecated in 1.1 and will be removed in 1.3. To keep the past behaviour, explicitly set `max_features='sqrt'` or remove this parameter as it is also the default value for RandomForestClassifiers and ExtraTreesClassifiers.\n",
      "  warn(\n",
      "[I 2023-10-14 16:34:43,849] Trial 65 finished with value: 0.49965 and parameters: {'n_estimators': 29, 'criterion': 'entropy', 'max_depth': 4, 'min_samples_split': 0.14289167011611356, 'min_samples_leaf': 0.1890808639893633, 'min_weight_fraction_leaf': 0.21886588647879962, 'max_features': 'auto', 'max_leaf_nodes': 14, 'min_impurity_decrease': 0.27044819191335623, 'bootstrap': False}. Best is trial 0 with value: 0.49965.\n",
      "[I 2023-10-14 16:34:44,438] Trial 66 finished with value: 0.49965 and parameters: {'n_estimators': 19, 'criterion': 'gini', 'max_depth': 8, 'min_samples_split': 0.3267534640529613, 'min_samples_leaf': 0.14738714355702326, 'min_weight_fraction_leaf': 0.17705487838895026, 'max_features': 'log2', 'max_leaf_nodes': 7, 'min_impurity_decrease': 0.33284554142558365, 'bootstrap': True}. Best is trial 0 with value: 0.49965.\n",
      "/opt/conda/lib/python3.10/site-packages/sklearn/ensemble/_forest.py:424: FutureWarning: `max_features='auto'` has been deprecated in 1.1 and will be removed in 1.3. To keep the past behaviour, explicitly set `max_features='sqrt'` or remove this parameter as it is also the default value for RandomForestClassifiers and ExtraTreesClassifiers.\n",
      "  warn(\n",
      "[I 2023-10-14 16:34:45,861] Trial 67 finished with value: 0.49965 and parameters: {'n_estimators': 60, 'criterion': 'log_loss', 'max_depth': 2, 'min_samples_split': 0.36553235830507325, 'min_samples_leaf': 0.23140819312356095, 'min_weight_fraction_leaf': 0.26745094429301114, 'max_features': 'auto', 'max_leaf_nodes': 76, 'min_impurity_decrease': 0.5834186509684409, 'bootstrap': True}. Best is trial 0 with value: 0.49965.\n",
      "[I 2023-10-14 16:34:48,742] Trial 68 finished with value: 0.49965 and parameters: {'n_estimators': 149, 'criterion': 'entropy', 'max_depth': 7, 'min_samples_split': 0.1908907375538756, 'min_samples_leaf': 0.23793570714716603, 'min_weight_fraction_leaf': 0.0011659093715099822, 'max_features': 'sqrt', 'max_leaf_nodes': 56, 'min_impurity_decrease': 0.5274285895528437, 'bootstrap': False}. Best is trial 0 with value: 0.49965.\n",
      "[I 2023-10-14 16:34:49,150] Trial 69 finished with value: 0.49965 and parameters: {'n_estimators': 11, 'criterion': 'log_loss', 'max_depth': 14, 'min_samples_split': 0.24906020256291495, 'min_samples_leaf': 0.4064045180555341, 'min_weight_fraction_leaf': 0.23066594488561737, 'max_features': 'log2', 'max_leaf_nodes': 2, 'min_impurity_decrease': 0.042303980634749834, 'bootstrap': True}. Best is trial 0 with value: 0.49965.\n",
      "/opt/conda/lib/python3.10/site-packages/sklearn/ensemble/_forest.py:424: FutureWarning: `max_features='auto'` has been deprecated in 1.1 and will be removed in 1.3. To keep the past behaviour, explicitly set `max_features='sqrt'` or remove this parameter as it is also the default value for RandomForestClassifiers and ExtraTreesClassifiers.\n",
      "  warn(\n",
      "[I 2023-10-14 16:34:52,421] Trial 70 finished with value: 0.49965 and parameters: {'n_estimators': 159, 'criterion': 'gini', 'max_depth': 10, 'min_samples_split': 0.23198369735415664, 'min_samples_leaf': 0.10074983195184664, 'min_weight_fraction_leaf': 0.20428993496364684, 'max_features': 'auto', 'max_leaf_nodes': 4, 'min_impurity_decrease': 0.19024357239062972, 'bootstrap': True}. Best is trial 0 with value: 0.49965.\n",
      "[I 2023-10-14 16:34:55,278] Trial 71 finished with value: 0.49965 and parameters: {'n_estimators': 135, 'criterion': 'entropy', 'max_depth': 23, 'min_samples_split': 0.43436081997894166, 'min_samples_leaf': 0.25732508053324843, 'min_weight_fraction_leaf': 0.25010572949966287, 'max_features': 'sqrt', 'max_leaf_nodes': 88, 'min_impurity_decrease': 0.13723421289560228, 'bootstrap': True}. Best is trial 0 with value: 0.49965.\n",
      "[I 2023-10-14 16:34:58,933] Trial 72 finished with value: 0.49965 and parameters: {'n_estimators': 178, 'criterion': 'entropy', 'max_depth': 17, 'min_samples_split': 0.3849040307697923, 'min_samples_leaf': 0.291467348025404, 'min_weight_fraction_leaf': 0.22732957469539658, 'max_features': 'sqrt', 'max_leaf_nodes': 102, 'min_impurity_decrease': 0.3043278122402351, 'bootstrap': True}. Best is trial 0 with value: 0.49965.\n",
      "[I 2023-10-14 16:35:02,391] Trial 73 finished with value: 0.49965 and parameters: {'n_estimators': 157, 'criterion': 'entropy', 'max_depth': 29, 'min_samples_split': 0.4740150873912463, 'min_samples_leaf': 0.20708918695575235, 'min_weight_fraction_leaf': 0.24380783575244644, 'max_features': 'sqrt', 'max_leaf_nodes': 51, 'min_impurity_decrease': 0.23895045352122002, 'bootstrap': True}. Best is trial 0 with value: 0.49965.\n",
      "[I 2023-10-14 16:35:05,159] Trial 74 finished with value: 0.49965 and parameters: {'n_estimators': 126, 'criterion': 'entropy', 'max_depth': 15, 'min_samples_split': 0.5145043762819451, 'min_samples_leaf': 0.2463736108887002, 'min_weight_fraction_leaf': 0.20888178499609145, 'max_features': 'sqrt', 'max_leaf_nodes': 65, 'min_impurity_decrease': 0.49015792235450273, 'bootstrap': True}. Best is trial 0 with value: 0.49965.\n",
      "[I 2023-10-14 16:35:08,414] Trial 75 finished with value: 0.49965 and parameters: {'n_estimators': 152, 'criterion': 'entropy', 'max_depth': 20, 'min_samples_split': 0.3432647761764043, 'min_samples_leaf': 0.30647966967622475, 'min_weight_fraction_leaf': 0.19942422475186097, 'max_features': 'sqrt', 'max_leaf_nodes': 35, 'min_impurity_decrease': 0.6718895948029356, 'bootstrap': True}. Best is trial 0 with value: 0.49965.\n",
      "[I 2023-10-14 16:35:11,670] Trial 76 finished with value: 0.49965 and parameters: {'n_estimators': 166, 'criterion': 'entropy', 'max_depth': 22, 'min_samples_split': 0.2785690746487976, 'min_samples_leaf': 0.27751656666177704, 'min_weight_fraction_leaf': 0.16655223850630443, 'max_features': 'sqrt', 'max_leaf_nodes': 5, 'min_impurity_decrease': 0.07540799975581795, 'bootstrap': False}. Best is trial 0 with value: 0.49965.\n",
      "/opt/conda/lib/python3.10/site-packages/sklearn/ensemble/_forest.py:424: FutureWarning: `max_features='auto'` has been deprecated in 1.1 and will be removed in 1.3. To keep the past behaviour, explicitly set `max_features='sqrt'` or remove this parameter as it is also the default value for RandomForestClassifiers and ExtraTreesClassifiers.\n",
      "  warn(\n",
      "[I 2023-10-14 16:35:12,537] Trial 77 finished with value: 0.49965 and parameters: {'n_estimators': 36, 'criterion': 'log_loss', 'max_depth': 20, 'min_samples_split': 0.3086440841621835, 'min_samples_leaf': 0.3315722923047183, 'min_weight_fraction_leaf': 0.15023011124877406, 'max_features': 'auto', 'max_leaf_nodes': 86, 'min_impurity_decrease': 0.5478304835600455, 'bootstrap': True}. Best is trial 0 with value: 0.49965.\n",
      "[I 2023-10-14 16:35:13,766] Trial 78 finished with value: 0.49965 and parameters: {'n_estimators': 52, 'criterion': 'gini', 'max_depth': 6, 'min_samples_split': 0.38935100498214475, 'min_samples_leaf': 0.22839648842324473, 'min_weight_fraction_leaf': 0.18903569890900085, 'max_features': 'log2', 'max_leaf_nodes': 6, 'min_impurity_decrease': 0.13950877755145702, 'bootstrap': True}. Best is trial 0 with value: 0.49965.\n",
      "/opt/conda/lib/python3.10/site-packages/sklearn/ensemble/_forest.py:424: FutureWarning: `max_features='auto'` has been deprecated in 1.1 and will be removed in 1.3. To keep the past behaviour, explicitly set `max_features='sqrt'` or remove this parameter as it is also the default value for RandomForestClassifiers and ExtraTreesClassifiers.\n",
      "  warn(\n",
      "[I 2023-10-14 16:35:14,766] Trial 79 finished with value: 0.49965 and parameters: {'n_estimators': 42, 'criterion': 'entropy', 'max_depth': 12, 'min_samples_split': 0.4137680112827161, 'min_samples_leaf': 0.38688623801913363, 'min_weight_fraction_leaf': 0.11141126891664366, 'max_features': 'auto', 'max_leaf_nodes': 113, 'min_impurity_decrease': 0.1736533639691476, 'bootstrap': True}. Best is trial 0 with value: 0.49965.\n",
      "[I 2023-10-14 16:35:16,316] Trial 80 finished with value: 0.49965 and parameters: {'n_estimators': 69, 'criterion': 'log_loss', 'max_depth': 18, 'min_samples_split': 0.17194178279751648, 'min_samples_leaf': 0.26517262217461607, 'min_weight_fraction_leaf': 0.32969536674884015, 'max_features': 'sqrt', 'max_leaf_nodes': 15, 'min_impurity_decrease': 0.7216136917132483, 'bootstrap': False}. Best is trial 0 with value: 0.49965.\n",
      "[I 2023-10-14 16:35:18,844] Trial 81 finished with value: 0.49965 and parameters: {'n_estimators': 127, 'criterion': 'log_loss', 'max_depth': 9, 'min_samples_split': 0.20503386749308503, 'min_samples_leaf': 0.24165601949234652, 'min_weight_fraction_leaf': 0.039686249525849815, 'max_features': 'sqrt', 'max_leaf_nodes': 3, 'min_impurity_decrease': 0.40140508145469755, 'bootstrap': False}. Best is trial 0 with value: 0.49965.\n",
      "[I 2023-10-14 16:35:21,074] Trial 82 finished with value: 0.49965 and parameters: {'n_estimators': 111, 'criterion': 'log_loss', 'max_depth': 11, 'min_samples_split': 0.13036140822374803, 'min_samples_leaf': 0.42994630287890534, 'min_weight_fraction_leaf': 0.015431037583536311, 'max_features': 'sqrt', 'max_leaf_nodes': 48, 'min_impurity_decrease': 0.2884408405419579, 'bootstrap': False}. Best is trial 0 with value: 0.49965.\n",
      "[I 2023-10-14 16:35:23,773] Trial 83 finished with value: 0.49965 and parameters: {'n_estimators': 140, 'criterion': 'log_loss', 'max_depth': 7, 'min_samples_split': 0.26311394370392915, 'min_samples_leaf': 0.24862256288848447, 'min_weight_fraction_leaf': 0.0490993279852268, 'max_features': 'sqrt', 'max_leaf_nodes': 39, 'min_impurity_decrease': 0.4583678913971041, 'bootstrap': False}. Best is trial 0 with value: 0.49965.\n",
      "[I 2023-10-14 16:35:26,999] Trial 84 finished with value: 0.49965 and parameters: {'n_estimators': 162, 'criterion': 'log_loss', 'max_depth': 16, 'min_samples_split': 0.3485855150619266, 'min_samples_leaf': 0.22552698724209808, 'min_weight_fraction_leaf': 0.08599635336258696, 'max_features': 'sqrt', 'max_leaf_nodes': 63, 'min_impurity_decrease': 0.7743916634963459, 'bootstrap': False}. Best is trial 0 with value: 0.49965.\n",
      "/opt/conda/lib/python3.10/site-packages/sklearn/ensemble/_forest.py:424: FutureWarning: `max_features='auto'` has been deprecated in 1.1 and will be removed in 1.3. To keep the past behaviour, explicitly set `max_features='sqrt'` or remove this parameter as it is also the default value for RandomForestClassifiers and ExtraTreesClassifiers.\n",
      "  warn(\n",
      "[I 2023-10-14 16:35:30,360] Trial 85 finished with value: 0.49965 and parameters: {'n_estimators': 174, 'criterion': 'gini', 'max_depth': 5, 'min_samples_split': 0.15595969880964514, 'min_samples_leaf': 0.28447627479924714, 'min_weight_fraction_leaf': 0.07533251411426514, 'max_features': 'auto', 'max_leaf_nodes': 73, 'min_impurity_decrease': 0.573493634365984, 'bootstrap': False}. Best is trial 0 with value: 0.49965.\n",
      "[I 2023-10-14 16:35:32,276] Trial 86 finished with value: 0.49965 and parameters: {'n_estimators': 89, 'criterion': 'log_loss', 'max_depth': 6, 'min_samples_split': 0.30697548293486027, 'min_samples_leaf': 0.2626116672102698, 'min_weight_fraction_leaf': 0.0985158315819386, 'max_features': 'log2', 'max_leaf_nodes': 56, 'min_impurity_decrease': 0.34633650446098513, 'bootstrap': True}. Best is trial 0 with value: 0.49965.\n",
      "[I 2023-10-14 16:35:36,691] Trial 87 finished with value: 0.49965 and parameters: {'n_estimators': 188, 'criterion': 'entropy', 'max_depth': 24, 'min_samples_split': 0.10641978731899052, 'min_samples_leaf': 0.2331406361368431, 'min_weight_fraction_leaf': 0.0594141903338818, 'max_features': 'sqrt', 'max_leaf_nodes': 52, 'min_impurity_decrease': 0.38503925310189985, 'bootstrap': True}. Best is trial 0 with value: 0.49965.\n",
      "/opt/conda/lib/python3.10/site-packages/sklearn/ensemble/_forest.py:424: FutureWarning: `max_features='auto'` has been deprecated in 1.1 and will be removed in 1.3. To keep the past behaviour, explicitly set `max_features='sqrt'` or remove this parameter as it is also the default value for RandomForestClassifiers and ExtraTreesClassifiers.\n",
      "  warn(\n",
      "[I 2023-10-14 16:35:38,067] Trial 88 finished with value: 0.49965 and parameters: {'n_estimators': 62, 'criterion': 'gini', 'max_depth': 9, 'min_samples_split': 0.2267056006047116, 'min_samples_leaf': 0.21412640924888954, 'min_weight_fraction_leaf': 0.1327240560935928, 'max_features': 'auto', 'max_leaf_nodes': 31, 'min_impurity_decrease': 0.42788635637841255, 'bootstrap': False}. Best is trial 0 with value: 0.49965.\n",
      "[I 2023-10-14 16:35:40,217] Trial 89 finished with value: 0.49965 and parameters: {'n_estimators': 99, 'criterion': 'log_loss', 'max_depth': 3, 'min_samples_split': 0.37371853245534953, 'min_samples_leaf': 0.19677639576983158, 'min_weight_fraction_leaf': 0.1738930043659333, 'max_features': 'sqrt', 'max_leaf_nodes': 70, 'min_impurity_decrease': 0.3083611762572587, 'bootstrap': True}. Best is trial 0 with value: 0.49965.\n",
      "[I 2023-10-14 16:35:41,257] Trial 90 finished with value: 0.49965 and parameters: {'n_estimators': 47, 'criterion': 'entropy', 'max_depth': 27, 'min_samples_split': 0.1942891704386964, 'min_samples_leaf': 0.30146925985367246, 'min_weight_fraction_leaf': 0.13902409041406266, 'max_features': 'log2', 'max_leaf_nodes': 43, 'min_impurity_decrease': 0.5066925674128544, 'bootstrap': False}. Best is trial 0 with value: 0.49965.\n",
      "/opt/conda/lib/python3.10/site-packages/sklearn/ensemble/_forest.py:424: FutureWarning: `max_features='auto'` has been deprecated in 1.1 and will be removed in 1.3. To keep the past behaviour, explicitly set `max_features='sqrt'` or remove this parameter as it is also the default value for RandomForestClassifiers and ExtraTreesClassifiers.\n",
      "  warn(\n",
      "[I 2023-10-14 16:35:42,017] Trial 91 finished with value: 0.49965 and parameters: {'n_estimators': 31, 'criterion': 'entropy', 'max_depth': 21, 'min_samples_split': 0.32776542629125716, 'min_samples_leaf': 0.2489255809100429, 'min_weight_fraction_leaf': 0.12340052321397474, 'max_features': 'auto', 'max_leaf_nodes': 62, 'min_impurity_decrease': 0.6469757197651401, 'bootstrap': False}. Best is trial 0 with value: 0.49965.\n",
      "/opt/conda/lib/python3.10/site-packages/sklearn/ensemble/_forest.py:424: FutureWarning: `max_features='auto'` has been deprecated in 1.1 and will be removed in 1.3. To keep the past behaviour, explicitly set `max_features='sqrt'` or remove this parameter as it is also the default value for RandomForestClassifiers and ExtraTreesClassifiers.\n",
      "  warn(\n",
      "[I 2023-10-14 16:35:43,635] Trial 92 finished with value: 0.49965 and parameters: {'n_estimators': 79, 'criterion': 'entropy', 'max_depth': 13, 'min_samples_split': 0.5629703277043281, 'min_samples_leaf': 0.22329530661264596, 'min_weight_fraction_leaf': 0.15660171440379939, 'max_features': 'auto', 'max_leaf_nodes': 26, 'min_impurity_decrease': 0.6078593475483344, 'bootstrap': False}. Best is trial 0 with value: 0.49965.\n",
      "/opt/conda/lib/python3.10/site-packages/sklearn/ensemble/_forest.py:424: FutureWarning: `max_features='auto'` has been deprecated in 1.1 and will be removed in 1.3. To keep the past behaviour, explicitly set `max_features='sqrt'` or remove this parameter as it is also the default value for RandomForestClassifiers and ExtraTreesClassifiers.\n",
      "  warn(\n",
      "[I 2023-10-14 16:35:44,873] Trial 93 finished with value: 0.49965 and parameters: {'n_estimators': 57, 'criterion': 'entropy', 'max_depth': 22, 'min_samples_split': 0.43793812376821467, 'min_samples_leaf': 0.28224107682478466, 'min_weight_fraction_leaf': 0.22229093553072915, 'max_features': 'auto', 'max_leaf_nodes': 79, 'min_impurity_decrease': 0.7070157214870835, 'bootstrap': False}. Best is trial 0 with value: 0.49965.\n",
      "/opt/conda/lib/python3.10/site-packages/sklearn/ensemble/_forest.py:424: FutureWarning: `max_features='auto'` has been deprecated in 1.1 and will be removed in 1.3. To keep the past behaviour, explicitly set `max_features='sqrt'` or remove this parameter as it is also the default value for RandomForestClassifiers and ExtraTreesClassifiers.\n",
      "  warn(\n",
      "[I 2023-10-14 16:35:45,879] Trial 94 finished with value: 0.49965 and parameters: {'n_estimators': 41, 'criterion': 'gini', 'max_depth': 3, 'min_samples_split': 0.2858601778249793, 'min_samples_leaf': 0.23394395338928067, 'min_weight_fraction_leaf': 0.10162542304507106, 'max_features': 'auto', 'max_leaf_nodes': 48, 'min_impurity_decrease': 0.47287883474828885, 'bootstrap': False}. Best is trial 0 with value: 0.49965.\n",
      "/opt/conda/lib/python3.10/site-packages/sklearn/ensemble/_forest.py:424: FutureWarning: `max_features='auto'` has been deprecated in 1.1 and will be removed in 1.3. To keep the past behaviour, explicitly set `max_features='sqrt'` or remove this parameter as it is also the default value for RandomForestClassifiers and ExtraTreesClassifiers.\n",
      "  warn(\n",
      "[I 2023-10-14 16:35:47,077] Trial 95 finished with value: 0.49965 and parameters: {'n_estimators': 50, 'criterion': 'entropy', 'max_depth': 2, 'min_samples_split': 0.41092538548414304, 'min_samples_leaf': 0.21384277583984276, 'min_weight_fraction_leaf': 0.1814199961864852, 'max_features': 'auto', 'max_leaf_nodes': 7, 'min_impurity_decrease': 0.6765927740113548, 'bootstrap': True}. Best is trial 0 with value: 0.49965.\n",
      "/opt/conda/lib/python3.10/site-packages/sklearn/ensemble/_forest.py:424: FutureWarning: `max_features='auto'` has been deprecated in 1.1 and will be removed in 1.3. To keep the past behaviour, explicitly set `max_features='sqrt'` or remove this parameter as it is also the default value for RandomForestClassifiers and ExtraTreesClassifiers.\n",
      "  warn(\n",
      "[I 2023-10-14 16:35:47,792] Trial 96 finished with value: 0.49965 and parameters: {'n_estimators': 26, 'criterion': 'gini', 'max_depth': 4, 'min_samples_split': 0.45992308971264956, 'min_samples_leaf': 0.26604208637687504, 'min_weight_fraction_leaf': 0.20956224534072154, 'max_features': 'auto', 'max_leaf_nodes': 8, 'min_impurity_decrease': 0.5945322994102515, 'bootstrap': True}. Best is trial 0 with value: 0.49965.\n",
      "[I 2023-10-14 16:35:50,649] Trial 97 finished with value: 0.49965 and parameters: {'n_estimators': 150, 'criterion': 'log_loss', 'max_depth': 32, 'min_samples_split': 0.49812999175655337, 'min_samples_leaf': 0.3123747801777487, 'min_weight_fraction_leaf': 0.2373690721894015, 'max_features': 'log2', 'max_leaf_nodes': 59, 'min_impurity_decrease': 0.7562871951640474, 'bootstrap': False}. Best is trial 0 with value: 0.49965.\n",
      "[I 2023-10-14 16:35:51,537] Trial 98 finished with value: 0.49965 and parameters: {'n_estimators': 35, 'criterion': 'entropy', 'max_depth': 5, 'min_samples_split': 0.2609162085209485, 'min_samples_leaf': 0.25409809317277615, 'min_weight_fraction_leaf': 0.015214961792126926, 'max_features': 'sqrt', 'max_leaf_nodes': 11, 'min_impurity_decrease': 0.6343875625448447, 'bootstrap': True}. Best is trial 0 with value: 0.49965.\n",
      "/opt/conda/lib/python3.10/site-packages/sklearn/ensemble/_forest.py:424: FutureWarning: `max_features='auto'` has been deprecated in 1.1 and will be removed in 1.3. To keep the past behaviour, explicitly set `max_features='sqrt'` or remove this parameter as it is also the default value for RandomForestClassifiers and ExtraTreesClassifiers.\n",
      "  warn(\n",
      "[I 2023-10-14 16:35:53,938] Trial 99 finished with value: 0.49965 and parameters: {'n_estimators': 119, 'criterion': 'gini', 'max_depth': 8, 'min_samples_split': 0.3789099594329366, 'min_samples_leaf': 0.24012583147486832, 'min_weight_fraction_leaf': 0.16817846923807292, 'max_features': 'auto', 'max_leaf_nodes': 31, 'min_impurity_decrease': 0.698329823239304, 'bootstrap': False}. Best is trial 0 with value: 0.49965.\n"
     ]
    },
    {
     "name": "stdout",
     "output_type": "stream",
     "text": [
      "Number of finished trials: 100\n",
      "Best trial: {'n_estimators': 158, 'criterion': 'log_loss', 'max_depth': 17, 'min_samples_split': 0.3880243171996576, 'min_samples_leaf': 0.4247838122008928, 'min_weight_fraction_leaf': 0.170287707952885, 'max_features': 'log2', 'max_leaf_nodes': 7, 'min_impurity_decrease': 0.6467542020296969, 'bootstrap': True}\n"
     ]
    }
   ],
   "source": [
    "def objective(trial):\n",
    "    # Hyperparameters to be optimized\n",
    "    n_estimators = trial.suggest_int(\"n_estimators\", 10, 200)  # Expanded range\n",
    "    criterion = trial.suggest_categorical(\"criterion\", [\"gini\", \"entropy\", \"log_loss\"])\n",
    "    max_depth = trial.suggest_int(\"max_depth\", 2, 32, log=True)\n",
    "    min_samples_split = trial.suggest_float(\"min_samples_split\", 0.1, 1)\n",
    "    min_samples_leaf = trial.suggest_float(\"min_samples_leaf\", 0.1, 0.5)\n",
    "    min_weight_fraction_leaf = trial.suggest_float(\"min_weight_fraction_leaf\", 0.0, 0.5)\n",
    "    max_leaf_nodes = trial.suggest_int(\"max_leaf_nodes\", 2, 128, log=True)\n",
    "    min_impurity_decrease = trial.suggest_float(\"min_impurity_decrease\", 0.0, 1.0)\n",
    "    bootstrap = trial.suggest_categorical(\"bootstrap\", [True, False])\n",
    "\n",
    "    classifier = RandomForestClassifier(\n",
    "        n_estimators=n_estimators,\n",
    "        criterion=criterion,\n",
    "        max_depth=max_depth,\n",
    "        min_samples_split=min_samples_split,\n",
    "        min_samples_leaf=min_samples_leaf,\n",
    "        min_weight_fraction_leaf=min_weight_fraction_leaf,\n",
    "        max_leaf_nodes=max_leaf_nodes,\n",
    "        min_impurity_decrease=min_impurity_decrease,\n",
    "        bootstrap=bootstrap,\n",
    "        random_state=50,\n",
    "    )\n",
    "\n",
    "    classifier.fit(X_train, y_train)\n",
    "    predictions = classifier.predict(X_test)\n",
    "    accuracy = accuracy_score(y_test, predictions)\n",
    "    return accuracy\n",
    "\n",
    "\n",
    "optuna.logging.set_verbosity(optuna.logging.INFO)\n",
    "study = optuna.create_study(direction=\"maximize\")\n",
    "study.optimize(objective, n_trials=100)\n",
    "\n",
    "# Results of the optimization\n",
    "print(f\"Number of finished trials: {len(study.trials)}\")\n",
    "print(f\"Best trial: {study.best_trial.params}\")"
   ]
  },
  {
   "cell_type": "code",
   "execution_count": 44,
   "metadata": {
    "execution": {
     "iopub.execute_input": "2023-10-14T16:35:53.960771Z",
     "iopub.status.busy": "2023-10-14T16:35:53.959802Z",
     "iopub.status.idle": "2023-10-14T16:35:53.966652Z",
     "shell.execute_reply": "2023-10-14T16:35:53.965526Z",
     "shell.execute_reply.started": "2023-10-14T16:35:53.960735Z"
    },
    "trusted": true
   },
   "outputs": [
    {
     "name": "stdout",
     "output_type": "stream",
     "text": [
      "(100000, 1048576) <class 'scipy.sparse.csr.csr_matrix'>\n"
     ]
    }
   ],
   "source": [
    "# Check the dimensions and the type of the feature matrix\n",
    "print(X.shape, type(X))"
   ]
  },
  {
   "cell_type": "code",
   "execution_count": 45,
   "metadata": {
    "execution": {
     "iopub.execute_input": "2023-10-14T16:35:53.968849Z",
     "iopub.status.busy": "2023-10-14T16:35:53.968187Z",
     "iopub.status.idle": "2023-10-14T16:35:57.028483Z",
     "shell.execute_reply": "2023-10-14T16:35:57.027503Z",
     "shell.execute_reply.started": "2023-10-14T16:35:53.968813Z"
    },
    "trusted": true
   },
   "outputs": [
    {
     "name": "stderr",
     "output_type": "stream",
     "text": [
      "[Parallel(n_jobs=1)]: Done  49 tasks      | elapsed:    0.4s\n",
      "[Parallel(n_jobs=1)]: Done  49 tasks      | elapsed:    0.5s\n"
     ]
    },
    {
     "name": "stdout",
     "output_type": "stream",
     "text": [
      "Final Accuracy: 0.49965\n",
      "Confusion Matrix:\n",
      "[[ 9993     0]\n",
      " [10007     0]]\n",
      "Classification Report:\n",
      "              precision    recall  f1-score   support\n",
      "\n",
      "           0       0.50      1.00      0.67      9993\n",
      "           1       0.00      0.00      0.00     10007\n",
      "\n",
      "    accuracy                           0.50     20000\n",
      "   macro avg       0.25      0.50      0.33     20000\n",
      "weighted avg       0.25      0.50      0.33     20000\n",
      "\n"
     ]
    },
    {
     "name": "stderr",
     "output_type": "stream",
     "text": [
      "/opt/conda/lib/python3.10/site-packages/sklearn/metrics/_classification.py:1344: UndefinedMetricWarning: Precision and F-score are ill-defined and being set to 0.0 in labels with no predicted samples. Use `zero_division` parameter to control this behavior.\n",
      "  _warn_prf(average, modifier, msg_start, len(result))\n",
      "/opt/conda/lib/python3.10/site-packages/sklearn/metrics/_classification.py:1344: UndefinedMetricWarning: Precision and F-score are ill-defined and being set to 0.0 in labels with no predicted samples. Use `zero_division` parameter to control this behavior.\n",
      "  _warn_prf(average, modifier, msg_start, len(result))\n",
      "/opt/conda/lib/python3.10/site-packages/sklearn/metrics/_classification.py:1344: UndefinedMetricWarning: Precision and F-score are ill-defined and being set to 0.0 in labels with no predicted samples. Use `zero_division` parameter to control this behavior.\n",
      "  _warn_prf(average, modifier, msg_start, len(result))\n"
     ]
    }
   ],
   "source": [
    "# Assumez que best_params est le dictionnaire des meilleurs paramètres retournés par Optuna\n",
    "best_params = study.best_trial.params\n",
    "\n",
    "# Créez un nouveau classificateur Random Forest avec ces paramètres\n",
    "final_classifier = RandomForestClassifier(**best_params, random_state=50, verbose=1)\n",
    "\n",
    "# Entraînez le classificateur sur l'ensemble d'entraînement\n",
    "final_classifier.fit(X_train, y_train)\n",
    "\n",
    "# Faites des prédictions sur l'ensemble de test\n",
    "final_predictions = final_classifier.predict(X_test)\n",
    "\n",
    "# Évaluez la performance du classificateur\n",
    "final_accuracy = accuracy_score(y_test, final_predictions)\n",
    "conf_matrix = confusion_matrix(y_test, final_predictions)\n",
    "class_report = classification_report(y_test, final_predictions)\n",
    "\n",
    "# Print les métriques d'évaluation\n",
    "print(f\"Final Accuracy: {final_accuracy}\")\n",
    "print(f\"Confusion Matrix:\\n{conf_matrix}\")\n",
    "print(f\"Classification Report:\\n{class_report}\")"
   ]
  },
  {
   "cell_type": "markdown",
   "metadata": {},
   "source": [
    "Even with few data, Random Forest is not able to discern anything from it.\n",
    "\n",
    "This is probably due to the fact that the data is too complex for this model.\n",
    "\n",
    "We also tried RandomForest on more data but it didn't yield better results, it also was very costly in terms of memory and time."
   ]
  },
  {
   "cell_type": "markdown",
   "metadata": {},
   "source": [
    "---"
   ]
  },
  {
   "cell_type": "markdown",
   "metadata": {},
   "source": [
    "## Multi Layer Perceptron (MLP)\n",
    "Multi Layer Perceptron (MLP) is a class of feedforward artificial neural network. By flattening the DNA sequences and employing a suitable encoding scheme, MLPs can be trained to differentiate between human and gorilla DNA based on the input features.\n",
    "\n",
    "The idea being that the MLP will be able to learn the patterns in the data and classify the sequences accordingly.\n",
    "\n",
    "This was also a more general approach to the problem as MLPs are able to learn from any kind of data."
   ]
  },
  {
   "cell_type": "code",
   "execution_count": null,
   "metadata": {},
   "outputs": [
    {
     "name": "stdout",
     "output_type": "stream",
     "text": [
      "Looking in indexes: https://pypi.org/simple, https://packagecloud.io/github/git-lfs/pypi/simple\n",
      "Requirement already satisfied: sklearn-genetic-opt in /home/arnaudb/Documents/EPITA/ING3/ml-bio/.venv/lib/python3.11/site-packages (0.10.1)\n",
      "Requirement already satisfied: scikit-learn>=1.1.0 in /home/arnaudb/Documents/EPITA/ING3/ml-bio/.venv/lib/python3.11/site-packages (from sklearn-genetic-opt) (1.3.0)\n",
      "Requirement already satisfied: numpy>=1.19.0 in /home/arnaudb/Documents/EPITA/ING3/ml-bio/.venv/lib/python3.11/site-packages (from sklearn-genetic-opt) (1.24.3)\n",
      "Requirement already satisfied: deap>=1.3.3 in /home/arnaudb/Documents/EPITA/ING3/ml-bio/.venv/lib/python3.11/site-packages (from sklearn-genetic-opt) (1.4.1)\n",
      "Requirement already satisfied: tqdm>=4.61.1 in /home/arnaudb/Documents/EPITA/ING3/ml-bio/.venv/lib/python3.11/site-packages (from sklearn-genetic-opt) (4.66.1)\n",
      "Requirement already satisfied: scipy>=1.5.0 in /home/arnaudb/Documents/EPITA/ING3/ml-bio/.venv/lib/python3.11/site-packages (from scikit-learn>=1.1.0->sklearn-genetic-opt) (1.9.3)\n",
      "Requirement already satisfied: joblib>=1.1.1 in /home/arnaudb/Documents/EPITA/ING3/ml-bio/.venv/lib/python3.11/site-packages (from scikit-learn>=1.1.0->sklearn-genetic-opt) (1.3.2)\n",
      "Requirement already satisfied: threadpoolctl>=2.0.0 in /home/arnaudb/Documents/EPITA/ING3/ml-bio/.venv/lib/python3.11/site-packages (from scikit-learn>=1.1.0->sklearn-genetic-opt) (3.2.0)\n"
     ]
    }
   ],
   "source": [
    "!pip install sklearn-genetic-opt scikit-learn tqdm matplotlib numpy pandas"
   ]
  },
  {
   "cell_type": "code",
   "execution_count": null,
   "metadata": {},
   "outputs": [
    {
     "name": "stderr",
     "output_type": "stream",
     "text": [
      "2023-10-14 18:11:02.666477: I tensorflow/core/platform/cpu_feature_guard.cc:182] This TensorFlow binary is optimized to use available CPU instructions in performance-critical operations.\n",
      "To enable the following instructions: AVX2 FMA, in other operations, rebuild TensorFlow with the appropriate compiler flags.\n",
      "2023-10-14 18:11:03.900152: W tensorflow/compiler/tf2tensorrt/utils/py_utils.cc:38] TF-TRT Warning: Could not find TensorRT\n"
     ]
    }
   ],
   "source": [
    "import matplotlib.pyplot as plt\n",
    "from sklearn_genetic import GASearchCV\n",
    "from sklearn_genetic.space import Categorical, Integer, Continuous\n",
    "from sklearn.model_selection import train_test_split, StratifiedKFold\n",
    "from sklearn.neural_network import MLPClassifier\n",
    "from sklearn.metrics import accuracy_score\n",
    "from tqdm import tqdm"
   ]
  },
  {
   "cell_type": "code",
   "execution_count": null,
   "metadata": {},
   "outputs": [],
   "source": [
    "param_grid = {\n",
    "    \"tol\": Continuous(1e-2, 1e10, distribution=\"log-uniform\"),\n",
    "    \"learning_rate\": Categorical([\"constant\", \"adaptive\"]),\n",
    "    \"hidden_layer_sizes\": Integer(10, 1000),\n",
    "    \"max_iter\": Integer(100, 1000),\n",
    "}"
   ]
  },
  {
   "cell_type": "code",
   "execution_count": null,
   "metadata": {},
   "outputs": [],
   "source": [
    "# The base classifier to tune\n",
    "clf = MLPClassifier(\n",
    "    early_stopping=True, random_state=random_state, activation=\"relu\", solver=\"adam\"\n",
    ")\n",
    "\n",
    "# Our cross-validation strategy (it could be just an int)\n",
    "cv = StratifiedKFold(n_splits=3, shuffle=True)\n",
    "\n",
    "# The main class from sklearn-genetic-opt\n",
    "evolved_estimator = GASearchCV(\n",
    "    estimator=clf,\n",
    "    cv=cv,\n",
    "    scoring=\"accuracy\",\n",
    "    param_grid=param_grid,\n",
    "    n_jobs=-1,\n",
    "    verbose=True,\n",
    "    population_size=20,\n",
    "    generations=5,\n",
    ")"
   ]
  },
  {
   "cell_type": "code",
   "execution_count": null,
   "metadata": {},
   "outputs": [
    {
     "name": "stderr",
     "output_type": "stream",
     "text": [
      "  0%|          | 0/40 [00:00<?, ?it/s]"
     ]
    },
    {
     "name": "stdout",
     "output_type": "stream",
     "text": [
      "gen\tnevals\tfitness \tfitness_std\tfitness_max\tfitness_min\n",
      "0  \t20    \t0.498685\t0.0082103  \t0.513212   \t0.484381   \n",
      "1  \t40    \t0.508744\t0.00770474 \t0.521487   \t0.492679   \n",
      "2  \t40    \t0.512236\t0.00521099 \t0.521487   \t0.499503   \n",
      "3  \t40    \t0.513773\t0.00557615 \t0.521487   \t0.502442   \n",
      "4  \t40    \t0.515701\t0.00514096 \t0.521481   \t0.502439   \n",
      "5  \t40    \t0.514528\t0.00649357 \t0.522457   \t0.503425   \n"
     ]
    },
    {
     "name": "stderr",
     "output_type": "stream",
     "text": [
      "  2%|▎         | 1/40 [03:56<2:33:57, 236.85s/it]"
     ]
    },
    {
     "name": "stdout",
     "output_type": "stream",
     "text": [
      "gen\tnevals\tfitness \tfitness_std\tfitness_max\tfitness_min\n",
      "0  \t20    \t0.504443\t0.0105353  \t0.528329   \t0.477536   \n",
      "1  \t40    \t0.510058\t0.0074114  \t0.524894   \t0.494137   \n",
      "2  \t40    \t0.51582 \t0.00489588 \t0.52345    \t0.506337   \n",
      "3  \t40    \t0.52283 \t0.00655065 \t0.533696   \t0.514644   \n",
      "4  \t40    \t0.52178 \t0.00834658 \t0.533696   \t0.504895   \n",
      "5  \t40    \t0.521216\t0.00918099 \t0.533696   \t0.503408   \n"
     ]
    },
    {
     "name": "stderr",
     "output_type": "stream",
     "text": [
      "  5%|▌         | 2/40 [09:35<3:07:53, 296.67s/it]"
     ]
    },
    {
     "name": "stdout",
     "output_type": "stream",
     "text": [
      "gen\tnevals\tfitness \tfitness_std\tfitness_max\tfitness_min\n",
      "0  \t20    \t0.511769\t0.0110913  \t0.527338   \t0.490735   \n",
      "1  \t40    \t0.520484\t0.0095636  \t0.540037   \t0.504396   \n",
      "2  \t40    \t0.521313\t0.0100477  \t0.540037   \t0.505371   \n",
      "3  \t40    \t0.523365\t0.00795575 \t0.540032   \t0.507331   \n",
      "4  \t40    \t0.524315\t0.00628912 \t0.536626   \t0.51612    \n",
      "5  \t40    \t0.523923\t0.00576991 \t0.536626   \t0.515125   \n"
     ]
    },
    {
     "name": "stderr",
     "output_type": "stream",
     "text": [
      "  8%|▊         | 3/40 [15:08<3:13:08, 313.20s/it]"
     ]
    },
    {
     "name": "stdout",
     "output_type": "stream",
     "text": [
      "gen\tnevals\tfitness \tfitness_std\tfitness_max\tfitness_min\n",
      "0  \t20    \t0.510866\t0.00778352 \t0.528319   \t0.497563   \n",
      "1  \t40    \t0.519874\t0.00729202 \t0.533208   \t0.508294   \n",
      "2  \t40    \t0.523952\t0.00518228 \t0.533208   \t0.514653   \n",
      "3  \t40    \t0.524148\t0.00623212 \t0.533208   \t0.507809   \n",
      "4  \t40    \t0.526346\t0.00607857 \t0.533208   \t0.509771   \n",
      "5  \t40    \t0.526837\t0.00613137 \t0.531738   \t0.513669   \n"
     ]
    },
    {
     "name": "stderr",
     "output_type": "stream",
     "text": [
      " 10%|█         | 4/40 [20:09<3:05:08, 308.56s/it]"
     ]
    },
    {
     "name": "stdout",
     "output_type": "stream",
     "text": [
      "gen\tnevals\tfitness \tfitness_std\tfitness_max\tfitness_min\n",
      "0  \t20    \t0.518748\t0.00606619 \t0.532716   \t0.510741   \n",
      "1  \t40    \t0.52441 \t0.00440474 \t0.532716   \t0.515618   \n",
      "2  \t40    \t0.524632\t0.00396133 \t0.532716   \t0.518062   \n",
      "3  \t40    \t0.526071\t0.0056131  \t0.535156   \t0.513181   \n",
      "4  \t40    \t0.527099\t0.00693648 \t0.535156   \t0.513198   \n",
      "5  \t40    \t0.528369\t0.00704861 \t0.535161   \t0.515626   \n"
     ]
    },
    {
     "name": "stderr",
     "output_type": "stream",
     "text": [
      " 12%|█▎        | 5/40 [25:43<3:05:19, 317.71s/it]"
     ]
    },
    {
     "name": "stdout",
     "output_type": "stream",
     "text": [
      "gen\tnevals\tfitness \tfitness_std\tfitness_max\tfitness_min\n",
      "0  \t20    \t0.488429\t0.0123596  \t0.524899   \t0.473633   \n",
      "1  \t40    \t0.501415\t0.00764229 \t0.524899   \t0.488774   \n",
      "2  \t40    \t0.507054\t0.00886358 \t0.524899   \t0.49561    \n",
      "3  \t40    \t0.514676\t0.00759128 \t0.524899   \t0.50049    \n",
      "4  \t40    \t0.514382\t0.0065182  \t0.524899   \t0.50049    \n",
      "5  \t40    \t0.51526 \t0.00681495 \t0.524899   \t0.50342    \n"
     ]
    },
    {
     "name": "stderr",
     "output_type": "stream",
     "text": [
      " 15%|█▌        | 6/40 [31:33<3:06:12, 328.61s/it]"
     ]
    },
    {
     "name": "stdout",
     "output_type": "stream",
     "text": [
      "gen\tnevals\tfitness \tfitness_std\tfitness_max\tfitness_min\n",
      "0  \t20    \t0.497315\t0.00941182 \t0.515134   \t0.479986   \n",
      "1  \t40    \t0.505174\t0.00665919 \t0.515134   \t0.493175   \n",
      "2  \t40    \t0.50896 \t0.00517129 \t0.515134   \t0.501466   \n",
      "3  \t40    \t0.509933\t0.00620115 \t0.516598   \t0.498527   \n",
      "4  \t40    \t0.512816\t0.00635069 \t0.522457   \t0.498527   \n",
      "5  \t40    \t0.515232\t0.00597385 \t0.522457   \t0.501473   \n"
     ]
    },
    {
     "name": "stderr",
     "output_type": "stream",
     "text": [
      " 18%|█▊        | 7/40 [37:20<3:04:08, 334.80s/it]"
     ]
    },
    {
     "name": "stdout",
     "output_type": "stream",
     "text": [
      "gen\tnevals\tfitness \tfitness_std\tfitness_max\tfitness_min\n",
      "0  \t20    \t0.506323\t0.00943555 \t0.520993   \t0.491202   \n",
      "1  \t40    \t0.515598\t0.0068931  \t0.522457   \t0.500979   \n",
      "2  \t40    \t0.521387\t0.00664265 \t0.534192   \t0.507317   \n",
      "3  \t40    \t0.524294\t0.00631432 \t0.534192   \t0.510744   \n",
      "4  \t40    \t0.52603 \t0.00673795 \t0.538094   \t0.514171   \n",
      "5  \t40    \t0.522049\t0.00742426 \t0.534192   \t0.510738   \n"
     ]
    },
    {
     "name": "stderr",
     "output_type": "stream",
     "text": [
      " 20%|██        | 8/40 [43:09<3:00:53, 339.16s/it]"
     ]
    },
    {
     "name": "stdout",
     "output_type": "stream",
     "text": [
      "gen\tnevals\tfitness \tfitness_std\tfitness_max\tfitness_min\n",
      "0  \t20    \t0.502321\t0.00798495 \t0.516607   \t0.489743   \n",
      "1  \t40    \t0.508302\t0.00589714 \t0.522956   \t0.499504   \n",
      "2  \t40    \t0.512357\t0.00695804 \t0.526358   \t0.502933   \n",
      "3  \t40    \t0.516774\t0.00708559 \t0.526358   \t0.504878   \n",
      "4  \t40    \t0.51741 \t0.00407694 \t0.523438   \t0.509762   \n",
      "5  \t40    \t0.519339\t0.0047173  \t0.523438   \t0.504386   \n"
     ]
    },
    {
     "name": "stderr",
     "output_type": "stream",
     "text": [
      " 22%|██▎       | 9/40 [49:05<2:58:01, 344.57s/it]"
     ]
    },
    {
     "name": "stdout",
     "output_type": "stream",
     "text": [
      "gen\tnevals\tfitness \tfitness_std\tfitness_max\tfitness_min\n",
      "0  \t20    \t0.505079\t0.0104477  \t0.5288     \t0.486813   \n",
      "1  \t40    \t0.513209\t0.00743001 \t0.5288     \t0.499015   \n",
      "2  \t40    \t0.515917\t0.00590084 \t0.528314   \t0.500485   \n",
      "3  \t40    \t0.516408\t0.00664467 \t0.528314   \t0.504885   \n",
      "4  \t40    \t0.518018\t0.00908636 \t0.532232   \t0.503415   \n",
      "5  \t40    \t0.519215\t0.00783945 \t0.532232   \t0.497072   \n"
     ]
    },
    {
     "name": "stderr",
     "output_type": "stream",
     "text": [
      " 25%|██▌       | 10/40 [53:40<2:41:27, 322.93s/it]"
     ]
    },
    {
     "name": "stdout",
     "output_type": "stream",
     "text": [
      "gen\tnevals\tfitness\tfitness_std\tfitness_max\tfitness_min\n",
      "0  \t20    \t0.50276\t0.00993498 \t0.526864   \t0.485352   \n",
      "1  \t40    \t0.51062\t0.00793514 \t0.526864   \t0.498532   \n",
      "2  \t40    \t0.515941\t0.00565127 \t0.526864   \t0.500005   \n",
      "3  \t40    \t0.519702\t0.0051276  \t0.528812   \t0.513672   \n",
      "4  \t40    \t0.51738 \t0.00695647 \t0.528812   \t0.503902   \n",
      "5  \t40    \t0.518969\t0.00440375 \t0.528812   \t0.512701   \n"
     ]
    },
    {
     "name": "stderr",
     "output_type": "stream",
     "text": [
      " 28%|██▊       | 11/40 [59:10<2:37:05, 325.02s/it]"
     ]
    },
    {
     "name": "stdout",
     "output_type": "stream",
     "text": [
      "gen\tnevals\tfitness \tfitness_std\tfitness_max\tfitness_min\n",
      "0  \t20    \t0.502465\t0.00825292 \t0.521971   \t0.487309   \n",
      "1  \t40    \t0.509449\t0.00717156 \t0.521971   \t0.498541   \n",
      "2  \t40    \t0.514062\t0.00663982 \t0.526356   \t0.504391   \n",
      "3  \t40    \t0.513237\t0.00737696 \t0.521971   \t0.493654   \n",
      "4  \t40    \t0.517408\t0.00529564 \t0.523439   \t0.50635    \n",
      "5  \t40    \t0.516137\t0.00650752 \t0.524917   \t0.504876   \n"
     ]
    },
    {
     "name": "stderr",
     "output_type": "stream",
     "text": [
      " 30%|███       | 12/40 [1:04:17<2:29:12, 319.72s/it]"
     ]
    },
    {
     "name": "stdout",
     "output_type": "stream",
     "text": [
      "gen\tnevals\tfitness \tfitness_std\tfitness_max\tfitness_min\n",
      "0  \t20    \t0.491457\t0.0117886  \t0.517093   \t0.468269   \n",
      "1  \t40    \t0.502055\t0.00826984 \t0.517093   \t0.486803   \n",
      "2  \t40    \t0.505374\t0.00393375 \t0.51319    \t0.500015   \n",
      "3  \t40    \t0.507494\t0.00659232 \t0.518559   \t0.493171   \n",
      "4  \t40    \t0.509836\t0.00414478 \t0.514648   \t0.500974   \n",
      "5  \t40    \t0.509567\t0.00478609 \t0.515131   \t0.500974   \n"
     ]
    },
    {
     "name": "stderr",
     "output_type": "stream",
     "text": [
      " 32%|███▎      | 13/40 [1:08:10<2:11:58, 293.29s/it]"
     ]
    },
    {
     "name": "stdout",
     "output_type": "stream",
     "text": [
      "gen\tnevals\tfitness \tfitness_std\tfitness_max\tfitness_min\n",
      "0  \t20    \t0.494432\t0.008656   \t0.508788   \t0.471199   \n",
      "1  \t40    \t0.504051\t0.00744926 \t0.514165   \t0.4839     \n",
      "2  \t40    \t0.509057\t0.0056038  \t0.514645   \t0.491207   \n",
      "3  \t40    \t0.510867\t0.00531692 \t0.516613   \t0.495125   \n",
      "4  \t40    \t0.510256\t0.00530404 \t0.519039   \t0.49657    \n",
      "5  \t40    \t0.509499\t0.00566244 \t0.519039   \t0.496091   \n"
     ]
    },
    {
     "name": "stderr",
     "output_type": "stream",
     "text": [
      " 35%|███▌      | 14/40 [1:12:05<1:59:26, 275.63s/it]"
     ]
    },
    {
     "name": "stdout",
     "output_type": "stream",
     "text": [
      "gen\tnevals\tfitness \tfitness_std\tfitness_max\tfitness_min\n",
      "0  \t20    \t0.511351\t0.0112474  \t0.536132   \t0.488286   \n",
      "1  \t40    \t0.519359\t0.0065757  \t0.533209   \t0.505379   \n",
      "2  \t40    \t0.522752\t0.00627402 \t0.531735   \t0.503896   \n",
      "3  \t40    \t0.527125\t0.00594824 \t0.535164   \t0.514162   \n",
      "4  \t40    \t0.524636\t0.0081998  \t0.53418    \t0.509765   \n",
      "5  \t40    \t0.526   \t0.00843065 \t0.53418    \t0.505363   \n"
     ]
    },
    {
     "name": "stderr",
     "output_type": "stream",
     "text": [
      " 38%|███▊      | 15/40 [1:17:00<1:57:18, 281.54s/it]"
     ]
    },
    {
     "name": "stdout",
     "output_type": "stream",
     "text": [
      "gen\tnevals\tfitness \tfitness_std\tfitness_max\tfitness_min\n",
      "0  \t20    \t0.502417\t0.00848111 \t0.515617   \t0.484858   \n",
      "1  \t40    \t0.508395\t0.00694687 \t0.526361   \t0.498535   \n",
      "2  \t40    \t0.513111\t0.00508521 \t0.518081   \t0.500988   \n",
      "3  \t40    \t0.514261\t0.00667442 \t0.532222   \t0.5        \n",
      "4  \t40    \t0.516799\t0.00522983 \t0.524419   \t0.50829    \n",
      "5  \t40    \t0.517578\t0.00609527 \t0.530273   \t0.50829    \n"
     ]
    },
    {
     "name": "stderr",
     "output_type": "stream",
     "text": [
      " 40%|████      | 16/40 [1:22:02<1:55:02, 287.62s/it]"
     ]
    },
    {
     "name": "stdout",
     "output_type": "stream",
     "text": [
      "gen\tnevals\tfitness \tfitness_std\tfitness_max\tfitness_min\n",
      "0  \t20    \t0.500144\t0.00971477 \t0.518547   \t0.481942   \n",
      "1  \t40    \t0.508644\t0.0046381  \t0.518063   \t0.501954   \n",
      "2  \t40    \t0.513453\t0.00583702 \t0.52197    \t0.502929   \n",
      "3  \t40    \t0.516431\t0.00567453 \t0.525389   \t0.506345   \n",
      "4  \t40    \t0.516674\t0.00752583 \t0.525389   \t0.499509   \n",
      "5  \t40    \t0.515187\t0.00576505 \t0.523921   \t0.500495   \n"
     ]
    },
    {
     "name": "stderr",
     "output_type": "stream",
     "text": [
      " 42%|████▎     | 17/40 [1:27:02<1:51:44, 291.48s/it]"
     ]
    },
    {
     "name": "stdout",
     "output_type": "stream",
     "text": [
      "gen\tnevals\tfitness \tfitness_std\tfitness_max\tfitness_min\n",
      "0  \t20    \t0.500097\t0.0124277  \t0.521474   \t0.469729   \n",
      "1  \t40    \t0.509353\t0.00615315 \t0.521474   \t0.497574   \n",
      "2  \t40    \t0.508033\t0.00735152 \t0.518571   \t0.493643   \n",
      "3  \t40    \t0.511014\t0.00674368 \t0.520508   \t0.495129   \n",
      "4  \t40    \t0.513208\t0.0047366  \t0.520508   \t0.499008   \n",
      "5  \t40    \t0.511793\t0.0057545  \t0.519047   \t0.493152   \n"
     ]
    },
    {
     "name": "stderr",
     "output_type": "stream",
     "text": [
      " 45%|████▌     | 18/40 [1:32:21<1:49:57, 299.88s/it]"
     ]
    },
    {
     "name": "stdout",
     "output_type": "stream",
     "text": [
      "gen\tnevals\tfitness \tfitness_std\tfitness_max\tfitness_min\n",
      "0  \t20    \t0.489575\t0.00884876 \t0.505377   \t0.468745   \n",
      "1  \t40    \t0.50054 \t0.00651878 \t0.509762   \t0.486819   \n",
      "2  \t40    \t0.501223\t0.00711498 \t0.509762   \t0.485847   \n",
      "3  \t40    \t0.506203\t0.00492371 \t0.520517   \t0.498538   \n",
      "4  \t40    \t0.504027\t0.00596764 \t0.520517   \t0.493642   \n",
      "5  \t40    \t0.503201\t0.00653425 \t0.520517   \t0.489743   \n"
     ]
    },
    {
     "name": "stderr",
     "output_type": "stream",
     "text": [
      " 48%|████▊     | 19/40 [1:37:41<1:46:59, 305.69s/it]"
     ]
    },
    {
     "name": "stdout",
     "output_type": "stream",
     "text": [
      "gen\tnevals\tfitness \tfitness_std\tfitness_max\tfitness_min\n",
      "0  \t20    \t0.509399\t0.0108075  \t0.522955   \t0.479989   \n",
      "1  \t40    \t0.514647\t0.00498035 \t0.521961   \t0.500497   \n",
      "2  \t40    \t0.516233\t0.00444525 \t0.521961   \t0.506851   \n",
      "3  \t40    \t0.520482\t0.00391661 \t0.525873   \t0.509291   \n",
      "4  \t40    \t0.520483\t0.00570502 \t0.528319   \t0.501947   \n",
      "5  \t40    \t0.521875\t0.00449723 \t0.528319   \t0.511714   \n"
     ]
    },
    {
     "name": "stderr",
     "output_type": "stream",
     "text": [
      " 50%|█████     | 20/40 [1:41:37<1:34:59, 284.97s/it]"
     ]
    },
    {
     "name": "stdout",
     "output_type": "stream",
     "text": [
      "gen\tnevals\tfitness \tfitness_std\tfitness_max\tfitness_min\n",
      "0  \t20    \t0.496926\t0.00772282 \t0.509775   \t0.479486   \n",
      "1  \t40    \t0.504958\t0.00310056 \t0.509281   \t0.499034   \n",
      "2  \t40    \t0.507865\t0.00546284 \t0.519536   \t0.496588   \n",
      "3  \t40    \t0.506398\t0.00633475 \t0.519536   \t0.492679   \n",
      "4  \t40    \t0.509887\t0.00599174 \t0.519536   \t0.498529   \n",
      "5  \t40    \t0.508545\t0.00533256 \t0.516601   \t0.496101   \n"
     ]
    },
    {
     "name": "stderr",
     "output_type": "stream",
     "text": [
      " 52%|█████▎    | 21/40 [1:46:17<1:29:45, 283.46s/it]"
     ]
    },
    {
     "name": "stdout",
     "output_type": "stream",
     "text": [
      "gen\tnevals\tfitness \tfitness_std\tfitness_max\tfitness_min\n",
      "0  \t20    \t0.498875\t0.00746068 \t0.512691   \t0.486813   \n",
      "1  \t40    \t0.509765\t0.00550762 \t0.517593   \t0.497555   \n",
      "2  \t40    \t0.510962\t0.00531089 \t0.517593   \t0.500013   \n",
      "3  \t40    \t0.515235\t0.00360388 \t0.521477   \t0.504401   \n",
      "4  \t40    \t0.516554\t0.00632141 \t0.525881   \t0.503401   \n",
      "5  \t40    \t0.515094\t0.00501734 \t0.525881   \t0.505874   \n"
     ]
    },
    {
     "name": "stderr",
     "output_type": "stream",
     "text": [
      " 55%|█████▌    | 22/40 [1:50:11<1:20:33, 268.51s/it]"
     ]
    },
    {
     "name": "stdout",
     "output_type": "stream",
     "text": [
      "gen\tnevals\tfitness \tfitness_std\tfitness_max\tfitness_min\n",
      "0  \t20    \t0.490187\t0.0082752  \t0.504895   \t0.470706   \n",
      "1  \t40    \t0.498148\t0.00683988 \t0.517084   \t0.486828   \n",
      "2  \t40    \t0.504124\t0.00542426 \t0.517084   \t0.49317    \n",
      "3  \t40    \t0.506053\t0.00737289 \t0.517084   \t0.49122    \n",
      "4  \t40    \t0.505957\t0.00709233 \t0.51759    \t0.491224   \n",
      "5  \t40    \t0.507543\t0.00594747 \t0.517084   \t0.494635   \n"
     ]
    },
    {
     "name": "stderr",
     "output_type": "stream",
     "text": [
      " 57%|█████▊    | 23/40 [1:54:36<1:15:49, 267.59s/it]"
     ]
    },
    {
     "name": "stdout",
     "output_type": "stream",
     "text": [
      "gen\tnevals\tfitness \tfitness_std\tfitness_max\tfitness_min\n",
      "0  \t20    \t0.495482\t0.0085394  \t0.515633   \t0.478019   \n",
      "1  \t40    \t0.505543\t0.00849456 \t0.515633   \t0.488288   \n",
      "2  \t40    \t0.509642\t0.00541962 \t0.520015   \t0.500972   \n",
      "3  \t40    \t0.51262 \t0.0062705  \t0.52343    \t0.497558   \n",
      "4  \t40    \t0.515991\t0.00599206 \t0.530772   \t0.508789   \n",
      "5  \t40    \t0.51609 \t0.00924722 \t0.530772   \t0.49121    \n"
     ]
    },
    {
     "name": "stderr",
     "output_type": "stream",
     "text": [
      " 60%|██████    | 24/40 [1:59:57<1:15:35, 283.47s/it]"
     ]
    },
    {
     "name": "stdout",
     "output_type": "stream",
     "text": [
      "gen\tnevals\tfitness \tfitness_std\tfitness_max\tfitness_min\n",
      "0  \t20    \t0.497559\t0.00861196 \t0.512215   \t0.48194    \n",
      "1  \t40    \t0.50188 \t0.00740743 \t0.517092   \t0.487305   \n",
      "2  \t40    \t0.504224\t0.00746989 \t0.523423   \t0.493665   \n",
      "3  \t40    \t0.507448\t0.00787835 \t0.523423   \t0.495124   \n",
      "4  \t40    \t0.507422\t0.00609355 \t0.517092   \t0.491699   \n",
      "5  \t40    \t0.50957 \t0.00613409 \t0.521978   \t0.495114   \n"
     ]
    },
    {
     "name": "stderr",
     "output_type": "stream",
     "text": [
      " 62%|██████▎   | 25/40 [2:05:19<1:13:46, 295.10s/it]"
     ]
    },
    {
     "name": "stdout",
     "output_type": "stream",
     "text": [
      "gen\tnevals\tfitness \tfitness_std\tfitness_max\tfitness_min\n",
      "0  \t20    \t0.497365\t0.00829461 \t0.51025    \t0.481449   \n",
      "1  \t40    \t0.509179\t0.00755261 \t0.525881   \t0.494136   \n",
      "2  \t40    \t0.5094  \t0.00656768 \t0.517099   \t0.49415    \n",
      "3  \t40    \t0.512671\t0.00936658 \t0.530283   \t0.496584   \n",
      "4  \t40    \t0.515822\t0.00862684 \t0.530283   \t0.496584   \n",
      "5  \t40    \t0.515579\t0.00738979 \t0.530283   \t0.501471   \n"
     ]
    },
    {
     "name": "stderr",
     "output_type": "stream",
     "text": [
      " 65%|██████▌   | 26/40 [2:10:51<1:11:26, 306.19s/it]"
     ]
    },
    {
     "name": "stdout",
     "output_type": "stream",
     "text": [
      "gen\tnevals\tfitness\tfitness_std\tfitness_max\tfitness_min\n",
      "0  \t20    \t0.50681\t0.0120467  \t0.524909   \t0.476565   \n",
      "1  \t40    \t0.515967\t0.00769728 \t0.532234   \t0.503914   \n",
      "2  \t40    \t0.519019\t0.00539151 \t0.532234   \t0.510256   \n",
      "3  \t40    \t0.523903\t0.00608437 \t0.532234   \t0.511707   \n",
      "4  \t40    \t0.526222\t0.00283987 \t0.532234   \t0.520023   \n",
      "5  \t40    \t0.52659 \t0.00540702 \t0.543459   \t0.520023   \n"
     ]
    },
    {
     "name": "stderr",
     "output_type": "stream",
     "text": [
      " 68%|██████▊   | 27/40 [2:14:20<1:00:01, 277.01s/it]"
     ]
    },
    {
     "name": "stdout",
     "output_type": "stream",
     "text": [
      "gen\tnevals\tfitness\tfitness_std\tfitness_max\tfitness_min\n",
      "0  \t20    \t0.50371\t0.00771469 \t0.520036   \t0.488292   \n",
      "1  \t40    \t0.509181\t0.00765854 \t0.529291   \t0.492186   \n",
      "2  \t40    \t0.513258\t0.00453093 \t0.523925   \t0.508308   \n",
      "3  \t40    \t0.513405\t0.00544905 \t0.523925   \t0.503423   \n",
      "4  \t40    \t0.513132\t0.00403571 \t0.523925   \t0.507311   \n",
      "5  \t40    \t0.513451\t0.00549948 \t0.523925   \t0.50488    \n"
     ]
    },
    {
     "name": "stderr",
     "output_type": "stream",
     "text": [
      " 70%|███████   | 28/40 [2:17:51<51:27, 257.27s/it]  "
     ]
    },
    {
     "name": "stdout",
     "output_type": "stream",
     "text": [
      "gen\tnevals\tfitness \tfitness_std\tfitness_max\tfitness_min\n",
      "0  \t20    \t0.494435\t0.00751497 \t0.504879   \t0.479495   \n",
      "1  \t40    \t0.499339\t0.00677811 \t0.509765   \t0.485847   \n",
      "2  \t40    \t0.50464 \t0.00498903 \t0.512703   \t0.493656   \n",
      "3  \t40    \t0.507471\t0.00476011 \t0.51465    \t0.499031   \n",
      "4  \t40    \t0.509935\t0.00412223 \t0.51465    \t0.500494   \n",
      "5  \t40    \t0.513012\t0.00411762 \t0.521002   \t0.50586    \n"
     ]
    },
    {
     "name": "stderr",
     "output_type": "stream",
     "text": [
      " 72%|███████▎  | 29/40 [2:22:45<49:09, 268.12s/it]"
     ]
    },
    {
     "name": "stdout",
     "output_type": "stream",
     "text": [
      "gen\tnevals\tfitness \tfitness_std\tfitness_max\tfitness_min\n",
      "0  \t20    \t0.498585\t0.0072585  \t0.512201   \t0.485832   \n",
      "1  \t40    \t0.508227\t0.00610368 \t0.516105   \t0.496578   \n",
      "2  \t40    \t0.506469\t0.0053968  \t0.516105   \t0.499517   \n",
      "3  \t40    \t0.507321\t0.00593425 \t0.516105   \t0.494614   \n",
      "4  \t40    \t0.507516\t0.00650924 \t0.516105   \t0.496084   \n",
      "5  \t40    \t0.509616\t0.00746072 \t0.517093   \t0.493657   \n"
     ]
    },
    {
     "name": "stderr",
     "output_type": "stream",
     "text": [
      " 75%|███████▌  | 30/40 [2:27:35<45:49, 274.90s/it]"
     ]
    },
    {
     "name": "stdout",
     "output_type": "stream",
     "text": [
      "gen\tnevals\tfitness \tfitness_std\tfitness_max\tfitness_min\n",
      "0  \t20    \t0.497656\t0.00993836 \t0.52148    \t0.479495   \n",
      "1  \t40    \t0.512276\t0.00737103 \t0.522457   \t0.497066   \n",
      "2  \t40    \t0.514892\t0.00614348 \t0.522457   \t0.504405   \n",
      "3  \t40    \t0.511792\t0.00788419 \t0.522457   \t0.496089   \n",
      "4  \t40    \t0.512109\t0.00797683 \t0.521964   \t0.495117   \n",
      "5  \t40    \t0.51245 \t0.00550416 \t0.521964   \t0.499993   \n"
     ]
    },
    {
     "name": "stderr",
     "output_type": "stream",
     "text": [
      " 78%|███████▊  | 31/40 [2:34:04<46:20, 308.91s/it]"
     ]
    },
    {
     "name": "stdout",
     "output_type": "stream",
     "text": [
      "gen\tnevals\tfitness \tfitness_std\tfitness_max\tfitness_min\n",
      "0  \t20    \t0.515917\t0.0106752  \t0.533702   \t0.496584   \n",
      "1  \t40    \t0.52771 \t0.00617609 \t0.536134   \t0.514655   \n",
      "2  \t40    \t0.527832\t0.00659342 \t0.536134   \t0.511717   \n",
      "3  \t40    \t0.529053\t0.00688069 \t0.539065   \t0.510258   \n",
      "4  \t40    \t0.526172\t0.00731504 \t0.539065   \t0.511226   \n",
      "5  \t40    \t0.524319\t0.0092081  \t0.544935   \t0.506844   \n"
     ]
    },
    {
     "name": "stderr",
     "output_type": "stream",
     "text": [
      " 80%|████████  | 32/40 [2:38:23<39:13, 294.16s/it]"
     ]
    },
    {
     "name": "stdout",
     "output_type": "stream",
     "text": [
      "gen\tnevals\tfitness \tfitness_std\tfitness_max\tfitness_min\n",
      "0  \t20    \t0.500877\t0.00958976 \t0.517577   \t0.484365   \n",
      "1  \t40    \t0.509691\t0.00687076 \t0.517577   \t0.494629   \n",
      "2  \t40    \t0.511961\t0.00659911 \t0.520505   \t0.497074   \n",
      "3  \t40    \t0.510717\t0.00587437 \t0.51757    \t0.500975   \n",
      "4  \t40    \t0.511182\t0.0048996  \t0.51757    \t0.502444   \n",
      "5  \t40    \t0.511549\t0.00639208 \t0.51757    \t0.492185   \n"
     ]
    },
    {
     "name": "stderr",
     "output_type": "stream",
     "text": [
      " 82%|████████▎ | 33/40 [2:44:18<36:26, 312.40s/it]"
     ]
    },
    {
     "name": "stdout",
     "output_type": "stream",
     "text": [
      "gen\tnevals\tfitness \tfitness_std\tfitness_max\tfitness_min\n",
      "0  \t20    \t0.506276\t0.00697605 \t0.517578   \t0.484876   \n",
      "1  \t40    \t0.515553\t0.00510874 \t0.52685    \t0.506347   \n",
      "2  \t40    \t0.518261\t0.00584945 \t0.529305   \t0.508295   \n",
      "3  \t40    \t0.52019 \t0.0055383  \t0.529305   \t0.509764   \n",
      "4  \t40    \t0.520776\t0.00649917 \t0.529305   \t0.508302   \n",
      "5  \t40    \t0.520996\t0.00658871 \t0.529305   \t0.508302   \n"
     ]
    },
    {
     "name": "stderr",
     "output_type": "stream",
     "text": [
      " 85%|████████▌ | 34/40 [2:48:32<29:27, 294.65s/it]"
     ]
    },
    {
     "name": "stdout",
     "output_type": "stream",
     "text": [
      "gen\tnevals\tfitness \tfitness_std\tfitness_max\tfitness_min\n",
      "0  \t20    \t0.507567\t0.00971542 \t0.531739   \t0.493162   \n",
      "1  \t40    \t0.512499\t0.00826331 \t0.531739   \t0.496582   \n",
      "2  \t40    \t0.517406\t0.00683463 \t0.531739   \t0.505864   \n",
      "3  \t40    \t0.519725\t0.00571492 \t0.531739   \t0.503412   \n",
      "4  \t40    \t0.519898\t0.00648072 \t0.531739   \t0.509773   \n",
      "5  \t40    \t0.523366\t0.0052854  \t0.531739   \t0.505367   \n"
     ]
    },
    {
     "name": "stderr",
     "output_type": "stream",
     "text": [
      " 88%|████████▊ | 35/40 [2:53:05<24:01, 288.26s/it]"
     ]
    },
    {
     "name": "stdout",
     "output_type": "stream",
     "text": [
      "gen\tnevals\tfitness \tfitness_std\tfitness_max\tfitness_min\n",
      "0  \t20    \t0.481421\t0.00923024 \t0.496099   \t0.461422   \n",
      "1  \t40    \t0.492943\t0.00788276 \t0.506349   \t0.470697   \n",
      "2  \t40    \t0.494555\t0.00654016 \t0.506349   \t0.47509    \n",
      "3  \t40    \t0.497656\t0.00460228 \t0.505371   \t0.489752   \n",
      "4  \t40    \t0.50078 \t0.00506398 \t0.507814   \t0.492189   \n",
      "5  \t40    \t0.502466\t0.00681238 \t0.515632   \t0.487798   \n"
     ]
    },
    {
     "name": "stderr",
     "output_type": "stream",
     "text": [
      " 90%|█████████ | 36/40 [2:56:37<17:42, 265.52s/it]"
     ]
    },
    {
     "name": "stdout",
     "output_type": "stream",
     "text": [
      "gen\tnevals\tfitness \tfitness_std\tfitness_max\tfitness_min\n",
      "0  \t20    \t0.497288\t0.00934876 \t0.514163   \t0.480958   \n",
      "1  \t40    \t0.506344\t0.00812977 \t0.520504   \t0.490233   \n",
      "2  \t40    \t0.512033\t0.00620457 \t0.520504   \t0.49805    \n",
      "3  \t40    \t0.512962\t0.00652273 \t0.523905   \t0.500485   \n",
      "4  \t40    \t0.509231\t0.0074831  \t0.520504   \t0.494155   \n",
      "5  \t40    \t0.511915\t0.00537543 \t0.520504   \t0.500485   \n"
     ]
    },
    {
     "name": "stderr",
     "output_type": "stream",
     "text": [
      " 92%|█████████▎| 37/40 [3:01:31<13:41, 273.78s/it]"
     ]
    },
    {
     "name": "stdout",
     "output_type": "stream",
     "text": [
      "gen\tnevals\tfitness \tfitness_std\tfitness_max\tfitness_min\n",
      "0  \t20    \t0.512012\t0.0101134  \t0.531255   \t0.489265   \n",
      "1  \t40    \t0.519165\t0.00834789 \t0.531255   \t0.504397   \n",
      "2  \t40    \t0.525026\t0.00574818 \t0.534189   \t0.515618   \n",
      "3  \t40    \t0.527979\t0.00325553 \t0.533208   \t0.520994   \n",
      "4  \t40    \t0.528882\t0.00465155 \t0.533208   \t0.511716   \n",
      "5  \t40    \t0.526413\t0.0045601  \t0.531256   \t0.516113   \n"
     ]
    },
    {
     "name": "stderr",
     "output_type": "stream",
     "text": [
      " 95%|█████████▌| 38/40 [3:06:26<09:20, 280.26s/it]"
     ]
    },
    {
     "name": "stdout",
     "output_type": "stream",
     "text": [
      "gen\tnevals\tfitness\tfitness_std\tfitness_max\tfitness_min\n",
      "0  \t20    \t0.51272\t0.00759689 \t0.529299   \t0.501467   \n",
      "1  \t40    \t0.524242\t0.00829995 \t0.53614    \t0.510747   \n",
      "2  \t40    \t0.52307 \t0.00736938 \t0.53614    \t0.50977    \n",
      "3  \t40    \t0.525783\t0.00862631 \t0.538087   \t0.506343   \n",
      "4  \t40    \t0.529223\t0.00856587 \t0.54395    \t0.511717   \n",
      "5  \t40    \t0.528688\t0.00558676 \t0.538087   \t0.515625   \n"
     ]
    },
    {
     "name": "stderr",
     "output_type": "stream",
     "text": [
      " 98%|█████████▊| 39/40 [3:11:12<04:41, 281.86s/it]"
     ]
    },
    {
     "name": "stdout",
     "output_type": "stream",
     "text": [
      "gen\tnevals\tfitness \tfitness_std\tfitness_max\tfitness_min\n",
      "0  \t20    \t0.479983\t0.031994   \t0.52344    \t0.406238   \n",
      "1  \t40    \t0.512191\t0.0215121  \t0.563677   \t0.453304   \n",
      "2  \t40    \t0.527021\t0.0156638  \t0.562385   \t0.492433   \n",
      "3  \t40    \t0.540799\t0.0301578  \t0.609819   \t0.507752   \n",
      "4  \t40    \t0.552925\t0.0309622  \t0.609819   \t0.507752   \n"
     ]
    },
    {
     "name": "stderr",
     "output_type": "stream",
     "text": [
      "100%|██████████| 40/40 [3:11:46<00:00, 287.66s/it]"
     ]
    },
    {
     "name": "stdout",
     "output_type": "stream",
     "text": [
      "5  \t40    \t0.546899\t0.0229995  \t0.58564    \t0.507383   \n"
     ]
    },
    {
     "name": "stderr",
     "output_type": "stream",
     "text": [
      "\n"
     ]
    }
   ],
   "source": [
    "train_dataloader = torch.utils.data.DataLoader(\n",
    "    train_dataset, batch_size=2048, shuffle=True\n",
    ")\n",
    "test_dataloader = torch.utils.data.DataLoader(\n",
    "    test_dataset, batch_size=2048, shuffle=True\n",
    ")\n",
    "\n",
    "for mini_batch in tqdm(train_dataloader, total=len(train_dataloader)):\n",
    "    X_train, y_train = mini_batch\n",
    "    X_train = X_train.reshape(X_train.shape[0], -1)\n",
    "    evolved_estimator.fit(X_train, y_train)"
   ]
  },
  {
   "cell_type": "code",
   "execution_count": null,
   "metadata": {},
   "outputs": [
    {
     "name": "stderr",
     "output_type": "stream",
     "text": [
      "100%|██████████| 10/10 [00:03<00:00,  2.75it/s]"
     ]
    },
    {
     "name": "stdout",
     "output_type": "stream",
     "text": [
      "Mean accuracy per mini_batch: 0.495\n"
     ]
    },
    {
     "name": "stderr",
     "output_type": "stream",
     "text": [
      "\n"
     ]
    }
   ],
   "source": [
    "# Score\n",
    "mean_acc = 0.0\n",
    "for mini_batch in tqdm(test_dataloader, total=len(test_dataloader)):\n",
    "    X_test, y_test = mini_batch\n",
    "    X_test = X_test.reshape(X_test.shape[0], -1)\n",
    "    y_pred = evolved_estimator.predict(X_test)\n",
    "\n",
    "    mean_acc += accuracy_score(y_test, y_pred)\n",
    "mean_acc /= len(test_dataloader)\n",
    "\n",
    "print(f\"Mean accuracy per mini_batch: {mean_acc:.3f}\")"
   ]
  },
  {
   "cell_type": "markdown",
   "metadata": {},
   "source": [
    "MLPs didn't yield any good results.\n",
    "\n",
    "Some informations are of note however:\n",
    "\n",
    "- The model was able to learn something from the data as the accuracy was increasing with the number of epochs, however generalization was not good as we lost all progress eveytime we changed the training mini-batch.\n",
    "- Mini-batching seems (obviously) the better approach as it is faster and more efficient, however it reduces our generalization capabilities.\n",
    "- MLPs might be a good approach for this problem but it needs much more computational power and time to train."
   ]
  },
  {
   "cell_type": "markdown",
   "metadata": {},
   "source": [
    "## Conclusion\n",
    "\n",
    "We tried several approaches to obtain better results than the competitors of the competition. However, we were not able to do so.\n",
    "\n",
    "We managed to reproduce the results of the best competitors but we were not able to improve them.\n",
    "\n",
    "Among all our approaches, it seems that MLPs and CNNs are the best.\n",
    "\n",
    "Also, some more research is needed to find a relevant way to encode the data for the models to be able to learn from it.\n",
    "\n",
    "All in all, this was a very interesting project as it was a very hard problem to solve and we learned a lot from it.\n"
   ]
  }
 ],
 "metadata": {
  "kernelspec": {
   "display_name": "Python 3",
   "language": "python",
   "name": "python3"
  },
  "language_info": {
   "codemirror_mode": {
    "name": "ipython",
    "version": 3
   },
   "file_extension": ".py",
   "mimetype": "text/x-python",
   "name": "python",
   "nbconvert_exporter": "python",
   "pygments_lexer": "ipython3",
   "version": "3.10.12"
  }
 },
 "nbformat": 4,
 "nbformat_minor": 4
}
